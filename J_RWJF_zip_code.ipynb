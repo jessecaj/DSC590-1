{
  "cells": [
    {
      "cell_type": "markdown",
      "metadata": {
        "id": "view-in-github",
        "colab_type": "text"
      },
      "source": [
        "<a href=\"https://colab.research.google.com/github/jessecaj/DSC590-1/blob/main/J_RWJF_zip_code.ipynb\" target=\"_parent\"><img src=\"https://colab.research.google.com/assets/colab-badge.svg\" alt=\"Open In Colab\"/></a>"
      ]
    },
    {
      "cell_type": "code",
      "source": [
        "pip install researchpy"
      ],
      "metadata": {
        "colab": {
          "base_uri": "https://localhost:8080/"
        },
        "id": "j_rDb5nOzqDT",
        "outputId": "2550c7e4-f24b-4901-d14d-9498d8f8efca"
      },
      "id": "j_rDb5nOzqDT",
      "execution_count": null,
      "outputs": [
        {
          "output_type": "stream",
          "name": "stdout",
          "text": [
            "Collecting researchpy\n",
            "  Downloading researchpy-0.3.2-py3-none-any.whl (15 kB)\n",
            "Requirement already satisfied: scipy in /usr/local/lib/python3.7/dist-packages (from researchpy) (1.4.1)\n",
            "Requirement already satisfied: patsy in /usr/local/lib/python3.7/dist-packages (from researchpy) (0.5.2)\n",
            "Requirement already satisfied: pandas in /usr/local/lib/python3.7/dist-packages (from researchpy) (1.3.5)\n",
            "Requirement already satisfied: statsmodels in /usr/local/lib/python3.7/dist-packages (from researchpy) (0.10.2)\n",
            "Requirement already satisfied: numpy in /usr/local/lib/python3.7/dist-packages (from researchpy) (1.21.6)\n",
            "Requirement already satisfied: python-dateutil>=2.7.3 in /usr/local/lib/python3.7/dist-packages (from pandas->researchpy) (2.8.2)\n",
            "Requirement already satisfied: pytz>=2017.3 in /usr/local/lib/python3.7/dist-packages (from pandas->researchpy) (2022.1)\n",
            "Requirement already satisfied: six>=1.5 in /usr/local/lib/python3.7/dist-packages (from python-dateutil>=2.7.3->pandas->researchpy) (1.15.0)\n",
            "Installing collected packages: researchpy\n",
            "Successfully installed researchpy-0.3.2\n"
          ]
        }
      ]
    },
    {
      "cell_type": "code",
      "source": [
        "from google.colab import drive\n",
        "drive.mount('/content/drive')"
      ],
      "metadata": {
        "id": "yZicZHFh1FYd",
        "colab": {
          "base_uri": "https://localhost:8080/"
        },
        "outputId": "4f1aedbd-3bee-4f62-867e-967e57d1405c"
      },
      "id": "yZicZHFh1FYd",
      "execution_count": null,
      "outputs": [
        {
          "output_type": "stream",
          "name": "stdout",
          "text": [
            "Mounted at /content/drive\n"
          ]
        }
      ]
    },
    {
      "cell_type": "code",
      "source": [
        "import os\n",
        "os.chdir(\"drive/MyDrive\")"
      ],
      "metadata": {
        "id": "fMtFEA1E1Zzz"
      },
      "id": "fMtFEA1E1Zzz",
      "execution_count": null,
      "outputs": []
    },
    {
      "cell_type": "code",
      "source": [
        "!ls"
      ],
      "metadata": {
        "id": "rHaK1DxA2ehP",
        "colab": {
          "base_uri": "https://localhost:8080/"
        },
        "outputId": "85469076-bc39-422e-aead-ec21f5ec3b71"
      },
      "id": "rHaK1DxA2ehP",
      "execution_count": null,
      "outputs": [
        {
          "output_type": "stream",
          "name": "stdout",
          "text": [
            "'Colab Notebooks'\n",
            "'Copy of DemographicVariableListVote.gsheet'\n",
            "'Copy of Utica_Field_Lookup.xlsx'\n",
            "'Copy of Utica_ZIP_Report_2019.xlsx'\n",
            "'Copy of Utica_ZIP_Report_2020.xlsx'\n",
            "'Copy of Utica_ZIP_Report_2021.xlsx'\n",
            "'Group C Information Assurance Standards Presentation: FISMA.gslides'\n",
            "'Johnson, Jesseca DSC 509 Final Paper Spring B 2022.gdoc'\n",
            " notebook-checkpoint.ipynb\n",
            " notebook.ipynb\n"
          ]
        }
      ]
    },
    {
      "cell_type": "code",
      "source": [
        "import pandas as pd\n",
        "import numpy as np\n",
        "import researchpy as rp\n",
        "import scipy.stats as stats\n",
        "import mlxtend\n",
        "from scipy.stats import zscore"
      ],
      "metadata": {
        "id": "Mwa3MPhV6S5I",
        "colab": {
          "base_uri": "https://localhost:8080/"
        },
        "outputId": "881ed1fb-e463-4b61-b120-5ed180462eec"
      },
      "id": "Mwa3MPhV6S5I",
      "execution_count": null,
      "outputs": [
        {
          "output_type": "stream",
          "name": "stderr",
          "text": [
            "/usr/local/lib/python3.7/dist-packages/statsmodels/tools/_testing.py:19: FutureWarning: pandas.util.testing is deprecated. Use the functions in the public API at pandas.testing instead.\n",
            "  import pandas.util.testing as tm\n"
          ]
        }
      ]
    },
    {
      "cell_type": "code",
      "source": [
        "# Import 2019, 2021 data files and metadata\n",
        "df_2019 = pd.read_excel(r'Copy of Utica_ZIP_Report_2019.xlsx')\n",
        "df_2021 = pd.read_excel(r'Copy of Utica_ZIP_Report_2021.xlsx')\n",
        "df_metadata = pd.read_excel(r'Copy of Utica_Field_Lookup.xlsx')"
      ],
      "metadata": {
        "id": "zLt5qSaj1LX-"
      },
      "id": "zLt5qSaj1LX-",
      "execution_count": null,
      "outputs": []
    },
    {
      "cell_type": "code",
      "execution_count": null,
      "id": "d8c14e54",
      "metadata": {
        "id": "d8c14e54",
        "colab": {
          "base_uri": "https://localhost:8080/"
        },
        "outputId": "f14de559-9f0b-41e8-958d-ce909ea47bef"
      },
      "outputs": [
        {
          "output_type": "stream",
          "name": "stdout",
          "text": [
            "{'DWLCYOCCUP': 'Housing units occupied', 'DWLCYVACNT': 'Housing units vacant', 'DWLCYOWNED': 'Occupied units owner', 'DWLCYRENT': 'Occupied units renter', 'POPCY': 'Population', 'POPCYFAM': 'Population in Family Households', 'AGECY0004': 'Population age 0-4', 'AGECY0509': 'Population age 5-9', 'AGECY1014': 'Population age 10-14', 'AGECY1519': 'Population age 15-19', 'AGECY2024': 'Population age 20-24', 'AGECY2529': 'Population age 25-29', 'AGECY3034': 'Population age 30-34', 'AGECY3539': 'Population age 35-39', 'AGECY4044': 'Population age 40-44', 'AGECY4549': 'Population age 45-49', 'AGECY5054': 'Population age 50-54', 'AGECY5559': 'Population age 55-59', 'AGECY6064': 'Population age 60-64', 'AGECY6569': 'Population age 65-69', 'AGECY7074': 'Population age 70-74', 'AGECY7579': 'Population age 75-79', 'AGECY8084': 'Population age 80-84', 'AGECYGT85': 'Population age 85+', 'AGECYMED': 'Median Age', 'SEXCYMAL': 'Population male', 'SEXCYFEM': 'Population female', 'RACCYWHITE': 'Population white', 'RACCYBLACK': 'Population black', 'RACCYAMIND': 'Population American Indian/Alaska Native', 'RACCYASIAN': 'Population Asian', 'RACCYHAWAI': 'Population Hawaiian/Pacific Islander', 'RACCYOTHER': 'Population other race', 'RACCYMULT': 'Population multirace', 'HISCYHISP': 'Population Hispanic', 'HISCYNONH': 'Population Non-Hispanic', 'RCHCYWHNHS': 'Non Hispanic White', 'RCHCYBLNHS': 'Non Hispanic Black', 'RCHCYAMNHS': 'Non Hispanic American Indian', 'RCHCYASNHS': 'Non Hispanic Asian', 'RCHCYHANHS': 'Non Hispanic Hawaiian/Pacific Islander', 'RCHCYOTNHS': 'Non Hispanic Other Race', 'RCHCYMUNHS': 'Non Hispanic Multiple Race', 'RCHCYWHHIS': 'Hispanic White', 'RCHCYBLHIS': 'Hispanic Black', 'RCHCYAMHIS': 'Hispanic American Indian', 'RCHCYASHIS': 'Hispanic Asian', 'RCHCYHAHIS': 'Hispanic Hawaiian/Pacific Islander', 'RCHCYOTHIS': 'Hispanic Other Race', 'RCHCYMUHIS': 'Hispanic Multiple Race', 'NRPBYTTOT': 'Average Annual Non-Resident Population (2019)', 'NRPBYQ2TOT': 'Q2 Non-Resident Population (2019)', 'NRPBYQ2MIG': 'Q2 Migrant Workers (2019)', 'NRPBYQ2PER': 'Q2 Leisure/Personal Travelers (2019)', 'NRPBYQ2PHO': 'Q2 Leisure Travelers Staying at Hotels (2019)', 'NRPBYQ2FMF': 'Q2 Leisure Travelers Staying with Family/Friends (2019)', 'NRPBYQ2HM2': 'Q2 Leisure Travelers Staying at 2nd Home/Rental (2019)', 'NRPBYQ2CMP': 'Q2 Leisure Travelers Camping (2019)', 'NRPBYQ2RV': 'Q2 Leisure Travelers in Recreational Vehicle (2019)', 'NRPBYQ2HTL': 'Q2 Non-Residents At Hotels (2019)', 'NRPCYQ2TOT': 'Q2 Non-Resident Population', 'NRPCYQ2BUS': 'Q2 Business Travelers', 'NRPCYQ2BSD': 'Q2 Domestic Business Travelers', 'NRPCYQ2BSF': 'Q2 Foreign Business Travelers', 'NRPCYQ2MIG': 'Q2 Migrant Workers', 'NRPCYQ2PER': 'Q2 Leisure/Personal Travelers', 'NRPCYQ2PHO': 'Q2 Leisure Travelers Staying at Hotels', 'NRPCYQ2FMF': 'Q2 Leisure Travelers Staying with Family/Friends', 'NRPCYQ2HM2': 'Q2 Leisure Travelers Staying at 2nd Home/Rental', 'NRPCYQ2CMP': 'Q2 Leisure Travelers Camping', 'NRPCYQ2RV': 'Q2 Leisure Travelers in Recreational Vehicle', 'NRPCYQ2HTL': 'Q2 Non-Residents At Hotels', 'MARCYNEVER': 'Never Married', 'MARCYMARR': 'Now Married', 'MARCYSEP': 'Separated', 'MARCYDIVOR': 'Divorced', 'MARCYWIDOW': 'Widowed', 'AGECYGT15': 'Population Age 15+', 'AGECYGT25': 'Population Age 25+', 'EDUCYLTGR9': 'Pop 25+ less than 9th grade', 'EDUCYSHSCH': 'Pop 25+ 9th-12th grade no diploma', 'EDUCYHSCH': 'Pop 25+ HS graduate', 'EDUCYSCOLL': 'Pop 25+ college no diploma', 'EDUCYASSOC': 'Pop 25+ Associate degree', 'EDUCYBACH': \"Pop 25+ Bachelor's degree\", 'EDUCYGRAD': 'Pop 25+ graduate or prof school degree', 'LBFCYPOP16': 'Population Age 16+', 'LBFCYARM': 'Pop 16+ in Armed Forces', 'LBFCYEMPL': 'Pop 16+ civilian employed', 'LBFCYUNEM': 'Pop 16+ civilian unemployed', 'LBFCYNLF': 'Pop 16+ not in labor force', 'UNECYRATE': 'Unemployment Rate', 'LBFCYLBF': 'Population In Labor Force', 'LBFCYMARM': 'Pop male 16+ in Armed Forces', 'LBFCYMEMPL': 'Pop male 16+ civilian employed', 'LBFCYMNLF': 'Pop male 16+ not in labor force', 'LBFCYMUNEM': 'Pop male 16+ civilian unemployed', 'LBFCYFARM': 'Pop female 16+ in Armed Forces', 'LBFCYFEMPL': 'Pop female 16+ civilian employed', 'LBFCYFNLF': 'Pop female 16+ not in labor force', 'LBFCYFUNEM': 'Pop female 16+ civilian unemployed', 'HHDCY': 'Households', 'HHDCYFAM': 'Family Households', 'HHDCYNFM': 'Non-Family Households', 'HHSCYMCFCH': 'Families married couple w children', 'HHDCYAVESZ': 'Average Household Size', 'FAMCYAVESZ': 'Average Family Size', 'HHDCYMEDAG': 'Median Age of Householder', 'VPHCYNONE': 'Households: No Vehicle Available', 'VPHCY1': 'Households: One Vehicle Available', 'VPHCYGT1': 'Household: 2+ Vehicles Available', 'INCCYAGG': 'Aggegrate Income', 'INCCYAGGHD': 'Aggregate Household Income', 'INCCYAGGFA': 'Aggregate Family Household Income', 'INCCYAGGNF': 'Aggregate Non-Family Household Income', 'INCCYAGGGP': 'Aggregate Group Quarters Income', 'INCCYPCAP': 'Per capita income', 'INCCYMEDHH': 'Median household income', 'INCCYMEDFA': 'Median family income', 'INCCYAVEHH': 'Average household Income', 'INCCYAVEFA': 'Average family income', 'HAOCYTRAN': 'Hhlds Owning Transaction Accounts', 'HDBCYMORT': 'Hhlds Having A Mortgage Debt', 'HDBCYINSTL': 'Hhlds With Installment Payment Debt', 'HDBCYLNCRE': 'Hhlds With Other Lines of Credit Debt', 'HDBCYCRED': 'Hhlds With Credit Card Debt', 'HDBCYIRE': 'Hhlds With Investment Real Estate Debt', 'HDBCYOTHR': 'Hhlds With Other Debt', 'HDBCYANY': 'Hhlds With Any Debt', 'HDDBT40': 'Hhlds With Debt Service >40% Income', 'HDPMTDUE60': 'Hhlds With Payments Overdue 60+ Days', 'HMVCYMORT': 'Average Mortgage Debt', 'HMVCYINSTL': 'Average Installment Loan Debt', 'HMVCYLNCRE': 'Average Lines of Credit Debt', 'HMVCYCREDC': 'Average Credit Card Debt', 'HMVCYDIRE': 'Average Investment Real Estate Debt', 'HMVCYDOTH': 'Average Other Debt', 'HMVCYDANY': 'Average Total Debt', 'WRHCYASS': 'Aggregate Assets', 'WRHCYDBT': 'Aggregate Debts', 'WRHCYAGG': 'Aggregate Net Worth', 'WRHCYAVEHH': 'Average Household Net Worth'}\n"
          ]
        }
      ],
      "source": [
        "# Create metadata dictionary so that we can look up column descriptions at any time\n",
        "metadata_dict = df_metadata.set_index('Variable').to_dict()['Description']\n",
        "print(metadata_dict)"
      ]
    },
    {
      "cell_type": "code",
      "execution_count": null,
      "id": "a9f7b3e0",
      "metadata": {
        "id": "a9f7b3e0"
      },
      "outputs": [],
      "source": [
        "# How to get descriptions from variable names:\n",
        "# DWLCYOCCUP_desc = metadata_dict.get('DWLCYOCCUP')\n",
        "# print(DWLCYOCCUP_desc)"
      ]
    },
    {
      "cell_type": "code",
      "execution_count": null,
      "id": "a6553f24",
      "metadata": {
        "id": "a6553f24"
      },
      "outputs": [],
      "source": [
        "# Isolate NY data only\n",
        "ny_df_2019 = df_2019[df_2019['STATE'] == 'NY']\n",
        "ny_df_2021 = df_2021[df_2021['STATE'] == 'NY']"
      ]
    },
    {
      "cell_type": "code",
      "execution_count": null,
      "id": "5372272d",
      "metadata": {
        "id": "5372272d",
        "colab": {
          "base_uri": "https://localhost:8080/"
        },
        "outputId": "ea3fa3b2-b9ec-423c-8b64-fcc275bf61d3"
      },
      "outputs": [
        {
          "output_type": "stream",
          "name": "stdout",
          "text": [
            "\n",
            "ny_df_2019 shape:\n",
            "(1812, 124)\n",
            "\n",
            "ny_df_2021 shape:\n",
            "(1813, 146)\n"
          ]
        }
      ],
      "source": [
        "# Look at shape of each \n",
        "print(\"\\nny_df_2019 shape:\")\n",
        "print(ny_df_2019.shape)\n",
        "print(\"\\nny_df_2021 shape:\")\n",
        "print(ny_df_2021.shape)"
      ]
    },
    {
      "cell_type": "code",
      "execution_count": null,
      "id": "e09b9dc1",
      "metadata": {
        "id": "e09b9dc1",
        "colab": {
          "base_uri": "https://localhost:8080/"
        },
        "outputId": "3e84ed5a-fe6a-4581-d1a6-89bda41c4f27"
      },
      "outputs": [
        {
          "output_type": "stream",
          "name": "stdout",
          "text": [
            "\n",
            "NY DF 2019 column names:\n",
            "['ZIP Code', 'ZIP Name', 'COUNTY', 'STATE', 'DWLCYOCCUP', 'DWLCYVACNT', 'DWLCYOWNED', 'DWLCYRENT', 'POPCY', 'POPCYFAM', 'AGECY0004', 'AGECY0509', 'AGECY1014', 'AGECY1519', 'AGECY2024', 'AGECY2529', 'AGECY3034', 'AGECY3539', 'AGECY4044', 'AGECY4549', 'AGECY5054', 'AGECY5559', 'AGECY6064', 'AGECY6569', 'AGECY7074', 'AGECY7579', 'AGECY8084', 'AGECYGT85', 'AGECYMED', 'SEXCYMAL', 'SEXCYFEM', 'RACCYWHITE', 'RACCYBLACK', 'RACCYAMIND', 'RACCYASIAN', 'RACCYHAWAI', 'RACCYOTHER', 'RACCYMULT', 'HISCYHISP', 'HISCYNONH', 'RCHCYWHNHS', 'RCHCYBLNHS', 'RCHCYAMNHS', 'RCHCYASNHS', 'RCHCYHANHS', 'RCHCYOTNHS', 'RCHCYMUNHS', 'RCHCYWHHIS', 'RCHCYBLHIS', 'RCHCYAMHIS', 'RCHCYASHIS', 'RCHCYHAHIS', 'RCHCYOTHIS', 'RCHCYMUHIS', 'MARCYNEVER', 'MARCYMARR', 'MARCYSEP', 'MARCYDIVOR', 'MARCYWIDOW', 'AGECYGT15', 'AGECYGT25', 'EDUCYLTGR9', 'EDUCYSHSCH', 'EDUCYHSCH', 'EDUCYSCOLL', 'EDUCYASSOC', 'EDUCYBACH', 'EDUCYGRAD', 'LBFCYPOP16', 'LBFCYARM', 'LBFCYEMPL', 'LBFCYUNEM', 'LBFCYNLF', 'UNECYRATE', 'LBFCYLBF', 'LBFCYMARM', 'LBFCYMEMPL', 'LBFCYMNLF', 'LBFCYMUNEM', 'LBFCYFARM', 'LBFCYFEMPL', 'LBFCYFNLF', 'LBFCYFUNEM', 'HHDCY', 'HHDCYFAM', 'HHDCYNFM', 'HHSCYMCFCH', 'HHDCYAVESZ', 'FAMCYAVESZ', 'HHDCYMEDAG', 'VPHCYNONE', 'VPHCY1', 'VPHCYGT1', 'INCCYAGG', 'INCCYAGGHD', 'INCCYAGGFA', 'INCCYAGGNF', 'INCCYAGGGP', 'INCCYPCAP', 'INCCYMEDHH', 'INCCYMEDFA', 'INCCYAVEHH', 'INCCYAVEFA', 'HAOCYTRAN', 'HDBCYMORT', 'HDBCYINSTL', 'HDBCYLNCRE', 'HDBCYCRED', 'HDBCYIRE', 'HDBCYOTHR', 'HDBCYANY', 'HDDBT40', 'HDPMTDUE60', 'HMVCYMORT', 'HMVCYINSTL', 'HMVCYLNCRE', 'HMVCYCREDC', 'HMVCYDIRE', 'HMVCYDOTH', 'HMVCYDANY', 'WRHCYASS', 'WRHCYDBT', 'WRHCYAGG', 'WRHCYAVEHH']\n",
            "\n",
            "NY DF 2021 column names:\n",
            "['ZIP Code', 'ZIP Name', 'COUNTY', 'STATE', 'DWLCYOCCUP', 'DWLCYVACNT', 'DWLCYOWNED', 'DWLCYRENT', 'POPCY', 'POPCYFAM', 'AGECY0004', 'AGECY0509', 'AGECY1014', 'AGECY1519', 'AGECY2024', 'AGECY2529', 'AGECY3034', 'AGECY3539', 'AGECY4044', 'AGECY4549', 'AGECY5054', 'AGECY5559', 'AGECY6064', 'AGECY6569', 'AGECY7074', 'AGECY7579', 'AGECY8084', 'AGECYGT85', 'AGECYMED', 'SEXCYMAL', 'SEXCYFEM', 'RACCYWHITE', 'RACCYBLACK', 'RACCYAMIND', 'RACCYASIAN', 'RACCYHAWAI', 'RACCYOTHER', 'RACCYMULT', 'HISCYHISP', 'HISCYNONH', 'RCHCYWHNHS', 'RCHCYBLNHS', 'RCHCYAMNHS', 'RCHCYASNHS', 'RCHCYHANHS', 'RCHCYOTNHS', 'RCHCYMUNHS', 'RCHCYWHHIS', 'RCHCYBLHIS', 'RCHCYAMHIS', 'RCHCYASHIS', 'RCHCYHAHIS', 'RCHCYOTHIS', 'RCHCYMUHIS', 'NRPBYTTOT', 'NRPBYQ2TOT', 'NRPBYQ2MIG', 'NRPBYQ2PER', 'NRPBYQ2PHO', 'NRPBYQ2FMF', 'NRPBYQ2HM2', 'NRPBYQ2CMP', 'NRPBYQ2RV', 'NRPBYQ2HTL', 'NRPCYQ2TOT', 'NRPCYQ2BUS', 'NRPCYQ2BSD', 'NRPCYQ2BSF', 'NRPCYQ2MIG', 'NRPCYQ2PER', 'NRPCYQ2PHO', 'NRPCYQ2FMF', 'NRPCYQ2HM2', 'NRPCYQ2CMP', 'NRPCYQ2RV', 'NRPCYQ2HTL', 'MARCYNEVER', 'MARCYMARR', 'MARCYSEP', 'MARCYDIVOR', 'MARCYWIDOW', 'AGECYGT15', 'AGECYGT25', 'EDUCYLTGR9', 'EDUCYSHSCH', 'EDUCYHSCH', 'EDUCYSCOLL', 'EDUCYASSOC', 'EDUCYBACH', 'EDUCYGRAD', 'LBFCYPOP16', 'LBFCYARM', 'LBFCYEMPL', 'LBFCYUNEM', 'LBFCYNLF', 'UNECYRATE', 'LBFCYLBF', 'LBFCYMARM', 'LBFCYMEMPL', 'LBFCYMNLF', 'LBFCYMUNEM', 'LBFCYFARM', 'LBFCYFEMPL', 'LBFCYFNLF', 'LBFCYFUNEM', 'HHDCY', 'HHDCYFAM', 'HHDCYNFM', 'HHSCYMCFCH', 'HHDCYAVESZ', 'FAMCYAVESZ', 'HHDCYMEDAG', 'VPHCYNONE', 'VPHCY1', 'VPHCYGT1', 'INCCYAGG', 'INCCYAGGHD', 'INCCYAGGFA', 'INCCYAGGNF', 'INCCYAGGGP', 'INCCYPCAP', 'INCCYMEDHH', 'INCCYMEDFA', 'INCCYAVEHH', 'INCCYAVEFA', 'HAOCYTRAN', 'HDBCYMORT', 'HDBCYINSTL', 'HDBCYLNCRE', 'HDBCYCRED', 'HDBCYIRE', 'HDBCYOTHR', 'HDBCYANY', 'HDDBT40', 'HDPMTDUE60', 'HMVCYMORT', 'HMVCYINSTL', 'HMVCYLNCRE', 'HMVCYCREDC', 'HMVCYDIRE', 'HMVCYDOTH', 'HMVCYDANY', 'WRHCYASS', 'WRHCYDBT', 'WRHCYAGG', 'WRHCYAVEHH']\n"
          ]
        }
      ],
      "source": [
        "# Need to figure out which columns ny_df_2021 has that ny_df_2019 does not\n",
        "# Make list of each\n",
        "\n",
        "print(\"\\nNY DF 2019 column names:\")\n",
        "ny_varNames_2019 = list(ny_df_2019.columns)\n",
        "print(ny_varNames_2019)\n",
        "\n",
        "print(\"\\nNY DF 2021 column names:\")\n",
        "ny_varNames_2021 = list(ny_df_2021.columns)\n",
        "print(ny_varNames_2021)"
      ]
    },
    {
      "cell_type": "code",
      "execution_count": null,
      "id": "03e5ce57",
      "metadata": {
        "scrolled": true,
        "id": "03e5ce57",
        "colab": {
          "base_uri": "https://localhost:8080/"
        },
        "outputId": "32e01f21-90c4-4717-b5e6-a69359ed5fde"
      },
      "outputs": [
        {
          "output_type": "stream",
          "name": "stdout",
          "text": [
            "['NRPBYTTOT', 'NRPBYQ2FMF', 'NRPCYQ2PER', 'NRPCYQ2RV', 'NRPCYQ2PHO', 'NRPCYQ2HM2', 'NRPCYQ2MIG', 'NRPBYQ2TOT', 'NRPBYQ2CMP', 'NRPBYQ2HM2', 'NRPBYQ2MIG', 'NRPCYQ2CMP', 'NRPBYQ2PHO', 'NRPBYQ2PER', 'NRPCYQ2TOT', 'NRPBYQ2RV', 'NRPCYQ2BUS', 'NRPCYQ2FMF', 'NRPCYQ2HTL', 'NRPCYQ2BSD', 'NRPBYQ2HTL', 'NRPCYQ2BSF']\n"
          ]
        }
      ],
      "source": [
        "# Print list of columns that are present in the 2021 NY data but not in 2019 NY data\n",
        "ny_2019_2021_differences = list(set(ny_df_2021).difference(ny_df_2019))\n",
        "print(ny_2019_2021_differences)"
      ]
    },
    {
      "cell_type": "code",
      "execution_count": null,
      "id": "285d9bbd",
      "metadata": {
        "id": "285d9bbd",
        "colab": {
          "base_uri": "https://localhost:8080/"
        },
        "outputId": "a4f19c31-4f89-447d-d762-c27e0114302c"
      },
      "outputs": [
        {
          "output_type": "stream",
          "name": "stdout",
          "text": [
            "NRPBYTTOT Average Annual Non-Resident Population (2019)\n",
            "NRPBYQ2FMF Q2 Leisure Travelers Staying with Family/Friends (2019)\n",
            "NRPCYQ2PER Q2 Leisure/Personal Travelers\n",
            "NRPCYQ2RV Q2 Leisure Travelers in Recreational Vehicle\n",
            "NRPCYQ2PHO Q2 Leisure Travelers Staying at Hotels\n",
            "NRPCYQ2HM2 Q2 Leisure Travelers Staying at 2nd Home/Rental\n",
            "NRPCYQ2MIG Q2 Migrant Workers\n",
            "NRPBYQ2TOT Q2 Non-Resident Population (2019)\n",
            "NRPBYQ2CMP Q2 Leisure Travelers Camping (2019)\n",
            "NRPBYQ2HM2 Q2 Leisure Travelers Staying at 2nd Home/Rental (2019)\n",
            "NRPBYQ2MIG Q2 Migrant Workers (2019)\n",
            "NRPCYQ2CMP Q2 Leisure Travelers Camping\n",
            "NRPBYQ2PHO Q2 Leisure Travelers Staying at Hotels (2019)\n",
            "NRPBYQ2PER Q2 Leisure/Personal Travelers (2019)\n",
            "NRPCYQ2TOT Q2 Non-Resident Population\n",
            "NRPBYQ2RV Q2 Leisure Travelers in Recreational Vehicle (2019)\n",
            "NRPCYQ2BUS Q2 Business Travelers\n",
            "NRPCYQ2FMF Q2 Leisure Travelers Staying with Family/Friends\n",
            "NRPCYQ2HTL Q2 Non-Residents At Hotels\n",
            "NRPCYQ2BSD Q2 Domestic Business Travelers\n",
            "NRPBYQ2HTL Q2 Non-Residents At Hotels (2019)\n",
            "NRPCYQ2BSF Q2 Foreign Business Travelers\n"
          ]
        }
      ],
      "source": [
        "# Get all descriptions for columns missing from ny_df_2019\n",
        "for x in ny_2019_2021_differences:\n",
        "        print(x, metadata_dict.get(x))"
      ]
    },
    {
      "cell_type": "code",
      "execution_count": null,
      "id": "4a1d5299",
      "metadata": {
        "id": "4a1d5299"
      },
      "outputs": [],
      "source": [
        "# Since the data missing from 2019 is about travelers, and we are not concerned with that info, it can safely be\n",
        "# ignored"
      ]
    },
    {
      "cell_type": "code",
      "execution_count": null,
      "id": "748b390d",
      "metadata": {
        "id": "748b390d",
        "colab": {
          "base_uri": "https://localhost:8080/"
        },
        "outputId": "8f120d34-02c5-4ae6-9102-cae65cfd804b"
      },
      "outputs": [
        {
          "output_type": "stream",
          "name": "stdout",
          "text": [
            "Variable: INCCYMEDHH    Data Type: int64 \n",
            "\n",
            " Number of Obs.: 1812 \n",
            " Number of missing obs.: 0 \n",
            " Percent missing: 0.0 \n",
            " Number of unique values: 1695 \n",
            "\n",
            " Range: [0, 250297] \n",
            " Mean: 69833.54 \n",
            " Standard Deviation: 32016.11 \n",
            " Mode: 0 \n",
            " 10th Percentile: 43182.3 \n",
            " 25th Percentile: 54213.25 \n",
            " 50th Percentile: 63741.0 \n",
            " 75th Percentile: 82306.75 \n",
            " 90th Percentile: 110558.1 \n",
            "\n",
            "\n",
            "\n",
            "\n",
            "\n"
          ]
        }
      ],
      "source": [
        "# Get descriptive stats for key variables\n",
        "# INCCYMEDHH - Median Household Income\n",
        "# HMVCYCREDC - Avg credit card debt\n",
        "\n",
        "rp.codebook(ny_df_2019['INCCYMEDHH'])"
      ]
    },
    {
      "cell_type": "code",
      "execution_count": null,
      "id": "c726ff5b",
      "metadata": {
        "id": "c726ff5b",
        "colab": {
          "base_uri": "https://localhost:8080/"
        },
        "outputId": "fe44b345-6030-4f57-bad1-fbf8b4e7c198"
      },
      "outputs": [
        {
          "output_type": "stream",
          "name": "stdout",
          "text": [
            "Variable: INCCYMEDHH    Data Type: int64 \n",
            "\n",
            " Number of Obs.: 1813 \n",
            " Number of missing obs.: 0 \n",
            " Percent missing: 0.0 \n",
            " Number of unique values: 1700 \n",
            "\n",
            " Range: [0, 350000] \n",
            " Mean: 73773.32 \n",
            " Standard Deviation: 35968.62 \n",
            " Mode: 0 \n",
            " 10th Percentile: 45701.4 \n",
            " 25th Percentile: 56375.0 \n",
            " 50th Percentile: 66216.0 \n",
            " 75th Percentile: 86268.0 \n",
            " 90th Percentile: 117660.39999999998 \n",
            "\n",
            "\n",
            "\n",
            "\n",
            "\n"
          ]
        }
      ],
      "source": [
        "rp.codebook(ny_df_2021['INCCYMEDHH'])"
      ]
    },
    {
      "cell_type": "code",
      "execution_count": null,
      "id": "ea2b26be",
      "metadata": {
        "id": "ea2b26be",
        "colab": {
          "base_uri": "https://localhost:8080/"
        },
        "outputId": "8086340a-4eff-44c9-b7e6-87e407308471"
      },
      "outputs": [
        {
          "output_type": "stream",
          "name": "stdout",
          "text": [
            "Mean Median Household Income in 2019: 69833.54\n",
            "Mean Median Household Income in 2021: 73773.32\n",
            "\n",
            "Raw difference:\n",
            "3939.7800000000134\n",
            "\n",
            "Percent difference:\n",
            "5.641673041349492\n",
            "\n",
            "Mean Median Household Income increased 5.64% from 2019 to 2021\n"
          ]
        }
      ],
      "source": [
        "INCCYMEDHH_raw_diff = 73773.32-69833.54\n",
        "INCCYMEDHH_pct_diff = (INCCYMEDHH_raw_diff / 69833.54)*100\n",
        "print(\"Mean Median Household Income in 2019: 69833.54\")\n",
        "print(\"Mean Median Household Income in 2021: 73773.32\")\n",
        "print(\"\\nRaw difference:\")\n",
        "print(INCCYMEDHH_raw_diff)\n",
        "print(\"\\nPercent difference:\")\n",
        "print(INCCYMEDHH_pct_diff)\n",
        "print(\"\\nMean Median Household Income increased 5.64% from 2019 to 2021\")"
      ]
    },
    {
      "cell_type": "code",
      "execution_count": null,
      "id": "d488295e",
      "metadata": {
        "id": "d488295e",
        "colab": {
          "base_uri": "https://localhost:8080/"
        },
        "outputId": "02e7af2a-08b6-4b61-a62a-8ae7758725cf"
      },
      "outputs": [
        {
          "output_type": "stream",
          "name": "stdout",
          "text": [
            "Variable: HMVCYCREDC    Data Type: int64 \n",
            "\n",
            " Number of Obs.: 1812 \n",
            " Number of missing obs.: 0 \n",
            " Percent missing: 0.0 \n",
            " Number of unique values: 1081 \n",
            "\n",
            " Range: [0, 4854] \n",
            " Mean: 2775.33 \n",
            " Standard Deviation: 794.22 \n",
            " Mode: 0 \n",
            " 10th Percentile: 2263.1 \n",
            " 25th Percentile: 2558.0 \n",
            " 50th Percentile: 2811.5 \n",
            " 75th Percentile: 3218.75 \n",
            " 90th Percentile: 3607.9 \n",
            "\n",
            "\n",
            "\n",
            "\n",
            "\n"
          ]
        }
      ],
      "source": [
        "rp.codebook(ny_df_2019['HMVCYCREDC'])"
      ]
    },
    {
      "cell_type": "code",
      "execution_count": null,
      "id": "01143aa6",
      "metadata": {
        "id": "01143aa6",
        "colab": {
          "base_uri": "https://localhost:8080/"
        },
        "outputId": "80ae95a8-f024-4114-ac6e-49a683190aed"
      },
      "outputs": [
        {
          "output_type": "stream",
          "name": "stdout",
          "text": [
            "Variable: HMVCYCREDC    Data Type: int64 \n",
            "\n",
            " Number of Obs.: 1813 \n",
            " Number of missing obs.: 0 \n",
            " Percent missing: 0.0 \n",
            " Number of unique values: 1082 \n",
            "\n",
            " Range: [0, 4708] \n",
            " Mean: 2689.47 \n",
            " Standard Deviation: 777.61 \n",
            " Mode: 0 \n",
            " 10th Percentile: 2147.2 \n",
            " 25th Percentile: 2429.0 \n",
            " 50th Percentile: 2698.0 \n",
            " 75th Percentile: 3133.0 \n",
            " 90th Percentile: 3557.6 \n",
            "\n",
            "\n",
            "\n",
            "\n",
            "\n"
          ]
        }
      ],
      "source": [
        "rp.codebook(ny_df_2021['HMVCYCREDC'])"
      ]
    },
    {
      "cell_type": "code",
      "execution_count": null,
      "id": "d7dcd7e0",
      "metadata": {
        "id": "d7dcd7e0",
        "colab": {
          "base_uri": "https://localhost:8080/"
        },
        "outputId": "04941de6-1844-4df4-8d91-bfb46c69deb5"
      },
      "outputs": [
        {
          "output_type": "stream",
          "name": "stdout",
          "text": [
            "Mean Average Credit Card Debt in 2019: 2775.33\n",
            "Mean Average Credit Card Debt in 2021: 2689.47\n",
            "\n",
            "Raw difference:\n",
            "-85.86000000000013\n",
            "\n",
            "Percent difference:\n",
            "-3.1924505571729793\n",
            "\n",
            "Average credit card debt decreased 3.19% from 2019 to 2021\n"
          ]
        }
      ],
      "source": [
        "HMVCYCREDC_raw_diff = 2689.47 - 2775.33\n",
        "HMVCYCREDC_pct_diff = (HMVCYCREDC_raw_diff / 2689.47)*100\n",
        "print(\"Mean Average Credit Card Debt in 2019: 2775.33\")\n",
        "print(\"Mean Average Credit Card Debt in 2021: 2689.47\")\n",
        "print(\"\\nRaw difference:\")\n",
        "print(HMVCYCREDC_raw_diff)\n",
        "print(\"\\nPercent difference:\")\n",
        "print(HMVCYCREDC_pct_diff)\n",
        "print(\"\\nAverage credit card debt decreased 3.19% from 2019 to 2021\")"
      ]
    },
    {
      "cell_type": "code",
      "execution_count": null,
      "id": "2b96cf46",
      "metadata": {
        "id": "2b96cf46"
      },
      "outputs": [],
      "source": [
        "# Make copies of datasets to join\n",
        "ny_df_2019_copy = ny_df_2019.copy()\n",
        "ny_df_2021_copy = ny_df_2021.copy()"
      ]
    },
    {
      "cell_type": "code",
      "execution_count": null,
      "id": "1dbfc785",
      "metadata": {
        "id": "1dbfc785"
      },
      "outputs": [],
      "source": [
        "ny_df_2019_copy = ny_df_2019_copy.add_suffix('_2019')\n",
        "ny_df_2021_copy = ny_df_2021_copy.add_suffix('_2021')"
      ]
    },
    {
      "cell_type": "code",
      "execution_count": null,
      "id": "b340e6f8",
      "metadata": {
        "id": "b340e6f8"
      },
      "outputs": [],
      "source": [
        "# Rename zip code vars since that's what we're joining on\n",
        "ny_df_2019_copy = ny_df_2019_copy.rename(columns={'ZIP Code_2019': 'ZIP_Code'})\n",
        "ny_df_2021_copy = ny_df_2021_copy.rename(columns={'ZIP Code_2021': 'ZIP_Code'})"
      ]
    },
    {
      "cell_type": "code",
      "execution_count": null,
      "id": "52dfb021",
      "metadata": {
        "scrolled": false,
        "id": "52dfb021",
        "colab": {
          "base_uri": "https://localhost:8080/",
          "height": 522
        },
        "outputId": "fae6c82d-7743-4970-a468-0cf574a2ad11"
      },
      "outputs": [
        {
          "output_type": "execute_result",
          "data": {
            "text/plain": [
              "      ZIP_Code   ZIP Name_2019 COUNTY_2019 STATE_2019  DWLCYOCCUP_2019  \\\n",
              "0         6390  FISHERS ISLAND     SUFFOLK         NY              126   \n",
              "1        10001        NEW YORK    NEW YORK         NY            16525   \n",
              "2        10002        NEW YORK    NEW YORK         NY            35124   \n",
              "3        10003        NEW YORK    NEW YORK         NY            30780   \n",
              "4        10004        NEW YORK    NEW YORK         NY             2265   \n",
              "...        ...             ...         ...        ...              ...   \n",
              "1807     14898        WOODHULL     STEUBEN         NY              604   \n",
              "1808     14901          ELMIRA     CHEMUNG         NY             5894   \n",
              "1809     14903          ELMIRA     CHEMUNG         NY             3403   \n",
              "1810     14904          ELMIRA     CHEMUNG         NY             6754   \n",
              "1811     14905          ELMIRA     CHEMUNG         NY             3795   \n",
              "\n",
              "      DWLCYVACNT_2019  DWLCYOWNED_2019  DWLCYRENT_2019  POPCY_2019  \\\n",
              "0                 454               60              66         248   \n",
              "1                1010             3369           13156       28740   \n",
              "2                1477             5321           29803       82868   \n",
              "3                2327             9026           21754       57643   \n",
              "4                 383              361            1904        4300   \n",
              "...               ...              ...             ...         ...   \n",
              "1807              170              508              95        1638   \n",
              "1808              806             2758            3136       14236   \n",
              "1809              241             2172            1231        8595   \n",
              "1810              588             4048            2706       15216   \n",
              "1811              301             2553            1242        8085   \n",
              "\n",
              "      POPCYFAM_2019  ...  HMVCYINSTL_2021  HMVCYLNCRE_2021  HMVCYCREDC_2021  \\\n",
              "0               182  ...            14152              913             2909   \n",
              "1             13398  ...            15681             2181             3231   \n",
              "2             59995  ...            11503              773             2200   \n",
              "3             17548  ...            16665             2646             3466   \n",
              "4              2735  ...            19814             4224             4201   \n",
              "...             ...  ...              ...              ...              ...   \n",
              "1807           1424  ...            12030              293             2405   \n",
              "1808           9401  ...            10278              249             1916   \n",
              "1809           5800  ...            12767              585             2573   \n",
              "1810          11756  ...            11333              184             2209   \n",
              "1811           6161  ...            12966              651             2614   \n",
              "\n",
              "      HMVCYDIRE_2021  HMVCYDOTH_2021  HMVCYDANY_2021  WRHCYASS_2021  \\\n",
              "0              10780            1410          111022      102571981   \n",
              "1              23867            3165          172475    28522061919   \n",
              "2               9571            1558           91584    30991811079   \n",
              "3              28328            3672          194950    66721902584   \n",
              "4              43646            5521          272375     5572594141   \n",
              "...              ...             ...             ...            ...   \n",
              "1807            5183             846           78352      235454915   \n",
              "1808            4233             910           63366     2180463339   \n",
              "1809            8138            1233           94818     2258253471   \n",
              "1810            3980             771           69430     2405463747   \n",
              "1811            9093            1331           99634     2749157064   \n",
              "\n",
              "      WRHCYDBT_2021  WRHCYAGG_2021  WRHCYAVEHH_2021  \n",
              "0          12434516       90137466           804799  \n",
              "1        2574211834    25947850084          1738529  \n",
              "2        3558034832    27433776250           706144  \n",
              "3        5744824221    60977078360          2069255  \n",
              "4         437643994     5134950148          3195827  \n",
              "...             ...            ...              ...  \n",
              "1807       40583504      194871411           376228  \n",
              "1808      358887298     1821576041           321620  \n",
              "1809      313027903     1945225571           589219  \n",
              "1810      461895666     1943568081           292148  \n",
              "1811      365463998     2383693065           649853  \n",
              "\n",
              "[1812 rows x 269 columns]"
            ],
            "text/html": [
              "\n",
              "  <div id=\"df-4987b3c7-90c4-4c52-bdb3-62169477bf91\">\n",
              "    <div class=\"colab-df-container\">\n",
              "      <div>\n",
              "<style scoped>\n",
              "    .dataframe tbody tr th:only-of-type {\n",
              "        vertical-align: middle;\n",
              "    }\n",
              "\n",
              "    .dataframe tbody tr th {\n",
              "        vertical-align: top;\n",
              "    }\n",
              "\n",
              "    .dataframe thead th {\n",
              "        text-align: right;\n",
              "    }\n",
              "</style>\n",
              "<table border=\"1\" class=\"dataframe\">\n",
              "  <thead>\n",
              "    <tr style=\"text-align: right;\">\n",
              "      <th></th>\n",
              "      <th>ZIP_Code</th>\n",
              "      <th>ZIP Name_2019</th>\n",
              "      <th>COUNTY_2019</th>\n",
              "      <th>STATE_2019</th>\n",
              "      <th>DWLCYOCCUP_2019</th>\n",
              "      <th>DWLCYVACNT_2019</th>\n",
              "      <th>DWLCYOWNED_2019</th>\n",
              "      <th>DWLCYRENT_2019</th>\n",
              "      <th>POPCY_2019</th>\n",
              "      <th>POPCYFAM_2019</th>\n",
              "      <th>...</th>\n",
              "      <th>HMVCYINSTL_2021</th>\n",
              "      <th>HMVCYLNCRE_2021</th>\n",
              "      <th>HMVCYCREDC_2021</th>\n",
              "      <th>HMVCYDIRE_2021</th>\n",
              "      <th>HMVCYDOTH_2021</th>\n",
              "      <th>HMVCYDANY_2021</th>\n",
              "      <th>WRHCYASS_2021</th>\n",
              "      <th>WRHCYDBT_2021</th>\n",
              "      <th>WRHCYAGG_2021</th>\n",
              "      <th>WRHCYAVEHH_2021</th>\n",
              "    </tr>\n",
              "  </thead>\n",
              "  <tbody>\n",
              "    <tr>\n",
              "      <th>0</th>\n",
              "      <td>6390</td>\n",
              "      <td>FISHERS ISLAND</td>\n",
              "      <td>SUFFOLK</td>\n",
              "      <td>NY</td>\n",
              "      <td>126</td>\n",
              "      <td>454</td>\n",
              "      <td>60</td>\n",
              "      <td>66</td>\n",
              "      <td>248</td>\n",
              "      <td>182</td>\n",
              "      <td>...</td>\n",
              "      <td>14152</td>\n",
              "      <td>913</td>\n",
              "      <td>2909</td>\n",
              "      <td>10780</td>\n",
              "      <td>1410</td>\n",
              "      <td>111022</td>\n",
              "      <td>102571981</td>\n",
              "      <td>12434516</td>\n",
              "      <td>90137466</td>\n",
              "      <td>804799</td>\n",
              "    </tr>\n",
              "    <tr>\n",
              "      <th>1</th>\n",
              "      <td>10001</td>\n",
              "      <td>NEW YORK</td>\n",
              "      <td>NEW YORK</td>\n",
              "      <td>NY</td>\n",
              "      <td>16525</td>\n",
              "      <td>1010</td>\n",
              "      <td>3369</td>\n",
              "      <td>13156</td>\n",
              "      <td>28740</td>\n",
              "      <td>13398</td>\n",
              "      <td>...</td>\n",
              "      <td>15681</td>\n",
              "      <td>2181</td>\n",
              "      <td>3231</td>\n",
              "      <td>23867</td>\n",
              "      <td>3165</td>\n",
              "      <td>172475</td>\n",
              "      <td>28522061919</td>\n",
              "      <td>2574211834</td>\n",
              "      <td>25947850084</td>\n",
              "      <td>1738529</td>\n",
              "    </tr>\n",
              "    <tr>\n",
              "      <th>2</th>\n",
              "      <td>10002</td>\n",
              "      <td>NEW YORK</td>\n",
              "      <td>NEW YORK</td>\n",
              "      <td>NY</td>\n",
              "      <td>35124</td>\n",
              "      <td>1477</td>\n",
              "      <td>5321</td>\n",
              "      <td>29803</td>\n",
              "      <td>82868</td>\n",
              "      <td>59995</td>\n",
              "      <td>...</td>\n",
              "      <td>11503</td>\n",
              "      <td>773</td>\n",
              "      <td>2200</td>\n",
              "      <td>9571</td>\n",
              "      <td>1558</td>\n",
              "      <td>91584</td>\n",
              "      <td>30991811079</td>\n",
              "      <td>3558034832</td>\n",
              "      <td>27433776250</td>\n",
              "      <td>706144</td>\n",
              "    </tr>\n",
              "    <tr>\n",
              "      <th>3</th>\n",
              "      <td>10003</td>\n",
              "      <td>NEW YORK</td>\n",
              "      <td>NEW YORK</td>\n",
              "      <td>NY</td>\n",
              "      <td>30780</td>\n",
              "      <td>2327</td>\n",
              "      <td>9026</td>\n",
              "      <td>21754</td>\n",
              "      <td>57643</td>\n",
              "      <td>17548</td>\n",
              "      <td>...</td>\n",
              "      <td>16665</td>\n",
              "      <td>2646</td>\n",
              "      <td>3466</td>\n",
              "      <td>28328</td>\n",
              "      <td>3672</td>\n",
              "      <td>194950</td>\n",
              "      <td>66721902584</td>\n",
              "      <td>5744824221</td>\n",
              "      <td>60977078360</td>\n",
              "      <td>2069255</td>\n",
              "    </tr>\n",
              "    <tr>\n",
              "      <th>4</th>\n",
              "      <td>10004</td>\n",
              "      <td>NEW YORK</td>\n",
              "      <td>NEW YORK</td>\n",
              "      <td>NY</td>\n",
              "      <td>2265</td>\n",
              "      <td>383</td>\n",
              "      <td>361</td>\n",
              "      <td>1904</td>\n",
              "      <td>4300</td>\n",
              "      <td>2735</td>\n",
              "      <td>...</td>\n",
              "      <td>19814</td>\n",
              "      <td>4224</td>\n",
              "      <td>4201</td>\n",
              "      <td>43646</td>\n",
              "      <td>5521</td>\n",
              "      <td>272375</td>\n",
              "      <td>5572594141</td>\n",
              "      <td>437643994</td>\n",
              "      <td>5134950148</td>\n",
              "      <td>3195827</td>\n",
              "    </tr>\n",
              "    <tr>\n",
              "      <th>...</th>\n",
              "      <td>...</td>\n",
              "      <td>...</td>\n",
              "      <td>...</td>\n",
              "      <td>...</td>\n",
              "      <td>...</td>\n",
              "      <td>...</td>\n",
              "      <td>...</td>\n",
              "      <td>...</td>\n",
              "      <td>...</td>\n",
              "      <td>...</td>\n",
              "      <td>...</td>\n",
              "      <td>...</td>\n",
              "      <td>...</td>\n",
              "      <td>...</td>\n",
              "      <td>...</td>\n",
              "      <td>...</td>\n",
              "      <td>...</td>\n",
              "      <td>...</td>\n",
              "      <td>...</td>\n",
              "      <td>...</td>\n",
              "      <td>...</td>\n",
              "    </tr>\n",
              "    <tr>\n",
              "      <th>1807</th>\n",
              "      <td>14898</td>\n",
              "      <td>WOODHULL</td>\n",
              "      <td>STEUBEN</td>\n",
              "      <td>NY</td>\n",
              "      <td>604</td>\n",
              "      <td>170</td>\n",
              "      <td>508</td>\n",
              "      <td>95</td>\n",
              "      <td>1638</td>\n",
              "      <td>1424</td>\n",
              "      <td>...</td>\n",
              "      <td>12030</td>\n",
              "      <td>293</td>\n",
              "      <td>2405</td>\n",
              "      <td>5183</td>\n",
              "      <td>846</td>\n",
              "      <td>78352</td>\n",
              "      <td>235454915</td>\n",
              "      <td>40583504</td>\n",
              "      <td>194871411</td>\n",
              "      <td>376228</td>\n",
              "    </tr>\n",
              "    <tr>\n",
              "      <th>1808</th>\n",
              "      <td>14901</td>\n",
              "      <td>ELMIRA</td>\n",
              "      <td>CHEMUNG</td>\n",
              "      <td>NY</td>\n",
              "      <td>5894</td>\n",
              "      <td>806</td>\n",
              "      <td>2758</td>\n",
              "      <td>3136</td>\n",
              "      <td>14236</td>\n",
              "      <td>9401</td>\n",
              "      <td>...</td>\n",
              "      <td>10278</td>\n",
              "      <td>249</td>\n",
              "      <td>1916</td>\n",
              "      <td>4233</td>\n",
              "      <td>910</td>\n",
              "      <td>63366</td>\n",
              "      <td>2180463339</td>\n",
              "      <td>358887298</td>\n",
              "      <td>1821576041</td>\n",
              "      <td>321620</td>\n",
              "    </tr>\n",
              "    <tr>\n",
              "      <th>1809</th>\n",
              "      <td>14903</td>\n",
              "      <td>ELMIRA</td>\n",
              "      <td>CHEMUNG</td>\n",
              "      <td>NY</td>\n",
              "      <td>3403</td>\n",
              "      <td>241</td>\n",
              "      <td>2172</td>\n",
              "      <td>1231</td>\n",
              "      <td>8595</td>\n",
              "      <td>5800</td>\n",
              "      <td>...</td>\n",
              "      <td>12767</td>\n",
              "      <td>585</td>\n",
              "      <td>2573</td>\n",
              "      <td>8138</td>\n",
              "      <td>1233</td>\n",
              "      <td>94818</td>\n",
              "      <td>2258253471</td>\n",
              "      <td>313027903</td>\n",
              "      <td>1945225571</td>\n",
              "      <td>589219</td>\n",
              "    </tr>\n",
              "    <tr>\n",
              "      <th>1810</th>\n",
              "      <td>14904</td>\n",
              "      <td>ELMIRA</td>\n",
              "      <td>CHEMUNG</td>\n",
              "      <td>NY</td>\n",
              "      <td>6754</td>\n",
              "      <td>588</td>\n",
              "      <td>4048</td>\n",
              "      <td>2706</td>\n",
              "      <td>15216</td>\n",
              "      <td>11756</td>\n",
              "      <td>...</td>\n",
              "      <td>11333</td>\n",
              "      <td>184</td>\n",
              "      <td>2209</td>\n",
              "      <td>3980</td>\n",
              "      <td>771</td>\n",
              "      <td>69430</td>\n",
              "      <td>2405463747</td>\n",
              "      <td>461895666</td>\n",
              "      <td>1943568081</td>\n",
              "      <td>292148</td>\n",
              "    </tr>\n",
              "    <tr>\n",
              "      <th>1811</th>\n",
              "      <td>14905</td>\n",
              "      <td>ELMIRA</td>\n",
              "      <td>CHEMUNG</td>\n",
              "      <td>NY</td>\n",
              "      <td>3795</td>\n",
              "      <td>301</td>\n",
              "      <td>2553</td>\n",
              "      <td>1242</td>\n",
              "      <td>8085</td>\n",
              "      <td>6161</td>\n",
              "      <td>...</td>\n",
              "      <td>12966</td>\n",
              "      <td>651</td>\n",
              "      <td>2614</td>\n",
              "      <td>9093</td>\n",
              "      <td>1331</td>\n",
              "      <td>99634</td>\n",
              "      <td>2749157064</td>\n",
              "      <td>365463998</td>\n",
              "      <td>2383693065</td>\n",
              "      <td>649853</td>\n",
              "    </tr>\n",
              "  </tbody>\n",
              "</table>\n",
              "<p>1812 rows × 269 columns</p>\n",
              "</div>\n",
              "      <button class=\"colab-df-convert\" onclick=\"convertToInteractive('df-4987b3c7-90c4-4c52-bdb3-62169477bf91')\"\n",
              "              title=\"Convert this dataframe to an interactive table.\"\n",
              "              style=\"display:none;\">\n",
              "        \n",
              "  <svg xmlns=\"http://www.w3.org/2000/svg\" height=\"24px\"viewBox=\"0 0 24 24\"\n",
              "       width=\"24px\">\n",
              "    <path d=\"M0 0h24v24H0V0z\" fill=\"none\"/>\n",
              "    <path d=\"M18.56 5.44l.94 2.06.94-2.06 2.06-.94-2.06-.94-.94-2.06-.94 2.06-2.06.94zm-11 1L8.5 8.5l.94-2.06 2.06-.94-2.06-.94L8.5 2.5l-.94 2.06-2.06.94zm10 10l.94 2.06.94-2.06 2.06-.94-2.06-.94-.94-2.06-.94 2.06-2.06.94z\"/><path d=\"M17.41 7.96l-1.37-1.37c-.4-.4-.92-.59-1.43-.59-.52 0-1.04.2-1.43.59L10.3 9.45l-7.72 7.72c-.78.78-.78 2.05 0 2.83L4 21.41c.39.39.9.59 1.41.59.51 0 1.02-.2 1.41-.59l7.78-7.78 2.81-2.81c.8-.78.8-2.07 0-2.86zM5.41 20L4 18.59l7.72-7.72 1.47 1.35L5.41 20z\"/>\n",
              "  </svg>\n",
              "      </button>\n",
              "      \n",
              "  <style>\n",
              "    .colab-df-container {\n",
              "      display:flex;\n",
              "      flex-wrap:wrap;\n",
              "      gap: 12px;\n",
              "    }\n",
              "\n",
              "    .colab-df-convert {\n",
              "      background-color: #E8F0FE;\n",
              "      border: none;\n",
              "      border-radius: 50%;\n",
              "      cursor: pointer;\n",
              "      display: none;\n",
              "      fill: #1967D2;\n",
              "      height: 32px;\n",
              "      padding: 0 0 0 0;\n",
              "      width: 32px;\n",
              "    }\n",
              "\n",
              "    .colab-df-convert:hover {\n",
              "      background-color: #E2EBFA;\n",
              "      box-shadow: 0px 1px 2px rgba(60, 64, 67, 0.3), 0px 1px 3px 1px rgba(60, 64, 67, 0.15);\n",
              "      fill: #174EA6;\n",
              "    }\n",
              "\n",
              "    [theme=dark] .colab-df-convert {\n",
              "      background-color: #3B4455;\n",
              "      fill: #D2E3FC;\n",
              "    }\n",
              "\n",
              "    [theme=dark] .colab-df-convert:hover {\n",
              "      background-color: #434B5C;\n",
              "      box-shadow: 0px 1px 3px 1px rgba(0, 0, 0, 0.15);\n",
              "      filter: drop-shadow(0px 1px 2px rgba(0, 0, 0, 0.3));\n",
              "      fill: #FFFFFF;\n",
              "    }\n",
              "  </style>\n",
              "\n",
              "      <script>\n",
              "        const buttonEl =\n",
              "          document.querySelector('#df-4987b3c7-90c4-4c52-bdb3-62169477bf91 button.colab-df-convert');\n",
              "        buttonEl.style.display =\n",
              "          google.colab.kernel.accessAllowed ? 'block' : 'none';\n",
              "\n",
              "        async function convertToInteractive(key) {\n",
              "          const element = document.querySelector('#df-4987b3c7-90c4-4c52-bdb3-62169477bf91');\n",
              "          const dataTable =\n",
              "            await google.colab.kernel.invokeFunction('convertToInteractive',\n",
              "                                                     [key], {});\n",
              "          if (!dataTable) return;\n",
              "\n",
              "          const docLinkHtml = 'Like what you see? Visit the ' +\n",
              "            '<a target=\"_blank\" href=https://colab.research.google.com/notebooks/data_table.ipynb>data table notebook</a>'\n",
              "            + ' to learn more about interactive tables.';\n",
              "          element.innerHTML = '';\n",
              "          dataTable['output_type'] = 'display_data';\n",
              "          await google.colab.output.renderOutput(dataTable, element);\n",
              "          const docLink = document.createElement('div');\n",
              "          docLink.innerHTML = docLinkHtml;\n",
              "          element.appendChild(docLink);\n",
              "        }\n",
              "      </script>\n",
              "    </div>\n",
              "  </div>\n",
              "  "
            ]
          },
          "metadata": {},
          "execution_count": 25
        }
      ],
      "source": [
        "# Merge datasets\n",
        "ny_merged = ny_df_2019_copy.merge(ny_df_2021_copy, on='ZIP_Code', how='inner')\n",
        "ny_merged"
      ]
    },
    {
      "cell_type": "code",
      "execution_count": null,
      "id": "53c71397",
      "metadata": {
        "id": "53c71397",
        "colab": {
          "base_uri": "https://localhost:8080/",
          "height": 160
        },
        "outputId": "701719b2-e65f-4a42-b49d-c801c43a8bb6"
      },
      "outputs": [
        {
          "output_type": "execute_result",
          "data": {
            "text/plain": [
              "Empty DataFrame\n",
              "Columns: [ZIP_Code, ZIP Name_2019, COUNTY_2019, STATE_2019, DWLCYOCCUP_2019, DWLCYVACNT_2019, DWLCYOWNED_2019, DWLCYRENT_2019, POPCY_2019, POPCYFAM_2019, AGECY0004_2019, AGECY0509_2019, AGECY1014_2019, AGECY1519_2019, AGECY2024_2019, AGECY2529_2019, AGECY3034_2019, AGECY3539_2019, AGECY4044_2019, AGECY4549_2019, AGECY5054_2019, AGECY5559_2019, AGECY6064_2019, AGECY6569_2019, AGECY7074_2019, AGECY7579_2019, AGECY8084_2019, AGECYGT85_2019, AGECYMED_2019, SEXCYMAL_2019, SEXCYFEM_2019, RACCYWHITE_2019, RACCYBLACK_2019, RACCYAMIND_2019, RACCYASIAN_2019, RACCYHAWAI_2019, RACCYOTHER_2019, RACCYMULT_2019, HISCYHISP_2019, HISCYNONH_2019, RCHCYWHNHS_2019, RCHCYBLNHS_2019, RCHCYAMNHS_2019, RCHCYASNHS_2019, RCHCYHANHS_2019, RCHCYOTNHS_2019, RCHCYMUNHS_2019, RCHCYWHHIS_2019, RCHCYBLHIS_2019, RCHCYAMHIS_2019, RCHCYASHIS_2019, RCHCYHAHIS_2019, RCHCYOTHIS_2019, RCHCYMUHIS_2019, MARCYNEVER_2019, MARCYMARR_2019, MARCYSEP_2019, MARCYDIVOR_2019, MARCYWIDOW_2019, AGECYGT15_2019, AGECYGT25_2019, EDUCYLTGR9_2019, EDUCYSHSCH_2019, EDUCYHSCH_2019, EDUCYSCOLL_2019, EDUCYASSOC_2019, EDUCYBACH_2019, EDUCYGRAD_2019, LBFCYPOP16_2019, LBFCYARM_2019, LBFCYEMPL_2019, LBFCYUNEM_2019, LBFCYNLF_2019, UNECYRATE_2019, LBFCYLBF_2019, LBFCYMARM_2019, LBFCYMEMPL_2019, LBFCYMNLF_2019, LBFCYMUNEM_2019, LBFCYFARM_2019, LBFCYFEMPL_2019, LBFCYFNLF_2019, LBFCYFUNEM_2019, HHDCY_2019, HHDCYFAM_2019, HHDCYNFM_2019, HHSCYMCFCH_2019, HHDCYAVESZ_2019, FAMCYAVESZ_2019, HHDCYMEDAG_2019, VPHCYNONE_2019, VPHCY1_2019, VPHCYGT1_2019, INCCYAGG_2019, INCCYAGGHD_2019, INCCYAGGFA_2019, INCCYAGGNF_2019, INCCYAGGGP_2019, INCCYPCAP_2019, INCCYMEDHH_2019, ...]\n",
              "Index: []\n",
              "\n",
              "[0 rows x 269 columns]"
            ],
            "text/html": [
              "\n",
              "  <div id=\"df-b0a11401-1db1-45cc-bc98-dc1b106b5c01\">\n",
              "    <div class=\"colab-df-container\">\n",
              "      <div>\n",
              "<style scoped>\n",
              "    .dataframe tbody tr th:only-of-type {\n",
              "        vertical-align: middle;\n",
              "    }\n",
              "\n",
              "    .dataframe tbody tr th {\n",
              "        vertical-align: top;\n",
              "    }\n",
              "\n",
              "    .dataframe thead th {\n",
              "        text-align: right;\n",
              "    }\n",
              "</style>\n",
              "<table border=\"1\" class=\"dataframe\">\n",
              "  <thead>\n",
              "    <tr style=\"text-align: right;\">\n",
              "      <th></th>\n",
              "      <th>ZIP_Code</th>\n",
              "      <th>ZIP Name_2019</th>\n",
              "      <th>COUNTY_2019</th>\n",
              "      <th>STATE_2019</th>\n",
              "      <th>DWLCYOCCUP_2019</th>\n",
              "      <th>DWLCYVACNT_2019</th>\n",
              "      <th>DWLCYOWNED_2019</th>\n",
              "      <th>DWLCYRENT_2019</th>\n",
              "      <th>POPCY_2019</th>\n",
              "      <th>POPCYFAM_2019</th>\n",
              "      <th>...</th>\n",
              "      <th>HMVCYINSTL_2021</th>\n",
              "      <th>HMVCYLNCRE_2021</th>\n",
              "      <th>HMVCYCREDC_2021</th>\n",
              "      <th>HMVCYDIRE_2021</th>\n",
              "      <th>HMVCYDOTH_2021</th>\n",
              "      <th>HMVCYDANY_2021</th>\n",
              "      <th>WRHCYASS_2021</th>\n",
              "      <th>WRHCYDBT_2021</th>\n",
              "      <th>WRHCYAGG_2021</th>\n",
              "      <th>WRHCYAVEHH_2021</th>\n",
              "    </tr>\n",
              "  </thead>\n",
              "  <tbody>\n",
              "  </tbody>\n",
              "</table>\n",
              "<p>0 rows × 269 columns</p>\n",
              "</div>\n",
              "      <button class=\"colab-df-convert\" onclick=\"convertToInteractive('df-b0a11401-1db1-45cc-bc98-dc1b106b5c01')\"\n",
              "              title=\"Convert this dataframe to an interactive table.\"\n",
              "              style=\"display:none;\">\n",
              "        \n",
              "  <svg xmlns=\"http://www.w3.org/2000/svg\" height=\"24px\"viewBox=\"0 0 24 24\"\n",
              "       width=\"24px\">\n",
              "    <path d=\"M0 0h24v24H0V0z\" fill=\"none\"/>\n",
              "    <path d=\"M18.56 5.44l.94 2.06.94-2.06 2.06-.94-2.06-.94-.94-2.06-.94 2.06-2.06.94zm-11 1L8.5 8.5l.94-2.06 2.06-.94-2.06-.94L8.5 2.5l-.94 2.06-2.06.94zm10 10l.94 2.06.94-2.06 2.06-.94-2.06-.94-.94-2.06-.94 2.06-2.06.94z\"/><path d=\"M17.41 7.96l-1.37-1.37c-.4-.4-.92-.59-1.43-.59-.52 0-1.04.2-1.43.59L10.3 9.45l-7.72 7.72c-.78.78-.78 2.05 0 2.83L4 21.41c.39.39.9.59 1.41.59.51 0 1.02-.2 1.41-.59l7.78-7.78 2.81-2.81c.8-.78.8-2.07 0-2.86zM5.41 20L4 18.59l7.72-7.72 1.47 1.35L5.41 20z\"/>\n",
              "  </svg>\n",
              "      </button>\n",
              "      \n",
              "  <style>\n",
              "    .colab-df-container {\n",
              "      display:flex;\n",
              "      flex-wrap:wrap;\n",
              "      gap: 12px;\n",
              "    }\n",
              "\n",
              "    .colab-df-convert {\n",
              "      background-color: #E8F0FE;\n",
              "      border: none;\n",
              "      border-radius: 50%;\n",
              "      cursor: pointer;\n",
              "      display: none;\n",
              "      fill: #1967D2;\n",
              "      height: 32px;\n",
              "      padding: 0 0 0 0;\n",
              "      width: 32px;\n",
              "    }\n",
              "\n",
              "    .colab-df-convert:hover {\n",
              "      background-color: #E2EBFA;\n",
              "      box-shadow: 0px 1px 2px rgba(60, 64, 67, 0.3), 0px 1px 3px 1px rgba(60, 64, 67, 0.15);\n",
              "      fill: #174EA6;\n",
              "    }\n",
              "\n",
              "    [theme=dark] .colab-df-convert {\n",
              "      background-color: #3B4455;\n",
              "      fill: #D2E3FC;\n",
              "    }\n",
              "\n",
              "    [theme=dark] .colab-df-convert:hover {\n",
              "      background-color: #434B5C;\n",
              "      box-shadow: 0px 1px 3px 1px rgba(0, 0, 0, 0.15);\n",
              "      filter: drop-shadow(0px 1px 2px rgba(0, 0, 0, 0.3));\n",
              "      fill: #FFFFFF;\n",
              "    }\n",
              "  </style>\n",
              "\n",
              "      <script>\n",
              "        const buttonEl =\n",
              "          document.querySelector('#df-b0a11401-1db1-45cc-bc98-dc1b106b5c01 button.colab-df-convert');\n",
              "        buttonEl.style.display =\n",
              "          google.colab.kernel.accessAllowed ? 'block' : 'none';\n",
              "\n",
              "        async function convertToInteractive(key) {\n",
              "          const element = document.querySelector('#df-b0a11401-1db1-45cc-bc98-dc1b106b5c01');\n",
              "          const dataTable =\n",
              "            await google.colab.kernel.invokeFunction('convertToInteractive',\n",
              "                                                     [key], {});\n",
              "          if (!dataTable) return;\n",
              "\n",
              "          const docLinkHtml = 'Like what you see? Visit the ' +\n",
              "            '<a target=\"_blank\" href=https://colab.research.google.com/notebooks/data_table.ipynb>data table notebook</a>'\n",
              "            + ' to learn more about interactive tables.';\n",
              "          element.innerHTML = '';\n",
              "          dataTable['output_type'] = 'display_data';\n",
              "          await google.colab.output.renderOutput(dataTable, element);\n",
              "          const docLink = document.createElement('div');\n",
              "          docLink.innerHTML = docLinkHtml;\n",
              "          element.appendChild(docLink);\n",
              "        }\n",
              "      </script>\n",
              "    </div>\n",
              "  </div>\n",
              "  "
            ]
          },
          "metadata": {},
          "execution_count": 26
        }
      ],
      "source": [
        "ny_merged[ny_merged.isna().any(axis=1)]"
      ]
    },
    {
      "cell_type": "code",
      "execution_count": null,
      "id": "772fe9f4",
      "metadata": {
        "id": "772fe9f4",
        "colab": {
          "base_uri": "https://localhost:8080/"
        },
        "outputId": "a679a58f-6ede-4a56-99a9-efa32dd67aa9"
      },
      "outputs": [
        {
          "output_type": "stream",
          "name": "stdout",
          "text": [
            "(1812, 269)\n"
          ]
        }
      ],
      "source": [
        "ny_merged = ny_merged.dropna()\n",
        "print(ny_merged.shape)"
      ]
    },
    {
      "cell_type": "code",
      "execution_count": null,
      "id": "b8e6c805",
      "metadata": {
        "id": "b8e6c805"
      },
      "outputs": [],
      "source": [
        "# Subtract 2021 median hh income from 2019 in a new column\n",
        "ny_merged['INCCYMEDHH_21_sub_19'] = ny_merged['INCCYMEDHH_2021'].sub(ny_merged['INCCYMEDHH_2019'], axis = 0)"
      ]
    },
    {
      "cell_type": "code",
      "execution_count": null,
      "id": "c5d532b8",
      "metadata": {
        "id": "c5d532b8",
        "colab": {
          "base_uri": "https://localhost:8080/"
        },
        "outputId": "057fe136-5a32-4bcc-8585-7f6625ce6e81"
      },
      "outputs": [
        {
          "output_type": "execute_result",
          "data": {
            "text/plain": [
              "0      -0.558217\n",
              "1       0.031675\n",
              "2      -0.076411\n",
              "3       0.091026\n",
              "4       0.355688\n",
              "          ...   \n",
              "1807    0.094327\n",
              "1808    0.079517\n",
              "1809    0.008473\n",
              "1810    0.053320\n",
              "1811    0.071305\n",
              "Name: INCCYMEDHH_change_19_21, Length: 1812, dtype: float64"
            ]
          },
          "metadata": {},
          "execution_count": 29
        }
      ],
      "source": [
        "# Divide difference between 2021 and 2019 median hh income by 2019 median hh income to get percent change\n",
        "ny_merged['INCCYMEDHH_change_19_21'] = (ny_merged['INCCYMEDHH_21_sub_19'].div(ny_merged['INCCYMEDHH_2019']))\n",
        "ny_merged['INCCYMEDHH_change_19_21']"
      ]
    },
    {
      "cell_type": "code",
      "execution_count": null,
      "id": "199f1620",
      "metadata": {
        "id": "199f1620",
        "colab": {
          "base_uri": "https://localhost:8080/"
        },
        "outputId": "55406b3b-fdc5-4a23-c4a1-1fe611c51528"
      },
      "outputs": [
        {
          "output_type": "stream",
          "name": "stdout",
          "text": [
            "      ZIP_Code       ZIP Name_2019  COUNTY_2019 STATE_2019  DWLCYOCCUP_2019  \\\n",
            "52       10112            NEW YORK     NEW YORK         NY                0   \n",
            "66       10166            NEW YORK     NEW YORK         NY                0   \n",
            "148      10540         LINCOLNDALE  WESTCHESTER         NY                0   \n",
            "317      11256            BROOKLYN        KINGS         NY                0   \n",
            "597      12085  GUILDERLAND CENTER       ALBANY         NY                0   \n",
            "940      12864              SABAEL     HAMILTON         NY                0   \n",
            "1375     13794            KILLAWOG       BROOME         NY                0   \n",
            "1505     14168          VERSAILLES  CATTARAUGUS         NY                0   \n",
            "\n",
            "      DWLCYVACNT_2019  DWLCYOWNED_2019  DWLCYRENT_2019  POPCY_2019  \\\n",
            "52                  0                0               0           0   \n",
            "66                  0                0               0           0   \n",
            "148                 0                0               0           0   \n",
            "317                 0                0               0           0   \n",
            "597                 0                0               0           0   \n",
            "940                 0                0               0           0   \n",
            "1375                0                0               0           0   \n",
            "1505                0                0               0           0   \n",
            "\n",
            "      POPCYFAM_2019  ...  HMVCYCREDC_2021  HMVCYDIRE_2021  HMVCYDOTH_2021  \\\n",
            "52                0  ...             3730           30314            3892   \n",
            "66                0  ...             3701           33284            4254   \n",
            "148               0  ...             4004           29161            3603   \n",
            "317               0  ...             1789            5624            1124   \n",
            "597               0  ...             3425           10766            1283   \n",
            "940               0  ...             2478            5559             902   \n",
            "1375              0  ...             2658            4869             761   \n",
            "1505              0  ...             2716            8838            1271   \n",
            "\n",
            "      HMVCYDANY_2021  WRHCYASS_2021  WRHCYDBT_2021  WRHCYAGG_2021  \\\n",
            "52            210404        3211321         281066        2930255   \n",
            "66            219575       52379986        4335387       48044599   \n",
            "148           212739         673013          62613         610400   \n",
            "317            65023        9450020        1226173        8223847   \n",
            "597           128309        2338691         374273        1964418   \n",
            "940            83334        2085170         382768        1702401   \n",
            "1375           83956        2097208         409724        1687484   \n",
            "1505          101342        2860135         399927        2460208   \n",
            "\n",
            "      WRHCYAVEHH_2021  INCCYMEDHH_21_sub_19  INCCYMEDHH_change_19_21  \n",
            "52            2193567                136309                      inf  \n",
            "66            2433323                149869                      inf  \n",
            "148           2073932                144810                      inf  \n",
            "317            436106                 34488                      inf  \n",
            "597            673447                106617                      inf  \n",
            "940            370638                 56363                      inf  \n",
            "1375           345780                 64499                      inf  \n",
            "1505           623418                 66562                      inf  \n",
            "\n",
            "[8 rows x 271 columns]\n"
          ]
        }
      ],
      "source": [
        "# View infinite values\n",
        "\n",
        "ny_merged_inf = ny_merged[(ny_merged == np.inf).any(axis=1)]\n",
        "print(ny_merged_inf)"
      ]
    },
    {
      "cell_type": "code",
      "execution_count": null,
      "id": "db1dbdee",
      "metadata": {
        "id": "db1dbdee"
      },
      "outputs": [],
      "source": [
        "# Inf values are all due to having 0 people living in that zip code, so they can safely be dropped\n",
        "# Replace inf values with na\n",
        "ny_merged['INCCYMEDHH_change_19_21'].replace([np.inf, -np.inf], np.nan, inplace=True)"
      ]
    },
    {
      "cell_type": "code",
      "execution_count": null,
      "id": "09a4abf6",
      "metadata": {
        "id": "09a4abf6",
        "colab": {
          "base_uri": "https://localhost:8080/"
        },
        "outputId": "4feb6fa6-2611-4528-9d28-b07a0dd79216"
      },
      "outputs": [
        {
          "output_type": "stream",
          "name": "stdout",
          "text": [
            "(1722, 271)\n"
          ]
        }
      ],
      "source": [
        "# Drop na values in ny_merged['INCCYMEDHH_change_19_21'] and get new number of rows\n",
        "ny_merged = ny_merged[ny_merged['INCCYMEDHH_change_19_21'].notna()]\n",
        "print(ny_merged.shape)"
      ]
    },
    {
      "cell_type": "code",
      "execution_count": null,
      "id": "4b6caed9",
      "metadata": {
        "id": "4b6caed9",
        "colab": {
          "base_uri": "https://localhost:8080/"
        },
        "outputId": "a00f17bb-526b-41ad-a791-a730dc3c97d2"
      },
      "outputs": [
        {
          "output_type": "stream",
          "name": "stdout",
          "text": [
            "Variable: INCCYMEDHH_change_19_21    Data Type: float64 \n",
            "\n",
            " Number of Obs.: 1722 \n",
            " Number of missing obs.: 0 \n",
            " Percent missing: 0.0 \n",
            " Number of unique values: 1711 \n",
            "\n",
            " Range: [-1.0, 1.000011428636735] \n",
            " Mean: 0.05 \n",
            " Standard Deviation: 0.11 \n",
            " Mode: -1.0 \n",
            " 10th Percentile: -0.05845782798546252 \n",
            " 25th Percentile: -0.0015289611039046515 \n",
            " 50th Percentile: 0.04902792147032284 \n",
            " 75th Percentile: 0.0993238380174523 \n",
            " 90th Percentile: 0.1580404630268891 \n",
            "\n",
            "\n",
            "\n",
            "\n",
            "\n"
          ]
        }
      ],
      "source": [
        "# Run basic stats on ny_merged['INCCYMEDHH_change_19_21']\n",
        "rp.codebook(ny_merged['INCCYMEDHH_change_19_21'])"
      ]
    },
    {
      "cell_type": "code",
      "execution_count": null,
      "id": "534eeda6",
      "metadata": {
        "id": "534eeda6",
        "colab": {
          "base_uri": "https://localhost:8080/"
        },
        "outputId": "7923760f-385d-4370-c257-b934be8e5c86"
      },
      "outputs": [
        {
          "output_type": "stream",
          "name": "stderr",
          "text": [
            "/usr/local/lib/python3.7/dist-packages/ipykernel_launcher.py:2: SettingWithCopyWarning: \n",
            "A value is trying to be set on a copy of a slice from a DataFrame.\n",
            "Try using .loc[row_indexer,col_indexer] = value instead\n",
            "\n",
            "See the caveats in the documentation: https://pandas.pydata.org/pandas-docs/stable/user_guide/indexing.html#returning-a-view-versus-a-copy\n",
            "  \n"
          ]
        },
        {
          "output_type": "execute_result",
          "data": {
            "text/plain": [
              "0      -5.539727\n",
              "1      -0.157332\n",
              "2      -1.143550\n",
              "3       0.384213\n",
              "4       2.799085\n",
              "          ...   \n",
              "1807    0.414331\n",
              "1808    0.279203\n",
              "1809   -0.369030\n",
              "1810    0.040165\n",
              "1811    0.204267\n",
              "Name: INCCYMEDHH_change_z-score, Length: 1722, dtype: float64"
            ]
          },
          "metadata": {},
          "execution_count": 34
        }
      ],
      "source": [
        "# Make new column for z-score for changes in median hh income\n",
        "ny_merged['INCCYMEDHH_change_z-score'] = stats.zscore(ny_merged['INCCYMEDHH_change_19_21'])\n",
        "ny_merged['INCCYMEDHH_change_z-score']"
      ]
    },
    {
      "cell_type": "code",
      "execution_count": null,
      "id": "b9f7af9e",
      "metadata": {
        "id": "b9f7af9e",
        "colab": {
          "base_uri": "https://localhost:8080/"
        },
        "outputId": "f667b41e-fd8c-49ca-cbcb-1e33bd7c8f27"
      },
      "outputs": [
        {
          "output_type": "stream",
          "name": "stderr",
          "text": [
            "/usr/local/lib/python3.7/dist-packages/ipykernel_launcher.py:3: SettingWithCopyWarning: \n",
            "A value is trying to be set on a copy of a slice from a DataFrame.\n",
            "Try using .loc[row_indexer,col_indexer] = value instead\n",
            "\n",
            "See the caveats in the documentation: https://pandas.pydata.org/pandas-docs/stable/user_guide/indexing.html#returning-a-view-versus-a-copy\n",
            "  This is separate from the ipykernel package so we can avoid doing imports until\n"
          ]
        }
      ],
      "source": [
        "# Follow same process to get z-scores for changes in cc debt\n",
        "# Subtract 2021 mean avg cc debt from 2019 in a new column\n",
        "ny_merged['HMVCYCREDC_21_sub_19'] = ny_merged['HMVCYCREDC_2021'].sub(ny_merged['HMVCYCREDC_2019'], axis = 0)"
      ]
    },
    {
      "cell_type": "code",
      "execution_count": null,
      "id": "ba083648",
      "metadata": {
        "id": "ba083648",
        "colab": {
          "base_uri": "https://localhost:8080/"
        },
        "outputId": "10ba8bf0-3a51-4a11-f367-a965796129a8"
      },
      "outputs": [
        {
          "output_type": "stream",
          "name": "stderr",
          "text": [
            "/usr/local/lib/python3.7/dist-packages/ipykernel_launcher.py:2: SettingWithCopyWarning: \n",
            "A value is trying to be set on a copy of a slice from a DataFrame.\n",
            "Try using .loc[row_indexer,col_indexer] = value instead\n",
            "\n",
            "See the caveats in the documentation: https://pandas.pydata.org/pandas-docs/stable/user_guide/indexing.html#returning-a-view-versus-a-copy\n",
            "  \n"
          ]
        },
        {
          "output_type": "execute_result",
          "data": {
            "text/plain": [
              "0      -0.276368\n",
              "1      -0.018530\n",
              "2      -0.083333\n",
              "3      -0.005452\n",
              "4       0.057387\n",
              "          ...   \n",
              "1807   -0.035299\n",
              "1808   -0.031834\n",
              "1809   -0.048095\n",
              "1810   -0.055983\n",
              "1811   -0.064089\n",
              "Name: HMVCYCREDC_change_19_21, Length: 1722, dtype: float64"
            ]
          },
          "metadata": {},
          "execution_count": 36
        }
      ],
      "source": [
        "# Divide difference between 2021 and 2019 mean avg cc debt by 2019 mean avg cc debt to get percent change\n",
        "ny_merged['HMVCYCREDC_change_19_21'] = (ny_merged['HMVCYCREDC_21_sub_19'].div(ny_merged['HMVCYCREDC_2019']))\n",
        "ny_merged['HMVCYCREDC_change_19_21']"
      ]
    },
    {
      "cell_type": "code",
      "execution_count": null,
      "id": "fd4117bf",
      "metadata": {
        "id": "fd4117bf"
      },
      "outputs": [],
      "source": [
        "# # Replace inf values with na\n",
        "# ny_merged['HMVCYCREDC_change_19_21'].replace([np.inf, -np.inf], np.nan, inplace=True)\n",
        "# ny_merged['HMVCYCREDC_change_19_21']"
      ]
    },
    {
      "cell_type": "code",
      "execution_count": null,
      "id": "815dd013",
      "metadata": {
        "id": "815dd013",
        "colab": {
          "base_uri": "https://localhost:8080/"
        },
        "outputId": "53a3f4c4-98e8-448d-daeb-beaf98b23be0"
      },
      "outputs": [
        {
          "output_type": "stream",
          "name": "stdout",
          "text": [
            "0       False\n",
            "1       False\n",
            "2       False\n",
            "3       False\n",
            "4       False\n",
            "        ...  \n",
            "1807    False\n",
            "1808    False\n",
            "1809    False\n",
            "1810    False\n",
            "1811    False\n",
            "Name: HMVCYCREDC_change_19_21, Length: 1722, dtype: bool\n"
          ]
        }
      ],
      "source": [
        "HMVCYCREDC_change_19_21_null = ny_merged['HMVCYCREDC_change_19_21'].isna()\n",
        "print(HMVCYCREDC_change_19_21_null)"
      ]
    },
    {
      "cell_type": "code",
      "execution_count": null,
      "id": "4f278464",
      "metadata": {
        "id": "4f278464",
        "colab": {
          "base_uri": "https://localhost:8080/"
        },
        "outputId": "ec96c818-d516-45f4-de66-86e1a9c4df0d"
      },
      "outputs": [
        {
          "output_type": "stream",
          "name": "stdout",
          "text": [
            "(1722, 274)\n"
          ]
        }
      ],
      "source": [
        "# Drop na values in ny_merged['HMVCYCREDC_change_19_21'] and get new number of rows\n",
        "ny_merged = ny_merged[ny_merged['HMVCYCREDC_change_19_21'].notna()]\n",
        "print(ny_merged.shape)"
      ]
    },
    {
      "cell_type": "code",
      "execution_count": null,
      "id": "74e1fc82",
      "metadata": {
        "id": "74e1fc82",
        "colab": {
          "base_uri": "https://localhost:8080/"
        },
        "outputId": "5423df8d-72b9-4adb-9142-19489ef174a5"
      },
      "outputs": [
        {
          "output_type": "stream",
          "name": "stdout",
          "text": [
            "Variable: HMVCYCREDC_change_19_21    Data Type: float64 \n",
            "\n",
            " Number of Obs.: 1722 \n",
            " Number of missing obs.: 0 \n",
            " Percent missing: 0.0 \n",
            " Number of unique values: 1699 \n",
            "\n",
            " Range: [-1.0, 0.43522561863173215] \n",
            " Mean: -0.04 \n",
            " Standard Deviation: 0.06 \n",
            " Mode: 0.0 \n",
            " 10th Percentile: -0.08861235823031806 \n",
            " 25th Percentile: -0.06013429888488623 \n",
            " 50th Percentile: -0.033735649113757725 \n",
            " 75th Percentile: -0.007863731114281718 \n",
            " 90th Percentile: 0.01762437967971565 \n",
            "\n",
            "\n",
            "\n",
            "\n",
            "\n"
          ]
        }
      ],
      "source": [
        "# Run basic stats on ny_merged['HMVCYCREDC_change_19_21']\n",
        "rp.codebook(ny_merged['HMVCYCREDC_change_19_21'])"
      ]
    },
    {
      "cell_type": "code",
      "source": [
        "# Run basic stats on ny_merged['INCCYMEDHH_change_19_21']\n",
        "rp.codebook(ny_merged['INCCYMEDHH_change_19_21'])"
      ],
      "metadata": {
        "id": "TkXI-T6rDkXq",
        "colab": {
          "base_uri": "https://localhost:8080/"
        },
        "outputId": "0609b5f4-e528-43e0-f88f-83ede13df9ab"
      },
      "id": "TkXI-T6rDkXq",
      "execution_count": null,
      "outputs": [
        {
          "output_type": "stream",
          "name": "stdout",
          "text": [
            "Variable: INCCYMEDHH_change_19_21    Data Type: float64 \n",
            "\n",
            " Number of Obs.: 1722 \n",
            " Number of missing obs.: 0 \n",
            " Percent missing: 0.0 \n",
            " Number of unique values: 1711 \n",
            "\n",
            " Range: [-1.0, 1.000011428636735] \n",
            " Mean: 0.05 \n",
            " Standard Deviation: 0.11 \n",
            " Mode: -1.0 \n",
            " 10th Percentile: -0.05845782798546252 \n",
            " 25th Percentile: -0.0015289611039046515 \n",
            " 50th Percentile: 0.04902792147032284 \n",
            " 75th Percentile: 0.0993238380174523 \n",
            " 90th Percentile: 0.1580404630268891 \n",
            "\n",
            "\n",
            "\n",
            "\n",
            "\n"
          ]
        }
      ]
    },
    {
      "cell_type": "code",
      "execution_count": null,
      "id": "171dc478",
      "metadata": {
        "id": "171dc478",
        "colab": {
          "base_uri": "https://localhost:8080/"
        },
        "outputId": "1ed02374-a1d7-4053-8aac-6fdab1b3b86d"
      },
      "outputs": [
        {
          "output_type": "execute_result",
          "data": {
            "text/plain": [
              "0      -3.864436\n",
              "1       0.275517\n",
              "2      -0.764994\n",
              "3       0.485499\n",
              "4       1.494471\n",
              "          ...   \n",
              "1807    0.006266\n",
              "1808    0.061895\n",
              "1809   -0.199189\n",
              "1810   -0.325845\n",
              "1811   -0.455997\n",
              "Name: HMVCYCREDC_change_z-score, Length: 1722, dtype: float64"
            ]
          },
          "metadata": {},
          "execution_count": 42
        }
      ],
      "source": [
        "# Make new column for z-score for changes in mean avg cc debt\n",
        "ny_merged['HMVCYCREDC_change_z-score'] = stats.zscore(ny_merged['HMVCYCREDC_change_19_21'])\n",
        "ny_merged['HMVCYCREDC_change_z-score']"
      ]
    },
    {
      "cell_type": "code",
      "execution_count": null,
      "id": "889c7355",
      "metadata": {
        "id": "889c7355",
        "colab": {
          "base_uri": "https://localhost:8080/"
        },
        "outputId": "1f491a29-edfe-4140-e97d-f12a667f9cb6"
      },
      "outputs": [
        {
          "output_type": "execute_result",
          "data": {
            "text/plain": [
              "ZIP_Code                       int64\n",
              "ZIP Name_2019                 object\n",
              "COUNTY_2019                   object\n",
              "STATE_2019                    object\n",
              "DWLCYOCCUP_2019                int64\n",
              "                              ...   \n",
              "INCCYMEDHH_change_19_21      float64\n",
              "INCCYMEDHH_change_z-score    float64\n",
              "HMVCYCREDC_21_sub_19           int64\n",
              "HMVCYCREDC_change_19_21      float64\n",
              "HMVCYCREDC_change_z-score    float64\n",
              "Length: 275, dtype: object"
            ]
          },
          "metadata": {},
          "execution_count": 43
        }
      ],
      "source": [
        "ny_merged.dtypes"
      ]
    },
    {
      "cell_type": "code",
      "execution_count": null,
      "id": "bdae0a5f",
      "metadata": {
        "id": "bdae0a5f"
      },
      "outputs": [],
      "source": [
        "# Drop uninteresting/irrelevant columns\n",
        "ny_merged_v2 = ny_merged.drop(['DWLCYOCCUP_2019', \n",
        "'DWLCYVACNT_2019', \n",
        "'DWLCYOWNED_2019', \n",
        "'DWLCYRENT_2019', \n",
        "'POPCYFAM_2019', \n",
        "'AGECY0004_2019', \n",
        "'AGECY0509_2019', \n",
        "'AGECY1014_2019', \n",
        "'AGECY1519_2019', \n",
        "'AGECY2024_2019', \n",
        "'AGECY2529_2019', \n",
        "'AGECY3034_2019', \n",
        "'AGECY3539_2019', \n",
        "'AGECY4044_2019', \n",
        "'AGECY4549_2019', \n",
        "'AGECY5054_2019', \n",
        "'AGECY5559_2019', \n",
        "'AGECY6064_2019', \n",
        "'AGECY6569_2019', \n",
        "'AGECY7074_2019', \n",
        "'AGECY7579_2019', \n",
        "'AGECY8084_2019', \n",
        "'AGECYGT85_2019', \n",
        "'AGECYGT15_2019', \n",
        "'AGECYGT25_2019', \n",
        "'EDUCYLTGR9_2019', \n",
        "'EDUCYSHSCH_2019', \n",
        "'EDUCYSCOLL_2019', \n",
        "'EDUCYASSOC_2019', \n",
        "'LBFCYPOP16_2019', \n",
        "'LBFCYEMPL_2019', \n",
        "'LBFCYUNEM_2019', \n",
        "'LBFCYNLF_2019', \n",
        "'LBFCYLBF_2019', \n",
        "'LBFCYMARM_2019', \n",
        "'LBFCYMEMPL_2019', \n",
        "'LBFCYMNLF_2019', \n",
        "'LBFCYMUNEM_2019', \n",
        "'LBFCYFARM_2019', \n",
        "'LBFCYFEMPL_2019', \n",
        "'LBFCYFNLF_2019', \n",
        "'LBFCYFUNEM_2019', \n",
        "'HHDCY_2019', \n",
        "'HHDCYFAM_2019', \n",
        "'HHDCYNFM_2019', \n",
        "'HHSCYMCFCH_2019', \n",
        "'FAMCYAVESZ_2019', \n",
        "'HHDCYMEDAG_2019', \n",
        "'VPHCYNONE_2019', \n",
        "'VPHCY1_2019', \n",
        "'VPHCYGT1_2019', \n",
        "'INCCYAGG_2019', \n",
        "'INCCYAGGHD_2019', \n",
        "'INCCYAGGFA_2019', \n",
        "'INCCYAGGNF_2019', \n",
        "'INCCYAGGGP_2019', \n",
        "'INCCYPCAP_2019', \n",
        "'INCCYMEDFA_2019', \n",
        "'INCCYAVEHH_2019', \n",
        "'INCCYAVEFA_2019', \n",
        "'HAOCYTRAN_2019', \n",
        "'HDBCYMORT_2019', \n",
        "'HDBCYINSTL_2019', \n",
        "'HDBCYLNCRE_2019', \n",
        "'HMVCYMORT_2019', \n",
        "'HMVCYINSTL_2019', \n",
        "'HMVCYLNCRE_2019', \n",
        "'HMVCYDIRE_2019', \n",
        "'HMVCYDOTH_2019', \n",
        "'WRHCYASS_2019', \n",
        "'WRHCYDBT_2019', \n",
        "'WRHCYAGG_2019', \n",
        "'WRHCYAVEHH_2019', \n",
        "'DWLCYOCCUP_2021', \n",
        "'DWLCYVACNT_2021', \n",
        "'DWLCYOWNED_2021', \n",
        "'DWLCYRENT_2021', \n",
        "'POPCYFAM_2021', \n",
        "'AGECY0004_2021', \n",
        "'AGECY0509_2021', \n",
        "'AGECY1014_2021', \n",
        "'AGECY1519_2021', \n",
        "'AGECY2024_2021', \n",
        "'AGECY2529_2021', \n",
        "'AGECY3034_2021', \n",
        "'AGECY3539_2021', \n",
        "'AGECY4044_2021', \n",
        "'AGECY4549_2021', \n",
        "'AGECY5054_2021', \n",
        "'AGECY5559_2021', \n",
        "'AGECY6064_2021', \n",
        "'AGECY6569_2021', \n",
        "'AGECY7074_2021', \n",
        "'AGECY7579_2021', \n",
        "'AGECY8084_2021', \n",
        "'AGECYGT85_2021', \n",
        "'AGECYGT15_2021', \n",
        "'AGECYGT25_2021', \n",
        "'EDUCYLTGR9_2021', \n",
        "'EDUCYSHSCH_2021', \n",
        "'EDUCYSCOLL_2021', \n",
        "'EDUCYASSOC_2021', \n",
        "'LBFCYPOP16_2021', \n",
        "'LBFCYEMPL_2021', \n",
        "'LBFCYUNEM_2021', \n",
        "'LBFCYNLF_2021', \n",
        "'LBFCYLBF_2021', \n",
        "'LBFCYMARM_2021', \n",
        "'LBFCYMEMPL_2021', \n",
        "'LBFCYMNLF_2021', \n",
        "'LBFCYMUNEM_2021', \n",
        "'LBFCYFARM_2021', \n",
        "'LBFCYFEMPL_2021', \n",
        "'LBFCYFNLF_2021', \n",
        "'LBFCYFUNEM_2021', \n",
        "'HHDCY_2021', \n",
        "'HHDCYFAM_2021', \n",
        "'HHDCYNFM_2021', \n",
        "'HHSCYMCFCH_2021', \n",
        "'FAMCYAVESZ_2021', \n",
        "'HHDCYMEDAG_2021', \n",
        "'VPHCYNONE_2021', \n",
        "'VPHCY1_2021', \n",
        "'VPHCYGT1_2021', \n",
        "'INCCYAGG_2021', \n",
        "'INCCYAGGHD_2021', \n",
        "'INCCYAGGFA_2021', \n",
        "'INCCYAGGNF_2021', \n",
        "'INCCYAGGGP_2021', \n",
        "'INCCYPCAP_2021', \n",
        "'INCCYMEDFA_2021', \n",
        "'INCCYAVEHH_2021', \n",
        "'INCCYAVEFA_2021', \n",
        "'HAOCYTRAN_2021', \n",
        "'HDBCYMORT_2021', \n",
        "'HDBCYINSTL_2021', \n",
        "'HDBCYLNCRE_2021', \n",
        "'HMVCYMORT_2021', \n",
        "'HMVCYINSTL_2021', \n",
        "'HMVCYLNCRE_2021', \n",
        "'HMVCYDIRE_2021', \n",
        "'HMVCYDOTH_2021', \n",
        "'WRHCYASS_2021', \n",
        "'WRHCYDBT_2021', \n",
        "'WRHCYAGG_2021', \n",
        "'WRHCYAVEHH_2021',\n",
        "'HDBCYCRED_2019', \n",
        "'HDBCYIRE_2019', \n",
        "'HDBCYOTHR_2019', \n",
        "'HDBCYANY_2019',\n",
        "'HDDBT40_2019', \n",
        "'HDPMTDUE60_2019', \n",
        "'HMVCYDANY_2019',\n",
        "'HDBCYCRED_2021', \n",
        "'HDBCYIRE_2021', \n",
        "'HDBCYOTHR_2021', \n",
        "'HDBCYANY_2021',\n",
        "'HDDBT40_2021', \n",
        "'HDPMTDUE60_2021', \n",
        "'HMVCYDANY_2021',\n",
        "'SEXCYMAL_2019', \n",
        "'SEXCYFEM_2019', \n",
        "'SEXCYMAL_2021', \n",
        "'SEXCYFEM_2021', \n",
        "'MARCYNEVER_2019', \n",
        "'MARCYSEP_2019', \n",
        "'MARCYDIVOR_2019', \n",
        "'MARCYWIDOW_2019', \n",
        "'MARCYNEVER_2021', \n",
        "'MARCYSEP_2021', \n",
        "'MARCYDIVOR_2021', \n",
        "'MARCYWIDOW_2021', \n",
        "'EDUCYHSCH_2019',\n",
        "'EDUCYHSCH_2021',\n",
        "    \n",
        "], axis=1)"
      ]
    },
    {
      "cell_type": "code",
      "execution_count": null,
      "id": "4c31b10b",
      "metadata": {
        "id": "4c31b10b"
      },
      "outputs": [],
      "source": [
        "# Drop all object type columns\n",
        "ny_merged_v2 = ny_merged_v2.select_dtypes(exclude=['object'])"
      ]
    },
    {
      "cell_type": "code",
      "execution_count": null,
      "id": "b1ddd61a",
      "metadata": {
        "id": "b1ddd61a"
      },
      "outputs": [],
      "source": [
        "# Make population percentage columns\n",
        "# Married\n",
        "ny_merged_v2['MARCYMARR_PCT_2019'] = ny_merged_v2['MARCYMARR_2019'].div(ny_merged_v2['POPCY_2019'])\n",
        "ny_merged_v2['MARCYMARR_PCT_2021'] = ny_merged_v2['MARCYMARR_2021'].div(ny_merged_v2['POPCY_2019'])\n",
        "# Black\n",
        "ny_merged_v2['RACCYBLACK_PCT_2019'] = ny_merged_v2['RACCYBLACK_2019'].div(ny_merged_v2['POPCY_2019'])\n",
        "ny_merged_v2['RACCYBLACK_PCT_2021'] = ny_merged_v2['RACCYBLACK_2021'].div(ny_merged_v2['POPCY_2019'])\n",
        "# Hispanic\n",
        "ny_merged_v2['HISCYHISP_PCT_2019'] = ny_merged_v2['HISCYHISP_2019'].div(ny_merged_v2['POPCY_2019'])\n",
        "ny_merged_v2['HISCYHISP_PCT_2021'] = ny_merged_v2['HISCYHISP_2021'].div(ny_merged_v2['POPCY_2019'])\n",
        "# White\n",
        "ny_merged_v2['RACCYWHITE_PCT_2019'] = ny_merged_v2['RACCYWHITE_2019'].div(ny_merged_v2['POPCY_2019'])\n",
        "ny_merged_v2['RACCYWHITE_PCT_2021'] = ny_merged_v2['RACCYWHITE_2021'].div(ny_merged_v2['POPCY_2019'])\n",
        "# Asian\n",
        "ny_merged_v2['RACCYASIAN_PCT_2019'] = ny_merged_v2['RACCYASIAN_2019'].div(ny_merged_v2['POPCY_2019'])\n",
        "ny_merged_v2['RACCYASIAN_PCT_2021'] = ny_merged_v2['RACCYASIAN_2021'].div(ny_merged_v2['POPCY_2019'])\n",
        "# Pop 16+ in Armed Forces\n",
        "ny_merged_v2['LBFCYARM_PCT_2019'] = ny_merged_v2['LBFCYARM_2019'].div(ny_merged_v2['POPCY_2019'])\n",
        "ny_merged_v2['LBFCYARM_PCT_2021'] = ny_merged_v2['LBFCYARM_2021'].div(ny_merged_v2['POPCY_2019'])\n",
        "# Pop 25+ Bachelor's degree\n",
        "ny_merged_v2['EDUCYBACH_PCT_2019'] = ny_merged_v2['EDUCYBACH_2019'].div(ny_merged_v2['POPCY_2019'])\n",
        "ny_merged_v2['EDUCYBACH_PCT_2021'] = ny_merged_v2['EDUCYBACH_2021'].div(ny_merged_v2['POPCY_2019'])\n",
        "# Pop 25+ graduate or prof school degree\n",
        "ny_merged_v2['EDUCYGRAD_PCT_2019'] = ny_merged_v2['EDUCYGRAD_2019'].div(ny_merged_v2['POPCY_2019'])\n",
        "ny_merged_v2['EDUCYGRAD_PCT_2021'] = ny_merged_v2['EDUCYGRAD_2021'].div(ny_merged_v2['POPCY_2019'])"
      ]
    },
    {
      "cell_type": "code",
      "execution_count": null,
      "id": "bc9575f7",
      "metadata": {
        "id": "bc9575f7"
      },
      "outputs": [],
      "source": [
        "# Change all INF values in new percentage columns to NaN\n",
        "ny_merged_v2['MARCYMARR_PCT_2019'].replace([np.inf, -np.inf], np.nan, inplace=True)\n",
        "ny_merged_v2['MARCYMARR_PCT_2021'].replace([np.inf, -np.inf], np.nan, inplace=True)\n",
        "ny_merged_v2['RACCYBLACK_PCT_2019'].replace([np.inf, -np.inf], np.nan, inplace=True)\n",
        "ny_merged_v2['RACCYBLACK_PCT_2021'].replace([np.inf, -np.inf], np.nan, inplace=True)\n",
        "ny_merged_v2['HISCYHISP_PCT_2019'].replace([np.inf, -np.inf], np.nan, inplace=True)\n",
        "ny_merged_v2['HISCYHISP_PCT_2021'].replace([np.inf, -np.inf], np.nan, inplace=True)\n",
        "ny_merged_v2['RACCYWHITE_PCT_2019'].replace([np.inf, -np.inf], np.nan, inplace=True)\n",
        "ny_merged_v2['RACCYWHITE_PCT_2021'].replace([np.inf, -np.inf], np.nan, inplace=True)\n",
        "ny_merged_v2['RACCYASIAN_PCT_2019'].replace([np.inf, -np.inf], np.nan, inplace=True)\n",
        "ny_merged_v2['RACCYASIAN_PCT_2021'].replace([np.inf, -np.inf], np.nan, inplace=True)\n",
        "ny_merged_v2['LBFCYARM_PCT_2019'].replace([np.inf, -np.inf], np.nan, inplace=True)\n",
        "ny_merged_v2['LBFCYARM_PCT_2021'].replace([np.inf, -np.inf], np.nan, inplace=True)\n",
        "ny_merged_v2['EDUCYBACH_PCT_2019'].replace([np.inf, -np.inf], np.nan, inplace=True)\n",
        "ny_merged_v2['EDUCYBACH_PCT_2021'].replace([np.inf, -np.inf], np.nan, inplace=True)\n",
        "ny_merged_v2['EDUCYGRAD_PCT_2019'].replace([np.inf, -np.inf], np.nan, inplace=True)\n",
        "ny_merged_v2['EDUCYGRAD_PCT_2021'].replace([np.inf, -np.inf], np.nan, inplace=True)"
      ]
    },
    {
      "cell_type": "code",
      "execution_count": null,
      "id": "c9aeb5c1",
      "metadata": {
        "id": "c9aeb5c1",
        "colab": {
          "base_uri": "https://localhost:8080/",
          "height": 487
        },
        "outputId": "bf6c8f1a-6571-4a77-a9cf-f1e7d329a52c"
      },
      "outputs": [
        {
          "output_type": "execute_result",
          "data": {
            "text/plain": [
              "      ZIP_Code  POPCY_2019  AGECYMED_2019  RACCYWHITE_2019  RACCYBLACK_2019  \\\n",
              "0         6390         248          54.30              235                3   \n",
              "1        10001       28740          38.73            17846             3538   \n",
              "2        10002       82868          41.28            29615             8520   \n",
              "3        10003       57643          32.77            41372             3810   \n",
              "4        10004        4300          38.26             2956              357   \n",
              "...        ...         ...            ...              ...              ...   \n",
              "1807     14898        1638          36.63             1611               10   \n",
              "1808     14901       14236          34.20            11292             1790   \n",
              "1809     14903        8595          39.59             7248              873   \n",
              "1810     14904       15216          36.93            13233             1029   \n",
              "1811     14905        8085          42.55             7062              524   \n",
              "\n",
              "      RACCYAMIND_2019  RACCYASIAN_2019  RACCYHAWAI_2019  RACCYOTHER_2019  \\\n",
              "0                   0                5                0                1   \n",
              "1                  97             4868                6             1300   \n",
              "2                 286            35553               28             6478   \n",
              "3                 100             9084               24             1338   \n",
              "4                  14              628                1              116   \n",
              "...               ...              ...              ...              ...   \n",
              "1807                3                5                0                1   \n",
              "1808               56              154                3              125   \n",
              "1809               23              154                3              101   \n",
              "1810               55              131                6               79   \n",
              "1811               14              128                5               57   \n",
              "\n",
              "      RACCYMULT_2019  ...  RACCYWHITE_PCT_2019  RACCYWHITE_PCT_2021  \\\n",
              "0                  4  ...             0.947581             0.754032   \n",
              "1               1086  ...             0.620946             0.530585   \n",
              "2               2388  ...             0.357376             0.286166   \n",
              "3               1915  ...             0.717728             0.607238   \n",
              "4                228  ...             0.687442             0.441163   \n",
              "...              ...  ...                  ...                  ...   \n",
              "1807               9  ...             0.983516             0.855311   \n",
              "1808             816  ...             0.793200             0.641894   \n",
              "1809             192  ...             0.843281             0.752065   \n",
              "1810             682  ...             0.869677             0.815063   \n",
              "1811             295  ...             0.873469             0.816450   \n",
              "\n",
              "      RACCYASIAN_PCT_2019  RACCYASIAN_PCT_2021  LBFCYARM_PCT_2019  \\\n",
              "0                0.020161             0.012097           0.000000   \n",
              "1                0.169381             0.236952           0.000035   \n",
              "2                0.429032             0.565550           0.000000   \n",
              "3                0.157591             0.248669           0.000364   \n",
              "4                0.146047             0.183953           0.000930   \n",
              "...                   ...                  ...                ...   \n",
              "1807             0.003053             0.004884           0.000000   \n",
              "1808             0.010818             0.047345           0.000000   \n",
              "1809             0.017917             0.018848           0.001978   \n",
              "1810             0.008609             0.007755           0.000000   \n",
              "1811             0.015832             0.016327           0.000000   \n",
              "\n",
              "      LBFCYARM_PCT_2021  EDUCYBACH_PCT_2019  EDUCYBACH_PCT_2021  \\\n",
              "0              0.000000            0.157258            0.056452   \n",
              "1              0.000870            0.300418            0.323312   \n",
              "2              0.000012            0.192668            0.205713   \n",
              "3              0.000382            0.320906            0.305189   \n",
              "4              0.000000            0.326977            0.263953   \n",
              "...                 ...                 ...                 ...   \n",
              "1807           0.000000            0.045177            0.037241   \n",
              "1808           0.000000            0.063080            0.056547   \n",
              "1809           0.005352            0.092147            0.123560   \n",
              "1810           0.000000            0.069269            0.065852   \n",
              "1811           0.000000            0.145578            0.131478   \n",
              "\n",
              "      EDUCYGRAD_PCT_2019  EDUCYGRAD_PCT_2021  \n",
              "0               0.258065            0.032258  \n",
              "1               0.249861            0.245511  \n",
              "2               0.107894            0.105771  \n",
              "3               0.266693            0.262998  \n",
              "4               0.303023            0.255116  \n",
              "...                  ...                 ...  \n",
              "1807            0.033578            0.040293  \n",
              "1808            0.046713            0.035052  \n",
              "1809            0.091216            0.116230  \n",
              "1810            0.037395            0.049159  \n",
              "1811            0.171429            0.151268  \n",
              "\n",
              "[1722 rows x 111 columns]"
            ],
            "text/html": [
              "\n",
              "  <div id=\"df-2b91af45-c64c-4cf6-9fa3-f645bf420a26\">\n",
              "    <div class=\"colab-df-container\">\n",
              "      <div>\n",
              "<style scoped>\n",
              "    .dataframe tbody tr th:only-of-type {\n",
              "        vertical-align: middle;\n",
              "    }\n",
              "\n",
              "    .dataframe tbody tr th {\n",
              "        vertical-align: top;\n",
              "    }\n",
              "\n",
              "    .dataframe thead th {\n",
              "        text-align: right;\n",
              "    }\n",
              "</style>\n",
              "<table border=\"1\" class=\"dataframe\">\n",
              "  <thead>\n",
              "    <tr style=\"text-align: right;\">\n",
              "      <th></th>\n",
              "      <th>ZIP_Code</th>\n",
              "      <th>POPCY_2019</th>\n",
              "      <th>AGECYMED_2019</th>\n",
              "      <th>RACCYWHITE_2019</th>\n",
              "      <th>RACCYBLACK_2019</th>\n",
              "      <th>RACCYAMIND_2019</th>\n",
              "      <th>RACCYASIAN_2019</th>\n",
              "      <th>RACCYHAWAI_2019</th>\n",
              "      <th>RACCYOTHER_2019</th>\n",
              "      <th>RACCYMULT_2019</th>\n",
              "      <th>...</th>\n",
              "      <th>RACCYWHITE_PCT_2019</th>\n",
              "      <th>RACCYWHITE_PCT_2021</th>\n",
              "      <th>RACCYASIAN_PCT_2019</th>\n",
              "      <th>RACCYASIAN_PCT_2021</th>\n",
              "      <th>LBFCYARM_PCT_2019</th>\n",
              "      <th>LBFCYARM_PCT_2021</th>\n",
              "      <th>EDUCYBACH_PCT_2019</th>\n",
              "      <th>EDUCYBACH_PCT_2021</th>\n",
              "      <th>EDUCYGRAD_PCT_2019</th>\n",
              "      <th>EDUCYGRAD_PCT_2021</th>\n",
              "    </tr>\n",
              "  </thead>\n",
              "  <tbody>\n",
              "    <tr>\n",
              "      <th>0</th>\n",
              "      <td>6390</td>\n",
              "      <td>248</td>\n",
              "      <td>54.30</td>\n",
              "      <td>235</td>\n",
              "      <td>3</td>\n",
              "      <td>0</td>\n",
              "      <td>5</td>\n",
              "      <td>0</td>\n",
              "      <td>1</td>\n",
              "      <td>4</td>\n",
              "      <td>...</td>\n",
              "      <td>0.947581</td>\n",
              "      <td>0.754032</td>\n",
              "      <td>0.020161</td>\n",
              "      <td>0.012097</td>\n",
              "      <td>0.000000</td>\n",
              "      <td>0.000000</td>\n",
              "      <td>0.157258</td>\n",
              "      <td>0.056452</td>\n",
              "      <td>0.258065</td>\n",
              "      <td>0.032258</td>\n",
              "    </tr>\n",
              "    <tr>\n",
              "      <th>1</th>\n",
              "      <td>10001</td>\n",
              "      <td>28740</td>\n",
              "      <td>38.73</td>\n",
              "      <td>17846</td>\n",
              "      <td>3538</td>\n",
              "      <td>97</td>\n",
              "      <td>4868</td>\n",
              "      <td>6</td>\n",
              "      <td>1300</td>\n",
              "      <td>1086</td>\n",
              "      <td>...</td>\n",
              "      <td>0.620946</td>\n",
              "      <td>0.530585</td>\n",
              "      <td>0.169381</td>\n",
              "      <td>0.236952</td>\n",
              "      <td>0.000035</td>\n",
              "      <td>0.000870</td>\n",
              "      <td>0.300418</td>\n",
              "      <td>0.323312</td>\n",
              "      <td>0.249861</td>\n",
              "      <td>0.245511</td>\n",
              "    </tr>\n",
              "    <tr>\n",
              "      <th>2</th>\n",
              "      <td>10002</td>\n",
              "      <td>82868</td>\n",
              "      <td>41.28</td>\n",
              "      <td>29615</td>\n",
              "      <td>8520</td>\n",
              "      <td>286</td>\n",
              "      <td>35553</td>\n",
              "      <td>28</td>\n",
              "      <td>6478</td>\n",
              "      <td>2388</td>\n",
              "      <td>...</td>\n",
              "      <td>0.357376</td>\n",
              "      <td>0.286166</td>\n",
              "      <td>0.429032</td>\n",
              "      <td>0.565550</td>\n",
              "      <td>0.000000</td>\n",
              "      <td>0.000012</td>\n",
              "      <td>0.192668</td>\n",
              "      <td>0.205713</td>\n",
              "      <td>0.107894</td>\n",
              "      <td>0.105771</td>\n",
              "    </tr>\n",
              "    <tr>\n",
              "      <th>3</th>\n",
              "      <td>10003</td>\n",
              "      <td>57643</td>\n",
              "      <td>32.77</td>\n",
              "      <td>41372</td>\n",
              "      <td>3810</td>\n",
              "      <td>100</td>\n",
              "      <td>9084</td>\n",
              "      <td>24</td>\n",
              "      <td>1338</td>\n",
              "      <td>1915</td>\n",
              "      <td>...</td>\n",
              "      <td>0.717728</td>\n",
              "      <td>0.607238</td>\n",
              "      <td>0.157591</td>\n",
              "      <td>0.248669</td>\n",
              "      <td>0.000364</td>\n",
              "      <td>0.000382</td>\n",
              "      <td>0.320906</td>\n",
              "      <td>0.305189</td>\n",
              "      <td>0.266693</td>\n",
              "      <td>0.262998</td>\n",
              "    </tr>\n",
              "    <tr>\n",
              "      <th>4</th>\n",
              "      <td>10004</td>\n",
              "      <td>4300</td>\n",
              "      <td>38.26</td>\n",
              "      <td>2956</td>\n",
              "      <td>357</td>\n",
              "      <td>14</td>\n",
              "      <td>628</td>\n",
              "      <td>1</td>\n",
              "      <td>116</td>\n",
              "      <td>228</td>\n",
              "      <td>...</td>\n",
              "      <td>0.687442</td>\n",
              "      <td>0.441163</td>\n",
              "      <td>0.146047</td>\n",
              "      <td>0.183953</td>\n",
              "      <td>0.000930</td>\n",
              "      <td>0.000000</td>\n",
              "      <td>0.326977</td>\n",
              "      <td>0.263953</td>\n",
              "      <td>0.303023</td>\n",
              "      <td>0.255116</td>\n",
              "    </tr>\n",
              "    <tr>\n",
              "      <th>...</th>\n",
              "      <td>...</td>\n",
              "      <td>...</td>\n",
              "      <td>...</td>\n",
              "      <td>...</td>\n",
              "      <td>...</td>\n",
              "      <td>...</td>\n",
              "      <td>...</td>\n",
              "      <td>...</td>\n",
              "      <td>...</td>\n",
              "      <td>...</td>\n",
              "      <td>...</td>\n",
              "      <td>...</td>\n",
              "      <td>...</td>\n",
              "      <td>...</td>\n",
              "      <td>...</td>\n",
              "      <td>...</td>\n",
              "      <td>...</td>\n",
              "      <td>...</td>\n",
              "      <td>...</td>\n",
              "      <td>...</td>\n",
              "      <td>...</td>\n",
              "    </tr>\n",
              "    <tr>\n",
              "      <th>1807</th>\n",
              "      <td>14898</td>\n",
              "      <td>1638</td>\n",
              "      <td>36.63</td>\n",
              "      <td>1611</td>\n",
              "      <td>10</td>\n",
              "      <td>3</td>\n",
              "      <td>5</td>\n",
              "      <td>0</td>\n",
              "      <td>1</td>\n",
              "      <td>9</td>\n",
              "      <td>...</td>\n",
              "      <td>0.983516</td>\n",
              "      <td>0.855311</td>\n",
              "      <td>0.003053</td>\n",
              "      <td>0.004884</td>\n",
              "      <td>0.000000</td>\n",
              "      <td>0.000000</td>\n",
              "      <td>0.045177</td>\n",
              "      <td>0.037241</td>\n",
              "      <td>0.033578</td>\n",
              "      <td>0.040293</td>\n",
              "    </tr>\n",
              "    <tr>\n",
              "      <th>1808</th>\n",
              "      <td>14901</td>\n",
              "      <td>14236</td>\n",
              "      <td>34.20</td>\n",
              "      <td>11292</td>\n",
              "      <td>1790</td>\n",
              "      <td>56</td>\n",
              "      <td>154</td>\n",
              "      <td>3</td>\n",
              "      <td>125</td>\n",
              "      <td>816</td>\n",
              "      <td>...</td>\n",
              "      <td>0.793200</td>\n",
              "      <td>0.641894</td>\n",
              "      <td>0.010818</td>\n",
              "      <td>0.047345</td>\n",
              "      <td>0.000000</td>\n",
              "      <td>0.000000</td>\n",
              "      <td>0.063080</td>\n",
              "      <td>0.056547</td>\n",
              "      <td>0.046713</td>\n",
              "      <td>0.035052</td>\n",
              "    </tr>\n",
              "    <tr>\n",
              "      <th>1809</th>\n",
              "      <td>14903</td>\n",
              "      <td>8595</td>\n",
              "      <td>39.59</td>\n",
              "      <td>7248</td>\n",
              "      <td>873</td>\n",
              "      <td>23</td>\n",
              "      <td>154</td>\n",
              "      <td>3</td>\n",
              "      <td>101</td>\n",
              "      <td>192</td>\n",
              "      <td>...</td>\n",
              "      <td>0.843281</td>\n",
              "      <td>0.752065</td>\n",
              "      <td>0.017917</td>\n",
              "      <td>0.018848</td>\n",
              "      <td>0.001978</td>\n",
              "      <td>0.005352</td>\n",
              "      <td>0.092147</td>\n",
              "      <td>0.123560</td>\n",
              "      <td>0.091216</td>\n",
              "      <td>0.116230</td>\n",
              "    </tr>\n",
              "    <tr>\n",
              "      <th>1810</th>\n",
              "      <td>14904</td>\n",
              "      <td>15216</td>\n",
              "      <td>36.93</td>\n",
              "      <td>13233</td>\n",
              "      <td>1029</td>\n",
              "      <td>55</td>\n",
              "      <td>131</td>\n",
              "      <td>6</td>\n",
              "      <td>79</td>\n",
              "      <td>682</td>\n",
              "      <td>...</td>\n",
              "      <td>0.869677</td>\n",
              "      <td>0.815063</td>\n",
              "      <td>0.008609</td>\n",
              "      <td>0.007755</td>\n",
              "      <td>0.000000</td>\n",
              "      <td>0.000000</td>\n",
              "      <td>0.069269</td>\n",
              "      <td>0.065852</td>\n",
              "      <td>0.037395</td>\n",
              "      <td>0.049159</td>\n",
              "    </tr>\n",
              "    <tr>\n",
              "      <th>1811</th>\n",
              "      <td>14905</td>\n",
              "      <td>8085</td>\n",
              "      <td>42.55</td>\n",
              "      <td>7062</td>\n",
              "      <td>524</td>\n",
              "      <td>14</td>\n",
              "      <td>128</td>\n",
              "      <td>5</td>\n",
              "      <td>57</td>\n",
              "      <td>295</td>\n",
              "      <td>...</td>\n",
              "      <td>0.873469</td>\n",
              "      <td>0.816450</td>\n",
              "      <td>0.015832</td>\n",
              "      <td>0.016327</td>\n",
              "      <td>0.000000</td>\n",
              "      <td>0.000000</td>\n",
              "      <td>0.145578</td>\n",
              "      <td>0.131478</td>\n",
              "      <td>0.171429</td>\n",
              "      <td>0.151268</td>\n",
              "    </tr>\n",
              "  </tbody>\n",
              "</table>\n",
              "<p>1722 rows × 111 columns</p>\n",
              "</div>\n",
              "      <button class=\"colab-df-convert\" onclick=\"convertToInteractive('df-2b91af45-c64c-4cf6-9fa3-f645bf420a26')\"\n",
              "              title=\"Convert this dataframe to an interactive table.\"\n",
              "              style=\"display:none;\">\n",
              "        \n",
              "  <svg xmlns=\"http://www.w3.org/2000/svg\" height=\"24px\"viewBox=\"0 0 24 24\"\n",
              "       width=\"24px\">\n",
              "    <path d=\"M0 0h24v24H0V0z\" fill=\"none\"/>\n",
              "    <path d=\"M18.56 5.44l.94 2.06.94-2.06 2.06-.94-2.06-.94-.94-2.06-.94 2.06-2.06.94zm-11 1L8.5 8.5l.94-2.06 2.06-.94-2.06-.94L8.5 2.5l-.94 2.06-2.06.94zm10 10l.94 2.06.94-2.06 2.06-.94-2.06-.94-.94-2.06-.94 2.06-2.06.94z\"/><path d=\"M17.41 7.96l-1.37-1.37c-.4-.4-.92-.59-1.43-.59-.52 0-1.04.2-1.43.59L10.3 9.45l-7.72 7.72c-.78.78-.78 2.05 0 2.83L4 21.41c.39.39.9.59 1.41.59.51 0 1.02-.2 1.41-.59l7.78-7.78 2.81-2.81c.8-.78.8-2.07 0-2.86zM5.41 20L4 18.59l7.72-7.72 1.47 1.35L5.41 20z\"/>\n",
              "  </svg>\n",
              "      </button>\n",
              "      \n",
              "  <style>\n",
              "    .colab-df-container {\n",
              "      display:flex;\n",
              "      flex-wrap:wrap;\n",
              "      gap: 12px;\n",
              "    }\n",
              "\n",
              "    .colab-df-convert {\n",
              "      background-color: #E8F0FE;\n",
              "      border: none;\n",
              "      border-radius: 50%;\n",
              "      cursor: pointer;\n",
              "      display: none;\n",
              "      fill: #1967D2;\n",
              "      height: 32px;\n",
              "      padding: 0 0 0 0;\n",
              "      width: 32px;\n",
              "    }\n",
              "\n",
              "    .colab-df-convert:hover {\n",
              "      background-color: #E2EBFA;\n",
              "      box-shadow: 0px 1px 2px rgba(60, 64, 67, 0.3), 0px 1px 3px 1px rgba(60, 64, 67, 0.15);\n",
              "      fill: #174EA6;\n",
              "    }\n",
              "\n",
              "    [theme=dark] .colab-df-convert {\n",
              "      background-color: #3B4455;\n",
              "      fill: #D2E3FC;\n",
              "    }\n",
              "\n",
              "    [theme=dark] .colab-df-convert:hover {\n",
              "      background-color: #434B5C;\n",
              "      box-shadow: 0px 1px 3px 1px rgba(0, 0, 0, 0.15);\n",
              "      filter: drop-shadow(0px 1px 2px rgba(0, 0, 0, 0.3));\n",
              "      fill: #FFFFFF;\n",
              "    }\n",
              "  </style>\n",
              "\n",
              "      <script>\n",
              "        const buttonEl =\n",
              "          document.querySelector('#df-2b91af45-c64c-4cf6-9fa3-f645bf420a26 button.colab-df-convert');\n",
              "        buttonEl.style.display =\n",
              "          google.colab.kernel.accessAllowed ? 'block' : 'none';\n",
              "\n",
              "        async function convertToInteractive(key) {\n",
              "          const element = document.querySelector('#df-2b91af45-c64c-4cf6-9fa3-f645bf420a26');\n",
              "          const dataTable =\n",
              "            await google.colab.kernel.invokeFunction('convertToInteractive',\n",
              "                                                     [key], {});\n",
              "          if (!dataTable) return;\n",
              "\n",
              "          const docLinkHtml = 'Like what you see? Visit the ' +\n",
              "            '<a target=\"_blank\" href=https://colab.research.google.com/notebooks/data_table.ipynb>data table notebook</a>'\n",
              "            + ' to learn more about interactive tables.';\n",
              "          element.innerHTML = '';\n",
              "          dataTable['output_type'] = 'display_data';\n",
              "          await google.colab.output.renderOutput(dataTable, element);\n",
              "          const docLink = document.createElement('div');\n",
              "          docLink.innerHTML = docLinkHtml;\n",
              "          element.appendChild(docLink);\n",
              "        }\n",
              "      </script>\n",
              "    </div>\n",
              "  </div>\n",
              "  "
            ]
          },
          "metadata": {},
          "execution_count": 48
        }
      ],
      "source": [
        "# Drop all NAs\n",
        "ny_merged_v2.dropna(axis=0, how='any', thresh=None, subset=None, inplace=False)"
      ]
    },
    {
      "cell_type": "code",
      "execution_count": null,
      "id": "9d67222c",
      "metadata": {
        "id": "9d67222c"
      },
      "outputs": [],
      "source": [
        "# Drop original raw rpopulation columns that we already made percentages for\n",
        "ny_merged_v2 = ny_merged_v2.drop(['MARCYMARR_2019', 'MARCYMARR_2021', 'RACCYBLACK_2019', 'RACCYBLACK_2021', 'HISCYHISP_2019', 'HISCYHISP_2021', 'RACCYWHITE_2019', 'RACCYWHITE_2021', 'RACCYASIAN_2019', 'RACCYASIAN_2021', 'LBFCYARM_2019', 'LBFCYARM_2021', 'EDUCYBACH_2019', 'EDUCYBACH_2021', 'EDUCYGRAD_2019', 'EDUCYGRAD_2021'], axis=1)\n"
      ]
    },
    {
      "cell_type": "code",
      "execution_count": null,
      "id": "477f9165",
      "metadata": {
        "id": "477f9165"
      },
      "outputs": [],
      "source": [
        "# Drop other race columns and nonresident population columns\n",
        "ny_merged_v2 = ny_merged_v2.drop([\n",
        "'RACCYAMIND_2019', \n",
        "'RACCYHAWAI_2019', \n",
        "'RACCYOTHER_2019', \n",
        "'RACCYMULT_2019', \n",
        "'HISCYNONH_2019', \n",
        "'RCHCYWHNHS_2019', \n",
        "'RCHCYBLNHS_2019', \n",
        "'RCHCYAMNHS_2019', \n",
        "'RCHCYASNHS_2019', \n",
        "'RCHCYHANHS_2019', \n",
        "'RCHCYOTNHS_2019', \n",
        "'RCHCYMUNHS_2019', \n",
        "'RCHCYWHHIS_2019', \n",
        "'RCHCYBLHIS_2019', \n",
        "'RCHCYAMHIS_2019', \n",
        "'RCHCYASHIS_2019', \n",
        "'RCHCYHAHIS_2019', \n",
        "'RCHCYOTHIS_2019', \n",
        "'RCHCYMUHIS_2019',\n",
        "'RACCYAMIND_2021', \n",
        "'RACCYHAWAI_2021', \n",
        "'RACCYOTHER_2021', \n",
        "'RACCYMULT_2021', \n",
        "'HISCYNONH_2021', \n",
        "'RCHCYWHNHS_2021', \n",
        "'RCHCYBLNHS_2021', \n",
        "'RCHCYAMNHS_2021', \n",
        "'RCHCYASNHS_2021', \n",
        "'RCHCYHANHS_2021', \n",
        "'RCHCYOTNHS_2021', \n",
        "'RCHCYMUNHS_2021', \n",
        "'RCHCYWHHIS_2021', \n",
        "'RCHCYBLHIS_2021', \n",
        "'RCHCYAMHIS_2021', \n",
        "'RCHCYASHIS_2021', \n",
        "'RCHCYHAHIS_2021', \n",
        "'RCHCYOTHIS_2021', \n",
        "'RCHCYMUHIS_2021', \n",
        "'NRPBYTTOT_2021',\n",
        " 'NRPBYQ2TOT_2021',\n",
        " 'NRPBYQ2MIG_2021',\n",
        " 'NRPBYQ2PER_2021',\n",
        " 'NRPBYQ2PHO_2021',\n",
        " 'NRPBYQ2FMF_2021',\n",
        " 'NRPBYQ2HM2_2021',\n",
        " 'NRPBYQ2CMP_2021',\n",
        " 'NRPBYQ2RV_2021',\n",
        " 'NRPBYQ2HTL_2021',\n",
        " 'NRPCYQ2TOT_2021',\n",
        " 'NRPCYQ2BUS_2021',\n",
        " 'NRPCYQ2BSD_2021',\n",
        " 'NRPCYQ2BSF_2021',\n",
        " 'NRPCYQ2MIG_2021',\n",
        " 'NRPCYQ2PER_2021',\n",
        " 'NRPCYQ2PHO_2021',\n",
        " 'NRPCYQ2FMF_2021',\n",
        " 'NRPCYQ2HM2_2021',\n",
        " 'NRPCYQ2CMP_2021',\n",
        " 'NRPCYQ2RV_2021',\n",
        " 'NRPCYQ2HTL_2021',\n",
        "], axis=1)"
      ]
    },
    {
      "cell_type": "code",
      "execution_count": null,
      "id": "42d0265e",
      "metadata": {
        "id": "42d0265e"
      },
      "outputs": [],
      "source": [
        "# Drop any rows with a race, marriage %, armed forces, or education level percentage column value greater than 1 since having more than \n",
        "# 100% of any of those factors is impossible\n",
        "indexNames = ny_merged_v2[ ny_merged_v2['MARCYMARR_PCT_2019'] > 1 ].index\n",
        "ny_merged_v2.drop(indexNames , inplace=True)\n",
        "indexNames = ny_merged_v2[ ny_merged_v2['MARCYMARR_PCT_2021'] > 1 ].index\n",
        "ny_merged_v2.drop(indexNames , inplace=True)\n",
        "indexNames = ny_merged_v2[ ny_merged_v2['RACCYBLACK_PCT_2019'] > 1 ].index\n",
        "ny_merged_v2.drop(indexNames , inplace=True)\n",
        "indexNames = ny_merged_v2[ ny_merged_v2['RACCYBLACK_PCT_2021'] > 1 ].index\n",
        "ny_merged_v2.drop(indexNames , inplace=True)\n",
        "indexNames = ny_merged_v2[ ny_merged_v2['HISCYHISP_PCT_2019'] > 1 ].index\n",
        "ny_merged_v2.drop(indexNames , inplace=True)\n",
        "indexNames = ny_merged_v2[ ny_merged_v2['HISCYHISP_PCT_2021'] > 1 ].index\n",
        "ny_merged_v2.drop(indexNames , inplace=True)\n",
        "indexNames = ny_merged_v2[ ny_merged_v2['RACCYWHITE_PCT_2019'] > 1 ].index\n",
        "ny_merged_v2.drop(indexNames , inplace=True)\n",
        "indexNames = ny_merged_v2[ ny_merged_v2['RACCYWHITE_PCT_2021'] > 1 ].index\n",
        "ny_merged_v2.drop(indexNames , inplace=True)\n",
        "indexNames = ny_merged_v2[ ny_merged_v2['RACCYASIAN_PCT_2019'] > 1 ].index\n",
        "ny_merged_v2.drop(indexNames , inplace=True)\n",
        "indexNames = ny_merged_v2[ ny_merged_v2['RACCYASIAN_PCT_2021'] > 1 ].index\n",
        "ny_merged_v2.drop(indexNames , inplace=True)\n",
        "indexNames = ny_merged_v2[ ny_merged_v2['LBFCYARM_PCT_2019'] > 1 ].index\n",
        "ny_merged_v2.drop(indexNames , inplace=True)\n",
        "indexNames = ny_merged_v2[ ny_merged_v2['LBFCYARM_PCT_2021'] > 1 ].index\n",
        "ny_merged_v2.drop(indexNames , inplace=True)\n",
        "indexNames = ny_merged_v2[ ny_merged_v2['EDUCYBACH_PCT_2019'] > 1 ].index\n",
        "ny_merged_v2.drop(indexNames , inplace=True)\n",
        "indexNames = ny_merged_v2[ ny_merged_v2['EDUCYBACH_PCT_2021'] > 1 ].index\n",
        "ny_merged_v2.drop(indexNames , inplace=True)\n",
        "indexNames = ny_merged_v2[ ny_merged_v2['EDUCYGRAD_PCT_2019'] > 1 ].index\n",
        "ny_merged_v2.drop(indexNames , inplace=True)\n",
        "indexNames = ny_merged_v2[ ny_merged_v2['EDUCYGRAD_PCT_2021'] > 1 ].index\n",
        "ny_merged_v2.drop(indexNames , inplace=True)"
      ]
    },
    {
      "cell_type": "code",
      "execution_count": null,
      "id": "0cdc982f",
      "metadata": {
        "id": "0cdc982f",
        "colab": {
          "base_uri": "https://localhost:8080/"
        },
        "outputId": "97e50d0c-fcd4-47da-82cf-f935679b5f3e"
      },
      "outputs": [
        {
          "output_type": "stream",
          "name": "stdout",
          "text": [
            "Variable: POPCY_2019    Data Type: int64 \n",
            "\n",
            " Number of Obs.: 1657 \n",
            " Number of missing obs.: 0 \n",
            " Percent missing: 0.0 \n",
            " Number of unique values: 1533 \n",
            "\n",
            " Range: [5, 108470] \n",
            " Mean: 11758.37 \n",
            " Standard Deviation: 18043.04 \n",
            " Mode: 61 \n",
            " 10th Percentile: 318.4000000000001 \n",
            " 25th Percentile: 1156.0 \n",
            " 50th Percentile: 3596.0 \n",
            " 75th Percentile: 14213.0 \n",
            " 90th Percentile: 35429.20000000001 \n",
            "\n",
            "\n",
            "\n",
            "\n",
            "\n",
            "Variable: AGECYMED_2019    Data Type: float64 \n",
            "\n",
            " Number of Obs.: 1657 \n",
            " Number of missing obs.: 0 \n",
            " Percent missing: 0.0 \n",
            " Number of unique values: 1117 \n",
            "\n",
            " Range: [19.12, 74.88] \n",
            " Mean: 42.27 \n",
            " Standard Deviation: 6.01 \n",
            " Mode: 44.22 \n",
            " 10th Percentile: 34.94 \n",
            " 25th Percentile: 39.05 \n",
            " 50th Percentile: 42.66 \n",
            " 75th Percentile: 45.48 \n",
            " 90th Percentile: 49.45 \n",
            "\n",
            "\n",
            "\n",
            "\n",
            "\n",
            "Variable: HHDCYAVESZ_2019    Data Type: float64 \n",
            "\n",
            " Number of Obs.: 1657 \n",
            " Number of missing obs.: 0 \n",
            " Percent missing: 0.0 \n",
            " Number of unique values: 186 \n",
            "\n",
            " Range: [1.16, 4.25] \n",
            " Mean: 2.37 \n",
            " Standard Deviation: 0.33 \n",
            " Mode: 2.17 \n",
            " 10th Percentile: 2.05 \n",
            " 25th Percentile: 2.18 \n",
            " 50th Percentile: 2.34 \n",
            " 75th Percentile: 2.51 \n",
            " 90th Percentile: 2.81 \n",
            "\n",
            "\n",
            "\n",
            "\n",
            "\n",
            "Variable: MARCYMARR_PCT_2019    Data Type: float64 \n",
            "\n",
            " Number of Obs.: 1657 \n",
            " Number of missing obs.: 0 \n",
            " Percent missing: 0.0 \n",
            " Number of unique values: 1634 \n",
            "\n",
            " Range: [0.0, 0.6216216216216216] \n",
            " Mean: 0.39 \n",
            " Standard Deviation: 0.09 \n",
            " Mode: 0.4666666666666667 \n",
            " 10th Percentile: 0.26036096687771787 \n",
            " 25th Percentile: 0.35433131876646523 \n",
            " 50th Percentile: 0.411175645904266 \n",
            " 75th Percentile: 0.45317220543806647 \n",
            " 90th Percentile: 0.4877167533037854 \n",
            "\n",
            "\n",
            "\n",
            "\n",
            "\n",
            "Variable: RACCYBLACK_PCT_2019    Data Type: float64 \n",
            "\n",
            " Number of Obs.: 1657 \n",
            " Number of missing obs.: 0 \n",
            " Percent missing: 0.0 \n",
            " Number of unique values: 1576 \n",
            "\n",
            " Range: [0.0, 0.9004343105320304] \n",
            " Mean: 0.08 \n",
            " Standard Deviation: 0.13 \n",
            " Mode: 0.0 \n",
            " 10th Percentile: 0.00641232088400046 \n",
            " 25th Percentile: 0.011764705882352941 \n",
            " 50th Percentile: 0.0273972602739726 \n",
            " 75th Percentile: 0.06824925816023739 \n",
            " 90th Percentile: 0.19428865044582147 \n",
            "\n",
            "\n",
            "\n",
            "\n",
            "\n",
            "Variable: HISCYHISP_PCT_2019    Data Type: float64 \n",
            "\n",
            " Number of Obs.: 1657 \n",
            " Number of missing obs.: 0 \n",
            " Percent missing: 0.0 \n",
            " Number of unique values: 1607 \n",
            "\n",
            " Range: [0.0, 0.721595122353135] \n",
            " Mean: 0.09 \n",
            " Standard Deviation: 0.11 \n",
            " Mode: 0.0 \n",
            " 10th Percentile: 0.01591814301901899 \n",
            " 25th Percentile: 0.023529411764705882 \n",
            " 50th Percentile: 0.04177718832891247 \n",
            " 75th Percentile: 0.11021732994637314 \n",
            " 90th Percentile: 0.1986140462322588 \n",
            "\n",
            "\n",
            "\n",
            "\n",
            "\n",
            "Variable: RACCYWHITE_PCT_2019    Data Type: float64 \n",
            "\n",
            " Number of Obs.: 1657 \n",
            " Number of missing obs.: 0 \n",
            " Percent missing: 0.0 \n",
            " Number of unique values: 1621 \n",
            "\n",
            " Range: [0.040608034744842564, 1.0] \n",
            " Mean: 0.83 \n",
            " Standard Deviation: 0.2 \n",
            " Mode: 0.92 \n",
            " 10th Percentile: 0.5380996218765781 \n",
            " 25th Percentile: 0.7973929497512089 \n",
            " 50th Percentile: 0.914332784184514 \n",
            " 75th Percentile: 0.955160744500846 \n",
            " 90th Percentile: 0.967077399380805 \n",
            "\n",
            "\n",
            "\n",
            "\n",
            "\n",
            "Variable: RACCYASIAN_PCT_2019    Data Type: float64 \n",
            "\n",
            " Number of Obs.: 1657 \n",
            " Number of missing obs.: 0 \n",
            " Percent missing: 0.0 \n",
            " Number of unique values: 1548 \n",
            "\n",
            " Range: [0.0, 0.7451048545939057] \n",
            " Mean: 0.04 \n",
            " Standard Deviation: 0.07 \n",
            " Mode: 0.0 \n",
            " 10th Percentile: 0.00352271406994307 \n",
            " 25th Percentile: 0.00684931506849315 \n",
            " 50th Percentile: 0.014962593516209476 \n",
            " 75th Percentile: 0.03934262948207171 \n",
            " 90th Percentile: 0.09706333209108024 \n",
            "\n",
            "\n",
            "\n",
            "\n",
            "\n",
            "Variable: LBFCYARM_PCT_2019    Data Type: float64 \n",
            "\n",
            " Number of Obs.: 1657 \n",
            " Number of missing obs.: 0 \n",
            " Percent missing: 0.0 \n",
            " Number of unique values: 523 \n",
            "\n",
            " Range: [0.0, 0.5893784304999258] \n",
            " Mean: 0.0 \n",
            " Standard Deviation: 0.02 \n",
            " Mode: 0.0 \n",
            " 10th Percentile: 0.0 \n",
            " 25th Percentile: 0.0 \n",
            " 50th Percentile: 0.0 \n",
            " 75th Percentile: 0.00036656891495601173 \n",
            " 90th Percentile: 0.0018477502437785004 \n",
            "\n",
            "\n",
            "\n",
            "\n",
            "\n",
            "Variable: EDUCYBACH_PCT_2019    Data Type: float64 \n",
            "\n",
            " Number of Obs.: 1657 \n",
            " Number of missing obs.: 0 \n",
            " Percent missing: 0.0 \n",
            " Number of unique values: 1637 \n",
            "\n",
            " Range: [0.0, 0.5092592592592593] \n",
            " Mean: 0.13 \n",
            " Standard Deviation: 0.06 \n",
            " Mode: 0.06976744186046512 \n",
            " 10th Percentile: 0.062470553592461724 \n",
            " 25th Percentile: 0.08208955223880597 \n",
            " 50th Percentile: 0.11392773892773893 \n",
            " 75th Percentile: 0.1550632911392405 \n",
            " 90th Percentile: 0.20217629182882488 \n",
            "\n",
            "\n",
            "\n",
            "\n",
            "\n",
            "Variable: EDUCYGRAD_PCT_2019    Data Type: float64 \n",
            "\n",
            " Number of Obs.: 1657 \n",
            " Number of missing obs.: 0 \n",
            " Percent missing: 0.0 \n",
            " Number of unique values: 1629 \n",
            "\n",
            " Range: [0.0, 0.5340909090909091] \n",
            " Mean: 0.11 \n",
            " Standard Deviation: 0.07 \n",
            " Mode: 0.0 \n",
            " 10th Percentile: 0.04295608845813819 \n",
            " 25th Percentile: 0.05828192097811615 \n",
            " 50th Percentile: 0.08823816495851634 \n",
            " 75th Percentile: 0.1334057661712778 \n",
            " 90th Percentile: 0.19342526936724844 \n",
            "\n",
            "\n",
            "\n",
            "\n",
            "\n"
          ]
        }
      ],
      "source": [
        "# Run basic stats on all race, armed forces, and education level percentage columns\n",
        "rp.codebook(ny_merged_v2['POPCY_2019'])\n",
        "rp.codebook(ny_merged_v2['AGECYMED_2019'])\n",
        "rp.codebook(ny_merged_v2['HHDCYAVESZ_2019'])\n",
        "rp.codebook(ny_merged_v2['MARCYMARR_PCT_2019'])\n",
        "rp.codebook(ny_merged_v2['RACCYBLACK_PCT_2019'])\n",
        "rp.codebook(ny_merged_v2['HISCYHISP_PCT_2019'])\n",
        "rp.codebook(ny_merged_v2['RACCYWHITE_PCT_2019'])\n",
        "rp.codebook(ny_merged_v2['RACCYASIAN_PCT_2019'])\n",
        "rp.codebook(ny_merged_v2['LBFCYARM_PCT_2019'])\n",
        "rp.codebook(ny_merged_v2['EDUCYBACH_PCT_2019'])\n",
        "rp.codebook(ny_merged_v2['EDUCYGRAD_PCT_2019'])"
      ]
    },
    {
      "cell_type": "code",
      "execution_count": null,
      "id": "ef2b5911",
      "metadata": {
        "id": "ef2b5911"
      },
      "outputs": [],
      "source": [
        "# Above, we can see that the number of rows is now 1657"
      ]
    },
    {
      "cell_type": "code",
      "execution_count": null,
      "id": "7e84a161",
      "metadata": {
        "id": "7e84a161",
        "colab": {
          "base_uri": "https://localhost:8080/"
        },
        "outputId": "ea334000-7422-4bf3-dda1-e53fa81d0994"
      },
      "outputs": [
        {
          "output_type": "execute_result",
          "data": {
            "text/plain": [
              "['ZIP_Code',\n",
              " 'POPCY_2019',\n",
              " 'AGECYMED_2019',\n",
              " 'UNECYRATE_2019',\n",
              " 'HHDCYAVESZ_2019',\n",
              " 'INCCYMEDHH_2019',\n",
              " 'HMVCYCREDC_2019',\n",
              " 'POPCY_2021',\n",
              " 'AGECYMED_2021',\n",
              " 'UNECYRATE_2021',\n",
              " 'HHDCYAVESZ_2021',\n",
              " 'INCCYMEDHH_2021',\n",
              " 'HMVCYCREDC_2021',\n",
              " 'INCCYMEDHH_21_sub_19',\n",
              " 'INCCYMEDHH_change_19_21',\n",
              " 'INCCYMEDHH_change_z-score',\n",
              " 'HMVCYCREDC_21_sub_19',\n",
              " 'HMVCYCREDC_change_19_21',\n",
              " 'HMVCYCREDC_change_z-score',\n",
              " 'MARCYMARR_PCT_2019',\n",
              " 'MARCYMARR_PCT_2021',\n",
              " 'RACCYBLACK_PCT_2019',\n",
              " 'RACCYBLACK_PCT_2021',\n",
              " 'HISCYHISP_PCT_2019',\n",
              " 'HISCYHISP_PCT_2021',\n",
              " 'RACCYWHITE_PCT_2019',\n",
              " 'RACCYWHITE_PCT_2021',\n",
              " 'RACCYASIAN_PCT_2019',\n",
              " 'RACCYASIAN_PCT_2021',\n",
              " 'LBFCYARM_PCT_2019',\n",
              " 'LBFCYARM_PCT_2021',\n",
              " 'EDUCYBACH_PCT_2019',\n",
              " 'EDUCYBACH_PCT_2021',\n",
              " 'EDUCYGRAD_PCT_2019',\n",
              " 'EDUCYGRAD_PCT_2021']"
            ]
          },
          "metadata": {},
          "execution_count": 54
        }
      ],
      "source": [
        "list(ny_merged_v2)"
      ]
    },
    {
      "cell_type": "code",
      "execution_count": null,
      "id": "e6ddcd33",
      "metadata": {
        "id": "e6ddcd33",
        "colab": {
          "base_uri": "https://localhost:8080/"
        },
        "outputId": "e724b2e3-f667-4981-87e7-bbf20a67537a"
      },
      "outputs": [
        {
          "output_type": "stream",
          "name": "stdout",
          "text": [
            "(1657, 35)\n"
          ]
        }
      ],
      "source": [
        "print(ny_merged_v2.shape)"
      ]
    },
    {
      "cell_type": "code",
      "execution_count": null,
      "id": "443d2ccc",
      "metadata": {
        "id": "443d2ccc"
      },
      "outputs": [],
      "source": [
        "# Make separate dfs for 2019 and 2021 data for models\n",
        "ny_2019_v2 = ny_merged_v2[[\n",
        "'POPCY_2019',\n",
        "'AGECYMED_2019',\n",
        "'MARCYMARR_PCT_2019',\n",
        "'HHDCYAVESZ_2019',\n",
        "'RACCYBLACK_PCT_2019',\n",
        "'HISCYHISP_PCT_2019',\n",
        "'RACCYWHITE_PCT_2019',\n",
        "'RACCYASIAN_PCT_2019',\n",
        "'LBFCYARM_PCT_2019',\n",
        "'EDUCYBACH_PCT_2019',\n",
        "'EDUCYGRAD_PCT_2019',\n",
        "'HMVCYCREDC_change_19_21',\n",
        "'INCCYMEDHH_change_19_21']]\n",
        "\n",
        "ny_2021_v2 = ny_merged_v2[['ZIP_Code',\n",
        "'POPCY_2021',\n",
        "'AGECYMED_2021',\n",
        "'MARCYMARR_PCT_2021',\n",
        "'HHDCYAVESZ_2021',\n",
        "'INCCYMEDHH_2021',\n",
        "'HMVCYCREDC_2021',\n",
        "'RACCYBLACK_PCT_2021',\n",
        "'HISCYHISP_PCT_2021',\n",
        "'RACCYWHITE_PCT_2021',\n",
        "'RACCYASIAN_PCT_2021',\n",
        "'LBFCYARM_PCT_2021',\n",
        "'EDUCYBACH_PCT_2021',\n",
        "'EDUCYGRAD_PCT_2021',\n",
        "'INCCYMEDHH_change_19_21',\n",
        "'HMVCYCREDC_change_19_21']]"
      ]
    },
    {
      "cell_type": "code",
      "execution_count": null,
      "id": "f3629558",
      "metadata": {
        "id": "f3629558",
        "colab": {
          "base_uri": "https://localhost:8080/",
          "height": 487
        },
        "outputId": "f828968a-f40d-4175-ced2-bf403bf1a626"
      },
      "outputs": [
        {
          "output_type": "execute_result",
          "data": {
            "text/plain": [
              "      POPCY_2019  AGECYMED_2019  MARCYMARR_PCT_2019  HHDCYAVESZ_2019  \\\n",
              "0            248          54.30            0.487903             1.97   \n",
              "1          28740          38.73            0.243215             1.60   \n",
              "2          82868          41.28            0.284054             2.31   \n",
              "3          57643          32.77            0.258765             1.56   \n",
              "4           4300          38.26            0.397907             1.89   \n",
              "...          ...            ...                 ...              ...   \n",
              "1807        1638          36.63            0.399267             2.71   \n",
              "1808       14236          34.20            0.237145             2.16   \n",
              "1809        8595          39.59            0.331239             2.17   \n",
              "1810       15216          36.93            0.297713             2.24   \n",
              "1811        8085          42.55            0.415708             2.12   \n",
              "\n",
              "      RACCYBLACK_PCT_2019  HISCYHISP_PCT_2019  RACCYWHITE_PCT_2019  \\\n",
              "0                0.012097            0.032258             0.947581   \n",
              "1                0.123104            0.189283             0.620946   \n",
              "2                0.102814            0.209273             0.357376   \n",
              "3                0.066096            0.101157             0.717728   \n",
              "4                0.083023            0.193488             0.687442   \n",
              "...                   ...                 ...                  ...   \n",
              "1807             0.006105            0.015263             0.983516   \n",
              "1808             0.125738            0.043481             0.793200   \n",
              "1809             0.101571            0.037231             0.843281   \n",
              "1810             0.067626            0.037461             0.869677   \n",
              "1811             0.064811            0.026592             0.873469   \n",
              "\n",
              "      RACCYASIAN_PCT_2019  LBFCYARM_PCT_2019  EDUCYBACH_PCT_2019  \\\n",
              "0                0.020161           0.000000            0.157258   \n",
              "1                0.169381           0.000035            0.300418   \n",
              "2                0.429032           0.000000            0.192668   \n",
              "3                0.157591           0.000364            0.320906   \n",
              "4                0.146047           0.000930            0.326977   \n",
              "...                   ...                ...                 ...   \n",
              "1807             0.003053           0.000000            0.045177   \n",
              "1808             0.010818           0.000000            0.063080   \n",
              "1809             0.017917           0.001978            0.092147   \n",
              "1810             0.008609           0.000000            0.069269   \n",
              "1811             0.015832           0.000000            0.145578   \n",
              "\n",
              "      EDUCYGRAD_PCT_2019  HMVCYCREDC_change_19_21  INCCYMEDHH_change_19_21  \n",
              "0               0.258065                -0.276368                -0.558217  \n",
              "1               0.249861                -0.018530                 0.031675  \n",
              "2               0.107894                -0.083333                -0.076411  \n",
              "3               0.266693                -0.005452                 0.091026  \n",
              "4               0.303023                 0.057387                 0.355688  \n",
              "...                  ...                      ...                      ...  \n",
              "1807            0.033578                -0.035299                 0.094327  \n",
              "1808            0.046713                -0.031834                 0.079517  \n",
              "1809            0.091216                -0.048095                 0.008473  \n",
              "1810            0.037395                -0.055983                 0.053320  \n",
              "1811            0.171429                -0.064089                 0.071305  \n",
              "\n",
              "[1657 rows x 13 columns]"
            ],
            "text/html": [
              "\n",
              "  <div id=\"df-0a53e453-2766-4a41-8cb5-3f90f0354470\">\n",
              "    <div class=\"colab-df-container\">\n",
              "      <div>\n",
              "<style scoped>\n",
              "    .dataframe tbody tr th:only-of-type {\n",
              "        vertical-align: middle;\n",
              "    }\n",
              "\n",
              "    .dataframe tbody tr th {\n",
              "        vertical-align: top;\n",
              "    }\n",
              "\n",
              "    .dataframe thead th {\n",
              "        text-align: right;\n",
              "    }\n",
              "</style>\n",
              "<table border=\"1\" class=\"dataframe\">\n",
              "  <thead>\n",
              "    <tr style=\"text-align: right;\">\n",
              "      <th></th>\n",
              "      <th>POPCY_2019</th>\n",
              "      <th>AGECYMED_2019</th>\n",
              "      <th>MARCYMARR_PCT_2019</th>\n",
              "      <th>HHDCYAVESZ_2019</th>\n",
              "      <th>RACCYBLACK_PCT_2019</th>\n",
              "      <th>HISCYHISP_PCT_2019</th>\n",
              "      <th>RACCYWHITE_PCT_2019</th>\n",
              "      <th>RACCYASIAN_PCT_2019</th>\n",
              "      <th>LBFCYARM_PCT_2019</th>\n",
              "      <th>EDUCYBACH_PCT_2019</th>\n",
              "      <th>EDUCYGRAD_PCT_2019</th>\n",
              "      <th>HMVCYCREDC_change_19_21</th>\n",
              "      <th>INCCYMEDHH_change_19_21</th>\n",
              "    </tr>\n",
              "  </thead>\n",
              "  <tbody>\n",
              "    <tr>\n",
              "      <th>0</th>\n",
              "      <td>248</td>\n",
              "      <td>54.30</td>\n",
              "      <td>0.487903</td>\n",
              "      <td>1.97</td>\n",
              "      <td>0.012097</td>\n",
              "      <td>0.032258</td>\n",
              "      <td>0.947581</td>\n",
              "      <td>0.020161</td>\n",
              "      <td>0.000000</td>\n",
              "      <td>0.157258</td>\n",
              "      <td>0.258065</td>\n",
              "      <td>-0.276368</td>\n",
              "      <td>-0.558217</td>\n",
              "    </tr>\n",
              "    <tr>\n",
              "      <th>1</th>\n",
              "      <td>28740</td>\n",
              "      <td>38.73</td>\n",
              "      <td>0.243215</td>\n",
              "      <td>1.60</td>\n",
              "      <td>0.123104</td>\n",
              "      <td>0.189283</td>\n",
              "      <td>0.620946</td>\n",
              "      <td>0.169381</td>\n",
              "      <td>0.000035</td>\n",
              "      <td>0.300418</td>\n",
              "      <td>0.249861</td>\n",
              "      <td>-0.018530</td>\n",
              "      <td>0.031675</td>\n",
              "    </tr>\n",
              "    <tr>\n",
              "      <th>2</th>\n",
              "      <td>82868</td>\n",
              "      <td>41.28</td>\n",
              "      <td>0.284054</td>\n",
              "      <td>2.31</td>\n",
              "      <td>0.102814</td>\n",
              "      <td>0.209273</td>\n",
              "      <td>0.357376</td>\n",
              "      <td>0.429032</td>\n",
              "      <td>0.000000</td>\n",
              "      <td>0.192668</td>\n",
              "      <td>0.107894</td>\n",
              "      <td>-0.083333</td>\n",
              "      <td>-0.076411</td>\n",
              "    </tr>\n",
              "    <tr>\n",
              "      <th>3</th>\n",
              "      <td>57643</td>\n",
              "      <td>32.77</td>\n",
              "      <td>0.258765</td>\n",
              "      <td>1.56</td>\n",
              "      <td>0.066096</td>\n",
              "      <td>0.101157</td>\n",
              "      <td>0.717728</td>\n",
              "      <td>0.157591</td>\n",
              "      <td>0.000364</td>\n",
              "      <td>0.320906</td>\n",
              "      <td>0.266693</td>\n",
              "      <td>-0.005452</td>\n",
              "      <td>0.091026</td>\n",
              "    </tr>\n",
              "    <tr>\n",
              "      <th>4</th>\n",
              "      <td>4300</td>\n",
              "      <td>38.26</td>\n",
              "      <td>0.397907</td>\n",
              "      <td>1.89</td>\n",
              "      <td>0.083023</td>\n",
              "      <td>0.193488</td>\n",
              "      <td>0.687442</td>\n",
              "      <td>0.146047</td>\n",
              "      <td>0.000930</td>\n",
              "      <td>0.326977</td>\n",
              "      <td>0.303023</td>\n",
              "      <td>0.057387</td>\n",
              "      <td>0.355688</td>\n",
              "    </tr>\n",
              "    <tr>\n",
              "      <th>...</th>\n",
              "      <td>...</td>\n",
              "      <td>...</td>\n",
              "      <td>...</td>\n",
              "      <td>...</td>\n",
              "      <td>...</td>\n",
              "      <td>...</td>\n",
              "      <td>...</td>\n",
              "      <td>...</td>\n",
              "      <td>...</td>\n",
              "      <td>...</td>\n",
              "      <td>...</td>\n",
              "      <td>...</td>\n",
              "      <td>...</td>\n",
              "    </tr>\n",
              "    <tr>\n",
              "      <th>1807</th>\n",
              "      <td>1638</td>\n",
              "      <td>36.63</td>\n",
              "      <td>0.399267</td>\n",
              "      <td>2.71</td>\n",
              "      <td>0.006105</td>\n",
              "      <td>0.015263</td>\n",
              "      <td>0.983516</td>\n",
              "      <td>0.003053</td>\n",
              "      <td>0.000000</td>\n",
              "      <td>0.045177</td>\n",
              "      <td>0.033578</td>\n",
              "      <td>-0.035299</td>\n",
              "      <td>0.094327</td>\n",
              "    </tr>\n",
              "    <tr>\n",
              "      <th>1808</th>\n",
              "      <td>14236</td>\n",
              "      <td>34.20</td>\n",
              "      <td>0.237145</td>\n",
              "      <td>2.16</td>\n",
              "      <td>0.125738</td>\n",
              "      <td>0.043481</td>\n",
              "      <td>0.793200</td>\n",
              "      <td>0.010818</td>\n",
              "      <td>0.000000</td>\n",
              "      <td>0.063080</td>\n",
              "      <td>0.046713</td>\n",
              "      <td>-0.031834</td>\n",
              "      <td>0.079517</td>\n",
              "    </tr>\n",
              "    <tr>\n",
              "      <th>1809</th>\n",
              "      <td>8595</td>\n",
              "      <td>39.59</td>\n",
              "      <td>0.331239</td>\n",
              "      <td>2.17</td>\n",
              "      <td>0.101571</td>\n",
              "      <td>0.037231</td>\n",
              "      <td>0.843281</td>\n",
              "      <td>0.017917</td>\n",
              "      <td>0.001978</td>\n",
              "      <td>0.092147</td>\n",
              "      <td>0.091216</td>\n",
              "      <td>-0.048095</td>\n",
              "      <td>0.008473</td>\n",
              "    </tr>\n",
              "    <tr>\n",
              "      <th>1810</th>\n",
              "      <td>15216</td>\n",
              "      <td>36.93</td>\n",
              "      <td>0.297713</td>\n",
              "      <td>2.24</td>\n",
              "      <td>0.067626</td>\n",
              "      <td>0.037461</td>\n",
              "      <td>0.869677</td>\n",
              "      <td>0.008609</td>\n",
              "      <td>0.000000</td>\n",
              "      <td>0.069269</td>\n",
              "      <td>0.037395</td>\n",
              "      <td>-0.055983</td>\n",
              "      <td>0.053320</td>\n",
              "    </tr>\n",
              "    <tr>\n",
              "      <th>1811</th>\n",
              "      <td>8085</td>\n",
              "      <td>42.55</td>\n",
              "      <td>0.415708</td>\n",
              "      <td>2.12</td>\n",
              "      <td>0.064811</td>\n",
              "      <td>0.026592</td>\n",
              "      <td>0.873469</td>\n",
              "      <td>0.015832</td>\n",
              "      <td>0.000000</td>\n",
              "      <td>0.145578</td>\n",
              "      <td>0.171429</td>\n",
              "      <td>-0.064089</td>\n",
              "      <td>0.071305</td>\n",
              "    </tr>\n",
              "  </tbody>\n",
              "</table>\n",
              "<p>1657 rows × 13 columns</p>\n",
              "</div>\n",
              "      <button class=\"colab-df-convert\" onclick=\"convertToInteractive('df-0a53e453-2766-4a41-8cb5-3f90f0354470')\"\n",
              "              title=\"Convert this dataframe to an interactive table.\"\n",
              "              style=\"display:none;\">\n",
              "        \n",
              "  <svg xmlns=\"http://www.w3.org/2000/svg\" height=\"24px\"viewBox=\"0 0 24 24\"\n",
              "       width=\"24px\">\n",
              "    <path d=\"M0 0h24v24H0V0z\" fill=\"none\"/>\n",
              "    <path d=\"M18.56 5.44l.94 2.06.94-2.06 2.06-.94-2.06-.94-.94-2.06-.94 2.06-2.06.94zm-11 1L8.5 8.5l.94-2.06 2.06-.94-2.06-.94L8.5 2.5l-.94 2.06-2.06.94zm10 10l.94 2.06.94-2.06 2.06-.94-2.06-.94-.94-2.06-.94 2.06-2.06.94z\"/><path d=\"M17.41 7.96l-1.37-1.37c-.4-.4-.92-.59-1.43-.59-.52 0-1.04.2-1.43.59L10.3 9.45l-7.72 7.72c-.78.78-.78 2.05 0 2.83L4 21.41c.39.39.9.59 1.41.59.51 0 1.02-.2 1.41-.59l7.78-7.78 2.81-2.81c.8-.78.8-2.07 0-2.86zM5.41 20L4 18.59l7.72-7.72 1.47 1.35L5.41 20z\"/>\n",
              "  </svg>\n",
              "      </button>\n",
              "      \n",
              "  <style>\n",
              "    .colab-df-container {\n",
              "      display:flex;\n",
              "      flex-wrap:wrap;\n",
              "      gap: 12px;\n",
              "    }\n",
              "\n",
              "    .colab-df-convert {\n",
              "      background-color: #E8F0FE;\n",
              "      border: none;\n",
              "      border-radius: 50%;\n",
              "      cursor: pointer;\n",
              "      display: none;\n",
              "      fill: #1967D2;\n",
              "      height: 32px;\n",
              "      padding: 0 0 0 0;\n",
              "      width: 32px;\n",
              "    }\n",
              "\n",
              "    .colab-df-convert:hover {\n",
              "      background-color: #E2EBFA;\n",
              "      box-shadow: 0px 1px 2px rgba(60, 64, 67, 0.3), 0px 1px 3px 1px rgba(60, 64, 67, 0.15);\n",
              "      fill: #174EA6;\n",
              "    }\n",
              "\n",
              "    [theme=dark] .colab-df-convert {\n",
              "      background-color: #3B4455;\n",
              "      fill: #D2E3FC;\n",
              "    }\n",
              "\n",
              "    [theme=dark] .colab-df-convert:hover {\n",
              "      background-color: #434B5C;\n",
              "      box-shadow: 0px 1px 3px 1px rgba(0, 0, 0, 0.15);\n",
              "      filter: drop-shadow(0px 1px 2px rgba(0, 0, 0, 0.3));\n",
              "      fill: #FFFFFF;\n",
              "    }\n",
              "  </style>\n",
              "\n",
              "      <script>\n",
              "        const buttonEl =\n",
              "          document.querySelector('#df-0a53e453-2766-4a41-8cb5-3f90f0354470 button.colab-df-convert');\n",
              "        buttonEl.style.display =\n",
              "          google.colab.kernel.accessAllowed ? 'block' : 'none';\n",
              "\n",
              "        async function convertToInteractive(key) {\n",
              "          const element = document.querySelector('#df-0a53e453-2766-4a41-8cb5-3f90f0354470');\n",
              "          const dataTable =\n",
              "            await google.colab.kernel.invokeFunction('convertToInteractive',\n",
              "                                                     [key], {});\n",
              "          if (!dataTable) return;\n",
              "\n",
              "          const docLinkHtml = 'Like what you see? Visit the ' +\n",
              "            '<a target=\"_blank\" href=https://colab.research.google.com/notebooks/data_table.ipynb>data table notebook</a>'\n",
              "            + ' to learn more about interactive tables.';\n",
              "          element.innerHTML = '';\n",
              "          dataTable['output_type'] = 'display_data';\n",
              "          await google.colab.output.renderOutput(dataTable, element);\n",
              "          const docLink = document.createElement('div');\n",
              "          docLink.innerHTML = docLinkHtml;\n",
              "          element.appendChild(docLink);\n",
              "        }\n",
              "      </script>\n",
              "    </div>\n",
              "  </div>\n",
              "  "
            ]
          },
          "metadata": {},
          "execution_count": 57
        }
      ],
      "source": [
        "ny_2019_v2"
      ]
    },
    {
      "cell_type": "code",
      "execution_count": null,
      "id": "22243df6",
      "metadata": {
        "id": "22243df6",
        "colab": {
          "base_uri": "https://localhost:8080/"
        },
        "outputId": "8a0686b2-ca18-496d-c05e-27efcf88ccac"
      },
      "outputs": [
        {
          "output_type": "execute_result",
          "data": {
            "text/plain": [
              "(1657, 13)"
            ]
          },
          "metadata": {},
          "execution_count": 58
        }
      ],
      "source": [
        "ny_2019_v2.shape"
      ]
    },
    {
      "cell_type": "code",
      "execution_count": null,
      "id": "e4af2584",
      "metadata": {
        "id": "e4af2584"
      },
      "outputs": [],
      "source": [
        "from scipy import stats\n",
        "import statsmodels.formula.api as smf"
      ]
    },
    {
      "cell_type": "code",
      "execution_count": null,
      "id": "c2e3c16f",
      "metadata": {
        "id": "c2e3c16f"
      },
      "outputs": [],
      "source": [
        "from sklearn import metrics\n",
        "from sklearn.model_selection import train_test_split\n",
        "from sklearn.preprocessing import StandardScaler\n",
        "from sklearn.linear_model import LinearRegression"
      ]
    },
    {
      "cell_type": "code",
      "execution_count": null,
      "id": "ddb60391",
      "metadata": {
        "id": "ddb60391"
      },
      "outputs": [],
      "source": [
        "### CC DEBT DV ###\n",
        "\n",
        "X = ny_2019_v2.drop(['HMVCYCREDC_change_19_21', 'INCCYMEDHH_change_19_21'], axis=1)\n",
        "y = ny_2019_v2['HMVCYCREDC_change_19_21']\n",
        "\n",
        "# Split data into 70% training, 30% testing\n",
        "\n",
        "X_train, X_test, y_train, y_test = train_test_split(X, y, test_size=0.3)"
      ]
    },
    {
      "cell_type": "markdown",
      "source": [
        ""
      ],
      "metadata": {
        "id": "06A9ySVQyj56"
      },
      "id": "06A9ySVQyj56"
    },
    {
      "cell_type": "code",
      "execution_count": null,
      "id": "ad3f762d",
      "metadata": {
        "id": "ad3f762d"
      },
      "outputs": [],
      "source": [
        "# Scale data\n",
        "\n",
        "scaler = StandardScaler()\n",
        "scaler.fit(X_train)\n",
        "X_train = pd.DataFrame(scaler.transform(X_train), columns = X_train.columns)\n",
        "X_test = pd.DataFrame(scaler.transform(X_test), columns = X_test.columns)"
      ]
    },
    {
      "cell_type": "code",
      "execution_count": null,
      "id": "94d74421",
      "metadata": {
        "id": "94d74421",
        "colab": {
          "base_uri": "https://localhost:8080/",
          "height": 668
        },
        "outputId": "0602fc47-1855-41bf-8e75-36ba2d49e068"
      },
      "outputs": [
        {
          "output_type": "execute_result",
          "data": {
            "text/plain": [
              "<class 'statsmodels.iolib.summary.Summary'>\n",
              "\"\"\"\n",
              "                                   OLS Regression Results                                   \n",
              "============================================================================================\n",
              "Dep. Variable:     HMVCYCREDC_change_19_21   R-squared (uncentered):                   0.318\n",
              "Model:                                 OLS   Adj. R-squared (uncentered):              0.314\n",
              "Method:                      Least Squares   F-statistic:                              69.87\n",
              "Date:                     Sun, 08 May 2022   Prob (F-statistic):                   1.66e-128\n",
              "Time:                             14:38:06   Log-Likelihood:                          2403.1\n",
              "No. Observations:                     1657   AIC:                                     -4784.\n",
              "Df Residuals:                         1646   BIC:                                     -4725.\n",
              "Df Model:                               11                                                  \n",
              "Covariance Type:                 nonrobust                                                  \n",
              "=======================================================================================\n",
              "                          coef    std err          t      P>|t|      [0.025      0.975]\n",
              "---------------------------------------------------------------------------------------\n",
              "POPCY_2019           1.508e-07    1.1e-07      1.369      0.171   -6.52e-08    3.67e-07\n",
              "AGECYMED_2019          -0.0009      0.000     -2.742      0.006      -0.002      -0.000\n",
              "MARCYMARR_PCT_2019      0.0360      0.028      1.279      0.201      -0.019       0.091\n",
              "HHDCYAVESZ_2019         0.0104      0.006      1.852      0.064      -0.001       0.021\n",
              "RACCYBLACK_PCT_2019    -0.0738      0.023     -3.238      0.001      -0.119      -0.029\n",
              "HISCYHISP_PCT_2019      0.0113      0.023      0.500      0.617      -0.033       0.056\n",
              "RACCYWHITE_PCT_2019    -0.0632      0.018     -3.527      0.000      -0.098      -0.028\n",
              "RACCYASIAN_PCT_2019    -0.0948      0.032     -2.941      0.003      -0.158      -0.032\n",
              "LBFCYARM_PCT_2019       0.0210      0.073      0.286      0.775      -0.123       0.165\n",
              "EDUCYBACH_PCT_2019      0.1743      0.044      3.984      0.000       0.088       0.260\n",
              "EDUCYGRAD_PCT_2019      0.0016      0.037      0.044      0.965      -0.072       0.075\n",
              "==============================================================================\n",
              "Omnibus:                     2039.596   Durbin-Watson:                   1.892\n",
              "Prob(Omnibus):                  0.000   Jarque-Bera (JB):           696046.686\n",
              "Skew:                          -6.043   Prob(JB):                         0.00\n",
              "Kurtosis:                     102.677   Cond. No.                     1.13e+06\n",
              "==============================================================================\n",
              "\n",
              "Warnings:\n",
              "[1] Standard Errors assume that the covariance matrix of the errors is correctly specified.\n",
              "[2] The condition number is large, 1.13e+06. This might indicate that there are\n",
              "strong multicollinearity or other numerical problems.\n",
              "\"\"\""
            ],
            "text/html": [
              "<table class=\"simpletable\">\n",
              "<caption>OLS Regression Results</caption>\n",
              "<tr>\n",
              "  <th>Dep. Variable:</th>    <td>HMVCYCREDC_change_19_21</td> <th>  R-squared (uncentered):</th>      <td>   0.318</td> \n",
              "</tr>\n",
              "<tr>\n",
              "  <th>Model:</th>                      <td>OLS</td>           <th>  Adj. R-squared (uncentered):</th> <td>   0.314</td> \n",
              "</tr>\n",
              "<tr>\n",
              "  <th>Method:</th>                <td>Least Squares</td>      <th>  F-statistic:       </th>          <td>   69.87</td> \n",
              "</tr>\n",
              "<tr>\n",
              "  <th>Date:</th>                <td>Sun, 08 May 2022</td>     <th>  Prob (F-statistic):</th>          <td>1.66e-128</td>\n",
              "</tr>\n",
              "<tr>\n",
              "  <th>Time:</th>                    <td>14:38:06</td>         <th>  Log-Likelihood:    </th>          <td>  2403.1</td> \n",
              "</tr>\n",
              "<tr>\n",
              "  <th>No. Observations:</th>         <td>  1657</td>          <th>  AIC:               </th>          <td>  -4784.</td> \n",
              "</tr>\n",
              "<tr>\n",
              "  <th>Df Residuals:</th>             <td>  1646</td>          <th>  BIC:               </th>          <td>  -4725.</td> \n",
              "</tr>\n",
              "<tr>\n",
              "  <th>Df Model:</th>                 <td>    11</td>          <th>                     </th>              <td> </td>    \n",
              "</tr>\n",
              "<tr>\n",
              "  <th>Covariance Type:</th>         <td>nonrobust</td>        <th>                     </th>              <td> </td>    \n",
              "</tr>\n",
              "</table>\n",
              "<table class=\"simpletable\">\n",
              "<tr>\n",
              "           <td></td>              <th>coef</th>     <th>std err</th>      <th>t</th>      <th>P>|t|</th>  <th>[0.025</th>    <th>0.975]</th>  \n",
              "</tr>\n",
              "<tr>\n",
              "  <th>POPCY_2019</th>          <td> 1.508e-07</td> <td>  1.1e-07</td> <td>    1.369</td> <td> 0.171</td> <td>-6.52e-08</td> <td> 3.67e-07</td>\n",
              "</tr>\n",
              "<tr>\n",
              "  <th>AGECYMED_2019</th>       <td>   -0.0009</td> <td>    0.000</td> <td>   -2.742</td> <td> 0.006</td> <td>   -0.002</td> <td>   -0.000</td>\n",
              "</tr>\n",
              "<tr>\n",
              "  <th>MARCYMARR_PCT_2019</th>  <td>    0.0360</td> <td>    0.028</td> <td>    1.279</td> <td> 0.201</td> <td>   -0.019</td> <td>    0.091</td>\n",
              "</tr>\n",
              "<tr>\n",
              "  <th>HHDCYAVESZ_2019</th>     <td>    0.0104</td> <td>    0.006</td> <td>    1.852</td> <td> 0.064</td> <td>   -0.001</td> <td>    0.021</td>\n",
              "</tr>\n",
              "<tr>\n",
              "  <th>RACCYBLACK_PCT_2019</th> <td>   -0.0738</td> <td>    0.023</td> <td>   -3.238</td> <td> 0.001</td> <td>   -0.119</td> <td>   -0.029</td>\n",
              "</tr>\n",
              "<tr>\n",
              "  <th>HISCYHISP_PCT_2019</th>  <td>    0.0113</td> <td>    0.023</td> <td>    0.500</td> <td> 0.617</td> <td>   -0.033</td> <td>    0.056</td>\n",
              "</tr>\n",
              "<tr>\n",
              "  <th>RACCYWHITE_PCT_2019</th> <td>   -0.0632</td> <td>    0.018</td> <td>   -3.527</td> <td> 0.000</td> <td>   -0.098</td> <td>   -0.028</td>\n",
              "</tr>\n",
              "<tr>\n",
              "  <th>RACCYASIAN_PCT_2019</th> <td>   -0.0948</td> <td>    0.032</td> <td>   -2.941</td> <td> 0.003</td> <td>   -0.158</td> <td>   -0.032</td>\n",
              "</tr>\n",
              "<tr>\n",
              "  <th>LBFCYARM_PCT_2019</th>   <td>    0.0210</td> <td>    0.073</td> <td>    0.286</td> <td> 0.775</td> <td>   -0.123</td> <td>    0.165</td>\n",
              "</tr>\n",
              "<tr>\n",
              "  <th>EDUCYBACH_PCT_2019</th>  <td>    0.1743</td> <td>    0.044</td> <td>    3.984</td> <td> 0.000</td> <td>    0.088</td> <td>    0.260</td>\n",
              "</tr>\n",
              "<tr>\n",
              "  <th>EDUCYGRAD_PCT_2019</th>  <td>    0.0016</td> <td>    0.037</td> <td>    0.044</td> <td> 0.965</td> <td>   -0.072</td> <td>    0.075</td>\n",
              "</tr>\n",
              "</table>\n",
              "<table class=\"simpletable\">\n",
              "<tr>\n",
              "  <th>Omnibus:</th>       <td>2039.596</td> <th>  Durbin-Watson:     </th>  <td>   1.892</td> \n",
              "</tr>\n",
              "<tr>\n",
              "  <th>Prob(Omnibus):</th>  <td> 0.000</td>  <th>  Jarque-Bera (JB):  </th> <td>696046.686</td>\n",
              "</tr>\n",
              "<tr>\n",
              "  <th>Skew:</th>           <td>-6.043</td>  <th>  Prob(JB):          </th>  <td>    0.00</td> \n",
              "</tr>\n",
              "<tr>\n",
              "  <th>Kurtosis:</th>       <td>102.677</td> <th>  Cond. No.          </th>  <td>1.13e+06</td> \n",
              "</tr>\n",
              "</table><br/><br/>Warnings:<br/>[1] Standard Errors assume that the covariance matrix of the errors is correctly specified.<br/>[2] The condition number is large, 1.13e+06. This might indicate that there are<br/>strong multicollinearity or other numerical problems."
            ]
          },
          "metadata": {},
          "execution_count": 63
        }
      ],
      "source": [
        "# OLS method on scaled data\n",
        "# Results are to predict change in CC debt from 2019-2021\n",
        "\n",
        "import statsmodels.api as sm\n",
        "ks = sm.OLS(y, X)\n",
        "ks_res = ks.fit()\n",
        "ks_res.summary()"
      ]
    },
    {
      "cell_type": "code",
      "execution_count": null,
      "id": "de9ab77e",
      "metadata": {
        "id": "de9ab77e",
        "colab": {
          "base_uri": "https://localhost:8080/",
          "height": 457
        },
        "outputId": "8a145d00-3aa7-469e-84d5-6e0df5f2aeb4"
      },
      "outputs": [
        {
          "output_type": "stream",
          "name": "stdout",
          "text": [
            "Feature: 0, Score: -0.00000\n",
            "Feature: 1, Score: 0.00000\n",
            "Feature: 2, Score: -0.00000\n",
            "Feature: 3, Score: 96.94180\n",
            "Feature: 4, Score: -0.00000\n",
            "Feature: 5, Score: 79.75507\n",
            "Feature: 6, Score: 42.32959\n",
            "Feature: 7, Score: 0.00000\n",
            "Feature: 8, Score: 0.00000\n",
            "Feature: 9, Score: 0.00000\n",
            "Feature: 10, Score: -0.00000\n"
          ]
        },
        {
          "output_type": "display_data",
          "data": {
            "text/plain": [
              "<Figure size 432x288 with 1 Axes>"
            ],
            "image/png": "[encoded data removed]"
          },
          "metadata": {
            "needs_background": "light"
          }
        }
      ],
      "source": [
        "from sklearn.datasets import make_regression\n",
        "from sklearn.linear_model import LinearRegression\n",
        "from matplotlib import pyplot\n",
        "# define dataset\n",
        "X, y = make_regression(n_samples=1000, n_features=11, n_informative=3, random_state=1)\n",
        "# define the model\n",
        "model = LinearRegression()\n",
        "# fit the model\n",
        "model.fit(X, y)\n",
        "# get importance\n",
        "importance = model.coef_\n",
        "# summarize feature importance\n",
        "for i,v in enumerate(importance):\n",
        "\tprint('Feature: %0d, Score: %.5f' % (i,v))\n",
        "# plot feature importance\n",
        "pyplot.bar([x for x in range(len(importance))], importance)\n",
        "pyplot.show()"
      ]
    },
    {
      "cell_type": "code",
      "execution_count": null,
      "id": "5b2a058a",
      "metadata": {
        "id": "5b2a058a",
        "colab": {
          "base_uri": "https://localhost:8080/"
        },
        "outputId": "d1b9fdfe-7de4-4763-c2aa-d64350cd4128"
      },
      "outputs": [
        {
          "output_type": "execute_result",
          "data": {
            "text/plain": [
              "0       1.97\n",
              "1       1.60\n",
              "2       2.31\n",
              "3       1.56\n",
              "4       1.89\n",
              "        ... \n",
              "1807    2.71\n",
              "1808    2.16\n",
              "1809    2.17\n",
              "1810    2.24\n",
              "1811    2.12\n",
              "Name: HHDCYAVESZ_2019, Length: 1657, dtype: float64"
            ]
          },
          "metadata": {},
          "execution_count": 65
        }
      ],
      "source": [
        "# Check which variables are significant\n",
        "ny_2019_v2.iloc[:, 3]"
      ]
    },
    {
      "cell_type": "code",
      "execution_count": null,
      "id": "f88deb2d",
      "metadata": {
        "id": "f88deb2d",
        "colab": {
          "base_uri": "https://localhost:8080/"
        },
        "outputId": "3f2caec5-e75e-48e8-fee5-54765ea96ca3"
      },
      "outputs": [
        {
          "output_type": "execute_result",
          "data": {
            "text/plain": [
              "0       0.032258\n",
              "1       0.189283\n",
              "2       0.209273\n",
              "3       0.101157\n",
              "4       0.193488\n",
              "          ...   \n",
              "1807    0.015263\n",
              "1808    0.043481\n",
              "1809    0.037231\n",
              "1810    0.037461\n",
              "1811    0.026592\n",
              "Name: HISCYHISP_PCT_2019, Length: 1657, dtype: float64"
            ]
          },
          "metadata": {},
          "execution_count": 66
        }
      ],
      "source": [
        "ny_2019_v2.iloc[:, 5]"
      ]
    },
    {
      "cell_type": "code",
      "execution_count": null,
      "id": "2da1edeb",
      "metadata": {
        "id": "2da1edeb",
        "colab": {
          "base_uri": "https://localhost:8080/"
        },
        "outputId": "35264e9c-01d0-47e3-bd45-b7388bc75046"
      },
      "outputs": [
        {
          "output_type": "execute_result",
          "data": {
            "text/plain": [
              "0       0.947581\n",
              "1       0.620946\n",
              "2       0.357376\n",
              "3       0.717728\n",
              "4       0.687442\n",
              "          ...   \n",
              "1807    0.983516\n",
              "1808    0.793200\n",
              "1809    0.843281\n",
              "1810    0.869677\n",
              "1811    0.873469\n",
              "Name: RACCYWHITE_PCT_2019, Length: 1657, dtype: float64"
            ]
          },
          "metadata": {},
          "execution_count": 67
        }
      ],
      "source": [
        "ny_2019_v2.iloc[:, 6]"
      ]
    },
    {
      "cell_type": "code",
      "source": [
        "# Suppress scientific notation\n",
        "np.set_printoptions(suppress=True)"
      ],
      "metadata": {
        "id": "bHlYrjNAtlVB"
      },
      "id": "bHlYrjNAtlVB",
      "execution_count": null,
      "outputs": []
    },
    {
      "cell_type": "code",
      "execution_count": null,
      "id": "65c86fd2",
      "metadata": {
        "id": "65c86fd2"
      },
      "outputs": [],
      "source": [
        "# Cook's D - this gives me 1. as values for all on both DVs - didn't really work\n",
        "\n",
        "X = sm.add_constant(X)\n",
        "model = sm.OLS(y, X).fit() "
      ]
    },
    {
      "cell_type": "code",
      "execution_count": null,
      "id": "f34abc34",
      "metadata": {
        "id": "f34abc34",
        "colab": {
          "base_uri": "https://localhost:8080/"
        },
        "outputId": "15ebdafc-8bce-4c39-c798-f033bc84fb83"
      },
      "outputs": [
        {
          "output_type": "stream",
          "name": "stdout",
          "text": [
            "(array([0.        , 0.00095159, 0.00159206, 0.00006424, 0.00026086,\n",
            "       0.0000081 , 0.00041555, 0.00271673, 0.0003515 , 0.00042394,\n",
            "       0.00576202, 0.00000967, 0.00077952, 0.00372313, 0.0004466 ,\n",
            "       0.00021104, 0.01422438, 0.00046862, 0.00056332, 0.00022065,\n",
            "       0.00041311, 0.00091016, 0.00121848, 0.00105084, 0.00095905,\n",
            "       0.00251746, 0.00000241, 0.00000598, 0.00013088, 0.00121436,\n",
            "       0.00399591, 0.00336063, 0.00025713, 0.00055462, 0.0008844 ,\n",
            "       0.00015286, 0.00068556, 0.00182276, 0.00125613, 0.00003969,\n",
            "       0.00212995, 0.0000077 , 0.        , 0.00269569, 0.00010346,\n",
            "       0.0006855 , 0.00053003, 0.00073558, 0.        , 0.        ,\n",
            "       0.00018934, 0.00046994, 0.00245839, 0.00003044, 0.00539035,\n",
            "       0.00154912, 0.00003054, 0.00193448, 0.00000481, 0.00004025,\n",
            "       0.00042017, 0.00117275, 0.00065515, 0.00001837, 0.00060722,\n",
            "       0.00065421, 0.00028567, 0.00302034, 0.00015312, 0.0001858 ,\n",
            "       0.00553387, 0.00031547, 0.00089752, 0.00016031, 0.00000278,\n",
            "       0.        , 0.00054128, 0.00065032, 0.00042565, 0.00019902,\n",
            "       0.00002533, 0.00003858, 0.00223821, 0.00025291, 0.00011421,\n",
            "       0.00011492, 0.00044171, 0.00117677, 0.00108367, 0.0004731 ,\n",
            "       0.00266745, 0.00301112, 0.00468517, 0.00002113, 0.00000543,\n",
            "       0.00033713, 0.00310655, 0.00003377, 0.00044952, 0.00002485,\n",
            "       0.00353812, 0.00048225, 0.0004295 , 0.        , 0.00019982,\n",
            "       0.010436  , 0.00279745, 0.00193416, 0.00032673, 0.00386423,\n",
            "       0.0006031 , 0.00009092, 0.00027674, 0.00006921, 0.00272755,\n",
            "       0.00011967, 0.00056629, 0.00202347, 0.00014762, 0.00011561,\n",
            "       0.00002015, 0.00304261, 0.01093017, 0.00069232, 0.00031407,\n",
            "       0.002473  , 0.        , 0.00006299, 0.0010419 , 0.00563111,\n",
            "       0.00019906, 0.00101762, 0.00327933, 0.00037677, 0.00039737,\n",
            "       0.00216235, 0.00656695, 0.00027213, 0.00050127, 0.0004481 ,\n",
            "       0.00026022, 0.00137842, 0.00158907, 0.00757166, 0.00045265,\n",
            "       0.00149517, 0.00195753, 0.00055671, 0.00317514, 0.00043076,\n",
            "       0.00482805, 0.00026514, 0.00017716, 0.00352248, 0.0017539 ,\n",
            "       0.00007482, 0.00020006, 0.00175281, 0.00023231, 0.00041183,\n",
            "       0.00073235, 0.00286026, 0.00093281, 0.00002875, 0.00103104,\n",
            "       0.00005633, 0.00033125, 0.00053528, 0.00116679, 0.00008241,\n",
            "       0.00142078, 0.00055221, 0.00276098, 0.00200265, 0.00055418,\n",
            "       0.0012895 , 0.0001711 , 0.00056683, 0.00014708, 0.00051605,\n",
            "       0.00233546, 0.0021437 , 0.00222621, 0.00042764, 0.00002873,\n",
            "       0.00178575, 0.00075706, 0.00151802, 0.        , 0.00003067,\n",
            "       0.00012216, 0.        , 0.00235678, 0.0015136 , 0.00464959,\n",
            "       0.00000972, 0.00001381, 0.00110956, 0.00075522, 0.00026327,\n",
            "       0.        , 0.00000041, 0.        , 0.00004774, 0.00033941,\n",
            "       0.00115443, 0.0014827 , 0.        , 0.00009928, 0.00060097,\n",
            "       0.00069528, 0.00409175, 0.00001389, 0.00005279, 0.00025908,\n",
            "       0.01243434, 0.00141006, 0.00005314, 0.0000052 , 0.00001113,\n",
            "       0.00335463, 0.00121673, 0.0000343 , 0.00002836, 0.00290353,\n",
            "       0.00048694, 0.00004344, 0.00030601, 0.00134086, 0.00371636,\n",
            "       0.00002811, 0.00212318, 0.0030155 , 0.00043238, 0.00034609,\n",
            "       0.00042796, 0.00008945, 0.00001789, 0.00081119, 0.00485479,\n",
            "       0.00151452, 0.00182586, 0.00075683, 0.00000294, 0.00025112,\n",
            "       0.00323456, 0.00002935, 0.00012357, 0.00021716, 0.0000231 ,\n",
            "       0.00327907, 0.00030442, 0.00013498, 0.00024754, 0.00000231,\n",
            "       0.00837096, 0.000961  , 0.00030803, 0.00074272, 0.00025436,\n",
            "       0.00024441, 0.00038709, 0.00036816, 0.0002016 , 0.00062737,\n",
            "       0.00096627, 0.0009686 , 0.00410927, 0.00001164, 0.00050408,\n",
            "       0.00050456, 0.00065743, 0.00003652, 0.00014051, 0.00044447,\n",
            "       0.00044387, 0.00026019, 0.00006455, 0.00017427, 0.00069844,\n",
            "       0.00036396, 0.00068352, 0.00076038, 0.00024988, 0.00064593,\n",
            "       0.00049123, 0.00035712, 0.00031273, 0.0008611 , 0.00017968,\n",
            "       0.00685073, 0.0001416 , 0.00013345, 0.00187689, 0.        ,\n",
            "       0.00090843, 0.00003941, 0.        , 0.00003914, 0.00115217,\n",
            "       0.00038349, 0.0002671 , 0.00000184, 0.00020717, 0.00020296,\n",
            "       0.00001033, 0.00042925, 0.00025432, 0.0001456 , 0.00039964,\n",
            "       0.00112435, 0.00020004, 0.00004543, 0.00017133, 0.        ,\n",
            "       0.00183637, 0.00052477, 0.        , 0.00131818, 0.00008645,\n",
            "       0.00074204, 0.00063177, 0.00186241, 0.0000396 , 0.00025136,\n",
            "       0.        , 0.00154092, 0.00057531, 0.00161632, 0.00008478,\n",
            "       0.00142684, 0.00517609, 0.00009989, 0.        , 0.00049144,\n",
            "       0.00003879, 0.00207125, 0.00381366, 0.00053864, 0.00200724,\n",
            "       0.00005984, 0.00234798, 0.00065486, 0.00147639, 0.00052882,\n",
            "       0.00098432, 0.00094391, 0.00056767, 0.00000514, 0.02838451,\n",
            "       0.0006537 , 0.00033094, 0.0022192 , 0.00049591, 0.00010955,\n",
            "       0.00007323, 0.00327016, 0.00091826, 0.00159478, 0.00219388,\n",
            "       0.00002385, 0.00011221, 0.00123492, 0.00151752, 0.00028276,\n",
            "       0.00120267, 0.00001297, 0.00339155, 0.00069245, 0.00491127,\n",
            "       0.00925069, 0.00253281, 0.00238228, 0.00002228, 0.00247823,\n",
            "       0.00634213, 0.00603926, 0.00044848, 0.00088478, 0.0030958 ,\n",
            "       0.00030123, 0.00024741, 0.0000003 , 0.00887591, 0.00002099,\n",
            "       0.00000964, 0.00016348, 0.00069462, 0.00107549, 0.00434784,\n",
            "       0.00007576, 0.00053379, 0.00046849, 0.00127153, 0.00030109,\n",
            "       0.00164931, 0.        , 0.00029876, 0.00000792, 0.00300311,\n",
            "       0.0012677 , 0.00012276, 0.00073119, 0.00096637, 0.00219653,\n",
            "       0.00001414, 0.00010014, 0.00113142, 0.00058487, 0.0002833 ,\n",
            "       0.00003048, 0.00222093, 0.00090828, 0.00731842, 0.00000204,\n",
            "       0.00371606, 0.00000935, 0.00477633, 0.00072292, 0.01880955,\n",
            "       0.0000137 , 0.        , 0.00008625, 0.00022334, 0.00007776,\n",
            "       0.        , 0.0000148 , 0.00046715, 0.0002638 , 0.00118442,\n",
            "       0.00022613, 0.00080501, 0.00005182, 0.0000611 , 0.00094296,\n",
            "       0.00154982, 0.00037502, 0.00003269, 0.00075278, 0.00104911,\n",
            "       0.00036063, 0.00023744, 0.00040385, 0.0087208 , 0.00069836,\n",
            "       0.00008702, 0.00116055, 0.        , 0.0041002 , 0.00053342,\n",
            "       0.00003079, 0.005753  , 0.00039453, 0.00088317, 0.00030145,\n",
            "       0.00151441, 0.00724633, 0.00081094, 0.        , 0.00900821,\n",
            "       0.        , 0.00192982, 0.00033791, 0.0011465 , 0.00000645,\n",
            "       0.00082102, 0.00084564, 0.00003437, 0.00021915, 0.00058197,\n",
            "       0.00004307, 0.00049905, 0.00185851, 0.00315194, 0.00176257,\n",
            "       0.00095053, 0.0003745 , 0.00022291, 0.00029228, 0.00046689,\n",
            "       0.00168774, 0.00057689, 0.        , 0.00021344, 0.00005281,\n",
            "       0.00436828, 0.00131268, 0.00104474, 0.00076744, 0.00008075,\n",
            "       0.00341955, 0.00004223, 0.00142169, 0.00000001, 0.0000465 ,\n",
            "       0.00106409, 0.        , 0.00083816, 0.00263177, 0.00021955,\n",
            "       0.00004398, 0.00006429, 0.00063287, 0.00012188, 0.00008744,\n",
            "       0.00079637, 0.00010941, 0.00003453, 0.00217189, 0.00151363,\n",
            "       0.00562555, 0.00000126, 0.00334753, 0.01754672, 0.00054185,\n",
            "       0.00023512, 0.00078488, 0.00129646, 0.00006398, 0.00006497,\n",
            "       0.00096528, 0.00003105, 0.00045516, 0.00032377, 0.00013616,\n",
            "       0.00016241, 0.00001613, 0.00687329, 0.00020417, 0.00063906,\n",
            "       0.00018458, 0.00310432, 0.00003164, 0.00113453, 0.00006437,\n",
            "       0.00350983, 0.0000096 , 0.00004482, 0.000325  , 0.00001308,\n",
            "       0.00488043, 0.00007456, 0.00011713, 0.00037075, 0.00075437,\n",
            "       0.00010552, 0.00113898, 0.00011963, 0.00079949, 0.        ,\n",
            "       0.00020227, 0.00015681, 0.01612477, 0.00023746, 0.00008363,\n",
            "       0.0040503 , 0.00064877, 0.00006818, 0.0013775 , 0.00430272,\n",
            "       0.00032971, 0.00111083, 0.00162077, 0.00097803, 0.00014009,\n",
            "       0.00086711, 0.00087943, 0.00003199, 0.00258388, 0.00085357,\n",
            "       0.00047137, 0.00040726, 0.00004156, 0.0000323 , 0.00134596,\n",
            "       0.00004691, 0.00035524, 0.00127742, 0.00038058, 0.00001302,\n",
            "       0.00001021, 0.00381899, 0.00123448, 0.00774198, 0.00075144,\n",
            "       0.00166321, 0.00219512, 0.00038956, 0.00000091, 0.        ,\n",
            "       0.00018565, 0.0001051 , 0.00426663, 0.00003182, 0.00128822,\n",
            "       0.00088667, 0.00070333, 0.00001981, 0.00022572, 0.00024658,\n",
            "       0.00144178, 0.00079274, 0.00012343, 0.00003995, 0.0020272 ,\n",
            "       0.00027517, 0.00015194, 0.00049098, 0.00166571, 0.00033692,\n",
            "       0.00331371, 0.00046502, 0.00615426, 0.00066395, 0.00020014,\n",
            "       0.0000634 , 0.00215048, 0.00075715, 0.00123342, 0.0020144 ,\n",
            "       0.00109643, 0.00046342, 0.00125694, 0.00424238, 0.00010124,\n",
            "       0.00001062, 0.00006302, 0.00056141, 0.00000171, 0.00006564,\n",
            "       0.00057226, 0.00080522, 0.00038028, 0.001928  , 0.00012701,\n",
            "       0.0000103 , 0.        , 0.00222817, 0.00005677, 0.00437267,\n",
            "       0.00114509, 0.00002352, 0.00061083, 0.00082843, 0.00015523,\n",
            "       0.00125847, 0.00120664, 0.00025337, 0.00043444, 0.00012151,\n",
            "       0.00114876, 0.00015595, 0.00107417, 0.0004127 , 0.        ,\n",
            "       0.00051462, 0.0000117 , 0.00115075, 0.00019526, 0.00495124,\n",
            "       0.00166521, 0.00000628, 0.00241322, 0.00011878, 0.00622328,\n",
            "       0.00670811, 0.00007787, 0.000471  , 0.00037784, 0.00165143,\n",
            "       0.00001112, 0.00004061, 0.00035299, 0.00068441, 0.00003713,\n",
            "       0.00105334, 0.00017129, 0.00173323, 0.00200787, 0.00020579,\n",
            "       0.00206888, 0.00017464, 0.00047725, 0.        , 0.00050081,\n",
            "       0.00003383, 0.00090301, 0.00287346, 0.00008877, 0.00004435,\n",
            "       0.        , 0.0001963 , 0.00013349, 0.00002848, 0.0005974 ,\n",
            "       0.00007882, 0.0008854 , 0.00007337, 0.00015361, 0.0001004 ,\n",
            "       0.00162967, 0.00017954, 0.00152208, 0.        , 0.00002371,\n",
            "       0.00044656, 0.0026344 , 0.0000559 , 0.        , 0.0000531 ,\n",
            "       0.00119654, 0.00073008, 0.00018293, 0.00026998, 0.016394  ,\n",
            "       0.00077098, 0.00006109, 0.00113803, 0.00040533, 0.00005407,\n",
            "       0.00016488, 0.00077689, 0.00078508, 0.00027685, 0.00006098,\n",
            "       0.00036402, 0.00034548, 0.00009869, 0.00003472, 0.0000745 ,\n",
            "       0.00835119, 0.00011449, 0.00016568, 0.00000976, 0.00415033,\n",
            "       0.00441356, 0.00005874, 0.00029544, 0.00003985, 0.00013031,\n",
            "       0.0002475 , 0.00003717, 0.00306846, 0.00011217, 0.00103401,\n",
            "       0.        , 0.00032454, 0.00067511, 0.01188938, 0.00004951,\n",
            "       0.00013391, 0.00490661, 0.00003955, 0.00076895, 0.00030319,\n",
            "       0.        , 0.00032996, 0.00099858, 0.        , 0.        ,\n",
            "       0.00079662, 0.00132567, 0.00030061, 0.        , 0.00059482,\n",
            "       0.00010971, 0.00017207, 0.        , 0.00000953, 0.        ,\n",
            "       0.00602576, 0.        , 0.00033229, 0.00003206, 0.00003405,\n",
            "       0.00171546, 0.00040562, 0.00028732, 0.00199173, 0.00005666,\n",
            "       0.00001116, 0.00554979, 0.00311697, 0.0013166 , 0.00075345,\n",
            "       0.00013418, 0.00045395, 0.00051323, 0.00012524, 0.00031791,\n",
            "       0.0002821 , 0.00435248, 0.00130811, 0.00019806, 0.00009734,\n",
            "       0.00035261, 0.00023779, 0.00145871, 0.00173516, 0.00049346,\n",
            "       0.00015167, 0.        , 0.00008832, 0.00007595, 0.00344091,\n",
            "       0.00003946, 0.00157612, 0.00031952, 0.00044959, 0.0000002 ,\n",
            "       0.00006349, 0.00234554, 0.00000954, 0.00202079, 0.00002502,\n",
            "       0.00140115, 0.00172039, 0.0011121 , 0.00072495, 0.0000189 ,\n",
            "       0.00002775, 0.00024756, 0.00119626, 0.00001054, 0.00085881,\n",
            "       0.00001229, 0.00311494, 0.00092493, 0.00012331, 0.00001975,\n",
            "       0.00105914, 0.00005713, 0.00514707, 0.00096726, 0.00030825,\n",
            "       0.        , 0.00022007, 0.00113048, 0.00015418, 0.00022298,\n",
            "       0.00058034, 0.00000687, 0.00023011, 0.00004164, 0.00209876,\n",
            "       0.00224345, 0.00085343, 0.        , 0.00001018, 0.00012203,\n",
            "       0.00469103, 0.0000376 , 0.00172324, 0.00006783, 0.00004672,\n",
            "       0.00467998, 0.00001406, 0.00022463, 0.00135154, 0.00129447,\n",
            "       0.00185011, 0.00003931, 0.00539574, 0.00001833, 0.00041976,\n",
            "       0.000009  , 0.00132725, 0.00043285, 0.00008432, 0.00091358,\n",
            "       0.00076946, 0.0029836 , 0.00006046, 0.00003712, 0.00005544,\n",
            "       0.0004478 , 0.00089503, 0.00314441, 0.00116923, 0.00016871,\n",
            "       0.00203684, 0.00969588, 0.00026384, 0.00079436, 0.00049053,\n",
            "       0.00030546, 0.0012426 , 0.0032099 , 0.00000978, 0.00005794,\n",
            "       0.00151695, 0.00397384, 0.00028545, 0.00002041, 0.00185004,\n",
            "       0.00057422, 0.00407817, 0.00070728, 0.0001298 , 0.01299532,\n",
            "       0.00035905, 0.00002695, 0.00067795, 0.00058086, 0.00120291,\n",
            "       0.00032664, 0.00049087, 0.00000537, 0.        , 0.00834254,\n",
            "       0.00393348, 0.000013  , 0.00701521, 0.00119614, 0.00060587,\n",
            "       0.        , 0.00109203, 0.00040473, 0.00000601, 0.00460761,\n",
            "       0.00010103, 0.00179744, 0.00600588, 0.00000914, 0.00208577,\n",
            "       0.00027837, 0.00021197, 0.00102641, 0.00424628, 0.0015806 ,\n",
            "       0.00315876, 0.00001408, 0.00063001, 0.00000011, 0.00026998,\n",
            "       0.00156535, 0.00045859, 0.0004107 , 0.00156455, 0.00488663,\n",
            "       0.00000941, 0.00000517, 0.00001061, 0.        , 0.00051829,\n",
            "       0.00005609, 0.00003088, 0.00017524, 0.00026713, 0.00178267,\n",
            "       0.00219778, 0.00156325, 0.00017505, 0.00000758, 0.00085856,\n",
            "       0.00074462, 0.00001033, 0.00032858, 0.00016972, 0.00176281,\n",
            "       0.        , 0.00002628, 0.00026592, 0.00097928, 0.00198352,\n",
            "       0.0000208 , 0.00016865, 0.00000925, 0.00014352, 0.00276201,\n",
            "       0.00013978, 0.00389299, 0.        , 0.00012128, 0.00692408,\n",
            "       0.00020443, 0.0010216 , 0.00040053, 0.00000586, 0.000021  ,\n",
            "       0.        , 0.00518882, 0.00396486, 0.00009914, 0.00018802,\n",
            "       0.00096338, 0.00000942, 0.00525371, 0.00005278, 0.00011607,\n",
            "       0.        , 0.00003871, 0.00000372, 0.0009819 , 0.00024331,\n",
            "       0.00032007, 0.00176914, 0.00010747, 0.00004398, 0.00023305]), array([1.        , 1.        , 1.        , 1.        , 1.        ,\n",
            "       1.        , 1.        , 1.        , 1.        , 1.        ,\n",
            "       1.        , 1.        , 1.        , 1.        , 1.        ,\n",
            "       1.        , 1.        , 1.        , 1.        , 1.        ,\n",
            "       1.        , 1.        , 1.        , 1.        , 1.        ,\n",
            "       1.        , 1.        , 1.        , 1.        , 1.        ,\n",
            "       1.        , 1.        , 1.        , 1.        , 1.        ,\n",
            "       1.        , 1.        , 1.        , 1.        , 1.        ,\n",
            "       1.        , 1.        , 1.        , 1.        , 1.        ,\n",
            "       1.        , 1.        , 1.        , 1.        , 1.        ,\n",
            "       1.        , 1.        , 1.        , 1.        , 1.        ,\n",
            "       1.        , 1.        , 1.        , 1.        , 1.        ,\n",
            "       1.        , 1.        , 1.        , 1.        , 1.        ,\n",
            "       1.        , 1.        , 1.        , 1.        , 1.        ,\n",
            "       1.        , 1.        , 1.        , 1.        , 1.        ,\n",
            "       1.        , 1.        , 1.        , 1.        , 1.        ,\n",
            "       1.        , 1.        , 1.        , 1.        , 1.        ,\n",
            "       1.        , 1.        , 1.        , 1.        , 1.        ,\n",
            "       1.        , 1.        , 1.        , 1.        , 1.        ,\n",
            "       1.        , 1.        , 1.        , 1.        , 1.        ,\n",
            "       1.        , 1.        , 1.        , 1.        , 1.        ,\n",
            "       1.        , 1.        , 1.        , 1.        , 1.        ,\n",
            "       1.        , 1.        , 1.        , 1.        , 1.        ,\n",
            "       1.        , 1.        , 1.        , 1.        , 1.        ,\n",
            "       1.        , 1.        , 1.        , 1.        , 1.        ,\n",
            "       1.        , 1.        , 1.        , 1.        , 1.        ,\n",
            "       1.        , 1.        , 1.        , 1.        , 1.        ,\n",
            "       1.        , 1.        , 1.        , 1.        , 1.        ,\n",
            "       1.        , 1.        , 1.        , 1.        , 1.        ,\n",
            "       1.        , 1.        , 1.        , 1.        , 1.        ,\n",
            "       1.        , 1.        , 1.        , 1.        , 1.        ,\n",
            "       1.        , 1.        , 1.        , 1.        , 1.        ,\n",
            "       1.        , 1.        , 1.        , 1.        , 1.        ,\n",
            "       1.        , 1.        , 1.        , 1.        , 1.        ,\n",
            "       1.        , 1.        , 1.        , 1.        , 1.        ,\n",
            "       1.        , 1.        , 1.        , 1.        , 1.        ,\n",
            "       1.        , 1.        , 1.        , 1.        , 1.        ,\n",
            "       1.        , 1.        , 1.        , 1.        , 1.        ,\n",
            "       1.        , 1.        , 1.        , 1.        , 1.        ,\n",
            "       1.        , 1.        , 1.        , 1.        , 1.        ,\n",
            "       1.        , 1.        , 1.        , 1.        , 1.        ,\n",
            "       1.        , 1.        , 1.        , 1.        , 1.        ,\n",
            "       1.        , 1.        , 1.        , 1.        , 1.        ,\n",
            "       1.        , 1.        , 1.        , 1.        , 1.        ,\n",
            "       1.        , 1.        , 1.        , 1.        , 1.        ,\n",
            "       1.        , 1.        , 1.        , 1.        , 1.        ,\n",
            "       1.        , 1.        , 1.        , 1.        , 1.        ,\n",
            "       1.        , 1.        , 1.        , 1.        , 1.        ,\n",
            "       1.        , 1.        , 1.        , 1.        , 1.        ,\n",
            "       1.        , 1.        , 1.        , 1.        , 1.        ,\n",
            "       1.        , 1.        , 1.        , 1.        , 1.        ,\n",
            "       1.        , 1.        , 1.        , 1.        , 1.        ,\n",
            "       1.        , 1.        , 1.        , 1.        , 1.        ,\n",
            "       1.        , 1.        , 1.        , 1.        , 1.        ,\n",
            "       1.        , 1.        , 1.        , 1.        , 1.        ,\n",
            "       1.        , 1.        , 1.        , 1.        , 1.        ,\n",
            "       1.        , 1.        , 1.        , 1.        , 1.        ,\n",
            "       1.        , 1.        , 1.        , 1.        , 1.        ,\n",
            "       1.        , 1.        , 1.        , 1.        , 1.        ,\n",
            "       1.        , 1.        , 1.        , 1.        , 1.        ,\n",
            "       1.        , 1.        , 1.        , 1.        , 1.        ,\n",
            "       1.        , 1.        , 1.        , 1.        , 1.        ,\n",
            "       1.        , 1.        , 1.        , 1.        , 1.        ,\n",
            "       1.        , 1.        , 1.        , 1.        , 1.        ,\n",
            "       1.        , 1.        , 1.        , 1.        , 1.        ,\n",
            "       1.        , 1.        , 1.        , 1.        , 1.        ,\n",
            "       1.        , 1.        , 1.        , 1.        , 1.        ,\n",
            "       1.        , 1.        , 1.        , 1.        , 1.        ,\n",
            "       1.        , 1.        , 1.        , 1.        , 1.        ,\n",
            "       1.        , 1.        , 1.        , 1.        , 0.99999997,\n",
            "       1.        , 1.        , 1.        , 1.        , 1.        ,\n",
            "       1.        , 1.        , 1.        , 1.        , 1.        ,\n",
            "       1.        , 1.        , 1.        , 1.        , 1.        ,\n",
            "       1.        , 1.        , 1.        , 1.        , 1.        ,\n",
            "       1.        , 1.        , 1.        , 1.        , 1.        ,\n",
            "       1.        , 1.        , 1.        , 1.        , 1.        ,\n",
            "       1.        , 1.        , 1.        , 1.        , 1.        ,\n",
            "       1.        , 1.        , 1.        , 1.        , 1.        ,\n",
            "       1.        , 1.        , 1.        , 1.        , 1.        ,\n",
            "       1.        , 1.        , 1.        , 1.        , 1.        ,\n",
            "       1.        , 1.        , 1.        , 1.        , 1.        ,\n",
            "       1.        , 1.        , 1.        , 1.        , 1.        ,\n",
            "       1.        , 1.        , 1.        , 1.        , 1.        ,\n",
            "       1.        , 1.        , 1.        , 1.        , 1.        ,\n",
            "       1.        , 1.        , 1.        , 1.        , 1.        ,\n",
            "       1.        , 1.        , 1.        , 1.        , 1.        ,\n",
            "       1.        , 1.        , 1.        , 1.        , 1.        ,\n",
            "       1.        , 1.        , 1.        , 1.        , 1.        ,\n",
            "       1.        , 1.        , 1.        , 1.        , 1.        ,\n",
            "       1.        , 1.        , 1.        , 1.        , 1.        ,\n",
            "       1.        , 1.        , 1.        , 1.        , 1.        ,\n",
            "       1.        , 1.        , 1.        , 1.        , 1.        ,\n",
            "       1.        , 1.        , 1.        , 1.        , 1.        ,\n",
            "       1.        , 1.        , 1.        , 1.        , 1.        ,\n",
            "       1.        , 1.        , 1.        , 1.        , 1.        ,\n",
            "       1.        , 1.        , 1.        , 1.        , 1.        ,\n",
            "       1.        , 1.        , 1.        , 1.        , 1.        ,\n",
            "       1.        , 1.        , 1.        , 1.        , 1.        ,\n",
            "       1.        , 1.        , 1.        , 1.        , 1.        ,\n",
            "       1.        , 1.        , 1.        , 1.        , 1.        ,\n",
            "       1.        , 1.        , 1.        , 1.        , 1.        ,\n",
            "       1.        , 1.        , 1.        , 1.        , 1.        ,\n",
            "       1.        , 1.        , 1.        , 1.        , 1.        ,\n",
            "       1.        , 1.        , 1.        , 1.        , 1.        ,\n",
            "       1.        , 1.        , 1.        , 1.        , 1.        ,\n",
            "       1.        , 1.        , 1.        , 1.        , 1.        ,\n",
            "       1.        , 1.        , 1.        , 1.        , 1.        ,\n",
            "       1.        , 1.        , 1.        , 1.        , 1.        ,\n",
            "       1.        , 1.        , 1.        , 1.        , 1.        ,\n",
            "       1.        , 1.        , 1.        , 1.        , 1.        ,\n",
            "       1.        , 1.        , 1.        , 1.        , 1.        ,\n",
            "       1.        , 1.        , 1.        , 1.        , 1.        ,\n",
            "       1.        , 1.        , 1.        , 1.        , 1.        ,\n",
            "       1.        , 1.        , 1.        , 1.        , 1.        ,\n",
            "       1.        , 1.        , 1.        , 1.        , 1.        ,\n",
            "       1.        , 1.        , 1.        , 1.        , 1.        ,\n",
            "       1.        , 1.        , 1.        , 1.        , 1.        ,\n",
            "       1.        , 1.        , 1.        , 1.        , 1.        ,\n",
            "       1.        , 1.        , 1.        , 1.        , 1.        ,\n",
            "       1.        , 1.        , 1.        , 1.        , 1.        ,\n",
            "       1.        , 1.        , 1.        , 1.        , 1.        ,\n",
            "       1.        , 1.        , 1.        , 1.        , 1.        ,\n",
            "       1.        , 1.        , 1.        , 1.        , 1.        ,\n",
            "       1.        , 1.        , 1.        , 1.        , 1.        ,\n",
            "       1.        , 1.        , 1.        , 1.        , 1.        ,\n",
            "       1.        , 1.        , 1.        , 1.        , 1.        ,\n",
            "       1.        , 1.        , 1.        , 1.        , 1.        ,\n",
            "       1.        , 1.        , 1.        , 1.        , 1.        ,\n",
            "       1.        , 1.        , 1.        , 1.        , 1.        ,\n",
            "       1.        , 1.        , 1.        , 1.        , 1.        ,\n",
            "       1.        , 1.        , 1.        , 1.        , 1.        ,\n",
            "       1.        , 1.        , 1.        , 1.        , 1.        ,\n",
            "       1.        , 1.        , 1.        , 1.        , 1.        ,\n",
            "       1.        , 1.        , 1.        , 1.        , 1.        ,\n",
            "       1.        , 1.        , 1.        , 1.        , 1.        ,\n",
            "       1.        , 1.        , 1.        , 1.        , 1.        ,\n",
            "       1.        , 1.        , 1.        , 1.        , 1.        ,\n",
            "       1.        , 1.        , 1.        , 1.        , 1.        ,\n",
            "       1.        , 1.        , 1.        , 1.        , 1.        ,\n",
            "       1.        , 1.        , 1.        , 1.        , 1.        ,\n",
            "       1.        , 1.        , 1.        , 1.        , 1.        ,\n",
            "       1.        , 1.        , 1.        , 1.        , 1.        ,\n",
            "       1.        , 1.        , 1.        , 1.        , 1.        ,\n",
            "       1.        , 1.        , 1.        , 1.        , 1.        ,\n",
            "       1.        , 1.        , 1.        , 1.        , 1.        ,\n",
            "       1.        , 1.        , 1.        , 1.        , 1.        ,\n",
            "       1.        , 1.        , 1.        , 1.        , 1.        ,\n",
            "       1.        , 1.        , 1.        , 1.        , 1.        ,\n",
            "       1.        , 1.        , 1.        , 1.        , 1.        ,\n",
            "       1.        , 1.        , 1.        , 1.        , 1.        ,\n",
            "       1.        , 1.        , 1.        , 1.        , 1.        ,\n",
            "       1.        , 1.        , 1.        , 1.        , 1.        ,\n",
            "       1.        , 1.        , 1.        , 1.        , 1.        ,\n",
            "       1.        , 1.        , 1.        , 1.        , 1.        ,\n",
            "       1.        , 1.        , 1.        , 1.        , 1.        ,\n",
            "       1.        , 1.        , 1.        , 1.        , 1.        ,\n",
            "       1.        , 1.        , 1.        , 1.        , 1.        ,\n",
            "       1.        , 1.        , 1.        , 1.        , 1.        ,\n",
            "       1.        , 1.        , 1.        , 1.        , 1.        ,\n",
            "       1.        , 1.        , 1.        , 1.        , 1.        ,\n",
            "       1.        , 1.        , 1.        , 1.        , 1.        ,\n",
            "       1.        , 1.        , 1.        , 1.        , 1.        ,\n",
            "       1.        , 1.        , 1.        , 1.        , 1.        ,\n",
            "       1.        , 1.        , 1.        , 1.        , 1.        ,\n",
            "       1.        , 1.        , 1.        , 1.        , 1.        ,\n",
            "       1.        , 1.        , 1.        , 1.        , 1.        ,\n",
            "       1.        , 1.        , 1.        , 1.        , 1.        ,\n",
            "       1.        , 1.        , 1.        , 1.        , 1.        ,\n",
            "       1.        , 1.        , 1.        , 1.        , 1.        ,\n",
            "       1.        , 1.        , 1.        , 1.        , 1.        ,\n",
            "       1.        , 1.        , 1.        , 1.        , 1.        ,\n",
            "       1.        , 1.        , 1.        , 1.        , 1.        ,\n",
            "       1.        , 1.        , 1.        , 1.        , 1.        ,\n",
            "       1.        , 1.        , 1.        , 1.        , 1.        ,\n",
            "       1.        , 1.        , 1.        , 1.        , 1.        ,\n",
            "       1.        , 1.        , 1.        , 1.        , 1.        ,\n",
            "       1.        , 1.        , 1.        , 1.        , 1.        ,\n",
            "       1.        , 1.        , 1.        , 1.        , 1.        ,\n",
            "       1.        , 1.        , 1.        , 1.        , 1.        ,\n",
            "       1.        , 1.        , 1.        , 1.        , 1.        ,\n",
            "       1.        , 1.        , 1.        , 1.        , 1.        ,\n",
            "       1.        , 1.        , 1.        , 1.        , 1.        ,\n",
            "       1.        , 1.        , 1.        , 1.        , 1.        ,\n",
            "       1.        , 1.        , 1.        , 1.        , 1.        ,\n",
            "       1.        , 1.        , 1.        , 1.        , 1.        ,\n",
            "       1.        , 1.        , 1.        , 1.        , 1.        ,\n",
            "       1.        , 1.        , 1.        , 1.        , 1.        ,\n",
            "       1.        , 1.        , 1.        , 1.        , 1.        ,\n",
            "       1.        , 1.        , 1.        , 1.        , 1.        ,\n",
            "       1.        , 1.        , 1.        , 1.        , 1.        ,\n",
            "       1.        , 1.        , 1.        , 1.        , 1.        ,\n",
            "       1.        , 1.        , 1.        , 1.        , 1.        ,\n",
            "       1.        , 1.        , 1.        , 1.        , 1.        ,\n",
            "       1.        , 1.        , 1.        , 1.        , 1.        ,\n",
            "       1.        , 1.        , 1.        , 1.        , 1.        ,\n",
            "       1.        , 1.        , 1.        , 1.        , 1.        ,\n",
            "       1.        , 1.        , 1.        , 1.        , 1.        ,\n",
            "       1.        , 1.        , 1.        , 1.        , 1.        ,\n",
            "       1.        , 1.        , 1.        , 1.        , 1.        ,\n",
            "       1.        , 1.        , 1.        , 1.        , 1.        ]))\n"
          ]
        }
      ],
      "source": [
        "# Create instance of influence\n",
        "influence = model.get_influence()\n",
        "\n",
        "# Obtain Cook's distance for each observation\n",
        "cooks = influence.cooks_distance\n",
        "\n",
        "# Display Cook's distances\n",
        "print(cooks)"
      ]
    },
    {
      "cell_type": "code",
      "execution_count": null,
      "id": "f0c7f5bc",
      "metadata": {
        "id": "f0c7f5bc"
      },
      "outputs": [],
      "source": [
        "# import matplotlib.pyplot as plt\n",
        "# plt.scatter(ny_2019_v2.X, cooks[0])\n",
        "# plt.xlabel('X')\n",
        "# plt.ylabel('Cooks Distance')\n",
        "# plt.show()"
      ]
    },
    {
      "cell_type": "code",
      "execution_count": null,
      "id": "f4d8bd51",
      "metadata": {
        "id": "f4d8bd51"
      },
      "outputs": [],
      "source": [
        "import statsmodels.api as sm\n",
        "\n",
        "def stepwise_selection(data, target,SL_in=0.05,SL_out = 0.05):\n",
        "    initial_features = data.columns.tolist()\n",
        "    best_features = []\n",
        "    while (len(initial_features)>0):\n",
        "        remaining_features = list(set(initial_features)-set(best_features))\n",
        "        new_pval = pd.Series(index=remaining_features)\n",
        "        for new_column in remaining_features:\n",
        "            model = sm.OLS(target, sm.add_constant(data[best_features+[new_column]])).fit()\n",
        "            new_pval[new_column] = model.pvalues[new_column]\n",
        "        min_p_value = new_pval.min()\n",
        "        if(min_p_value<SL_in):\n",
        "            best_features.append(new_pval.idxmin())\n",
        "            while(len(best_features)>0):\n",
        "                best_features_with_constant = sm.add_constant(data[best_features])\n",
        "                p_values = sm.OLS(target, best_features_with_constant).fit().pvalues[1:]\n",
        "                max_p_value = p_values.max()\n",
        "                if(max_p_value >= SL_out):\n",
        "                    excluded_feature = p_values.idxmax()\n",
        "                    best_features.remove(excluded_feature)\n",
        "                else:\n",
        "                    break \n",
        "        else:\n",
        "            break\n",
        "    return best_features"
      ]
    },
    {
      "cell_type": "code",
      "execution_count": null,
      "id": "f19b4334",
      "metadata": {
        "id": "f19b4334"
      },
      "outputs": [],
      "source": [
        "y_train=y_train.values.reshape(-1,1)"
      ]
    },
    {
      "cell_type": "code",
      "execution_count": null,
      "id": "8d35dfe3",
      "metadata": {
        "id": "8d35dfe3",
        "colab": {
          "base_uri": "https://localhost:8080/"
        },
        "outputId": "c53afe28-e120-461e-d4e0-35ee25bc38ab"
      },
      "outputs": [
        {
          "output_type": "stream",
          "name": "stderr",
          "text": [
            "/usr/local/lib/python3.7/dist-packages/ipykernel_launcher.py:8: DeprecationWarning: The default dtype for empty Series will be 'object' instead of 'float64' in a future version. Specify a dtype explicitly to silence this warning.\n",
            "  \n",
            "/usr/local/lib/python3.7/dist-packages/statsmodels/tsa/tsatools.py:117: FutureWarning: In a future version of pandas all arguments of concat except for the argument 'objs' will be keyword-only\n",
            "  x = pd.concat(x[::order], 1)\n"
          ]
        },
        {
          "output_type": "execute_result",
          "data": {
            "text/plain": [
              "['EDUCYBACH_PCT_2019', 'HHDCYAVESZ_2019']"
            ]
          },
          "metadata": {},
          "execution_count": 74
        }
      ],
      "source": [
        "# Stepwise on CC debt change\n",
        "stepwise_selection(X_train,y_train)"
      ]
    },
    {
      "cell_type": "code",
      "source": [
        "# KNN on CC debt change\n",
        "from sklearn import neighbors\n",
        "from sklearn.metrics import mean_squared_error \n",
        "from math import sqrt\n",
        "import matplotlib.pyplot as plt\n",
        "%matplotlib inline"
      ],
      "metadata": {
        "id": "lNQA__bz0hJ9"
      },
      "id": "lNQA__bz0hJ9",
      "execution_count": null,
      "outputs": []
    },
    {
      "cell_type": "code",
      "source": [
        "# Setup for elbow curve\n",
        "rmse_val = [] # To store rmse values for different k\n",
        "for K in range(40):\n",
        "    K = K+1\n",
        "    model = neighbors.KNeighborsRegressor(n_neighbors = K)\n",
        "\n",
        "    model.fit(X_train, y_train)\n",
        "    pred=model.predict(X_test)\n",
        "    error = sqrt(mean_squared_error(y_test,pred))\n",
        "    rmse_val.append(error)\n",
        "    print('RMSE value for k= ' , K , 'is:', error)"
      ],
      "metadata": {
        "id": "535GttaeyX15",
        "colab": {
          "base_uri": "https://localhost:8080/"
        },
        "outputId": "1427147e-4619-4328-821c-bddbce566cd3"
      },
      "id": "535GttaeyX15",
      "execution_count": null,
      "outputs": [
        {
          "output_type": "stream",
          "name": "stdout",
          "text": [
            "RMSE value for k=  1 is: 0.07149574175038179\n",
            "RMSE value for k=  2 is: 0.05490934825650769\n",
            "RMSE value for k=  3 is: 0.05135606938220583\n",
            "RMSE value for k=  4 is: 0.05216640090793201\n",
            "RMSE value for k=  5 is: 0.0523059413005199\n",
            "RMSE value for k=  6 is: 0.05052115695535415\n",
            "RMSE value for k=  7 is: 0.0495026878586007\n",
            "RMSE value for k=  8 is: 0.04892144480627335\n",
            "RMSE value for k=  9 is: 0.04859818915264188\n",
            "RMSE value for k=  10 is: 0.04890795536050037\n",
            "RMSE value for k=  11 is: 0.04858664846863634\n",
            "RMSE value for k=  12 is: 0.04834618235058018\n",
            "RMSE value for k=  13 is: 0.04840121293313492\n",
            "RMSE value for k=  14 is: 0.04840438475764733\n",
            "RMSE value for k=  15 is: 0.048254790411718755\n",
            "RMSE value for k=  16 is: 0.04820591172983921\n",
            "RMSE value for k=  17 is: 0.04862746951741211\n",
            "RMSE value for k=  18 is: 0.04887091302624859\n",
            "RMSE value for k=  19 is: 0.04872644140308306\n",
            "RMSE value for k=  20 is: 0.04868863757218552\n",
            "RMSE value for k=  21 is: 0.04864002444764359\n",
            "RMSE value for k=  22 is: 0.04848068873310562\n",
            "RMSE value for k=  23 is: 0.0485162768481069\n",
            "RMSE value for k=  24 is: 0.04843091856778943\n",
            "RMSE value for k=  25 is: 0.0483955040295631\n",
            "RMSE value for k=  26 is: 0.0481605585626706\n",
            "RMSE value for k=  27 is: 0.04820299609599768\n",
            "RMSE value for k=  28 is: 0.048143293278015455\n",
            "RMSE value for k=  29 is: 0.04810053137875551\n",
            "RMSE value for k=  30 is: 0.04803435632322139\n",
            "RMSE value for k=  31 is: 0.04805663270275218\n",
            "RMSE value for k=  32 is: 0.048129222152972696\n",
            "RMSE value for k=  33 is: 0.04814476403660005\n",
            "RMSE value for k=  34 is: 0.048197107503129465\n",
            "RMSE value for k=  35 is: 0.0482570637274757\n",
            "RMSE value for k=  36 is: 0.048198888137744283\n",
            "RMSE value for k=  37 is: 0.04813981263007449\n",
            "RMSE value for k=  38 is: 0.04816247809882041\n",
            "RMSE value for k=  39 is: 0.04808691879305877\n",
            "RMSE value for k=  40 is: 0.048055552335705916\n"
          ]
        }
      ]
    },
    {
      "cell_type": "code",
      "source": [
        "# Plotting the rmse values against k values\n",
        "curve = pd.DataFrame(rmse_val) # elbow curve \n",
        "curve.plot()"
      ],
      "metadata": {
        "id": "s167jtxBybe_",
        "colab": {
          "base_uri": "https://localhost:8080/",
          "height": 282
        },
        "outputId": "2ac5d590-eb5f-4b3a-c9f8-7aab68b9a791"
      },
      "id": "s167jtxBybe_",
      "execution_count": null,
      "outputs": [
        {
          "output_type": "execute_result",
          "data": {
            "text/plain": [
              "<matplotlib.axes._subplots.AxesSubplot at 0x7fa04f2b6910>"
            ]
          },
          "metadata": {},
          "execution_count": 77
        },
        {
          "output_type": "display_data",
          "data": {
            "text/plain": [
              "<Figure size 432x288 with 1 Axes>"
            ],
            "image/png": "[encoded data removed]"
          },
          "metadata": {
            "needs_background": "light"
          }
        }
      ]
    },
    {
      "cell_type": "code",
      "source": [
        "from sklearn.neighbors import KNeighborsRegressor\n",
        "knn_model = KNeighborsRegressor(n_neighbors=29)"
      ],
      "metadata": {
        "id": "DZF97M71Z5HS"
      },
      "id": "DZF97M71Z5HS",
      "execution_count": null,
      "outputs": []
    },
    {
      "cell_type": "code",
      "source": [
        "knn_model.fit(X_train, y_train)"
      ],
      "metadata": {
        "id": "pVJ1YhFvOJTa",
        "colab": {
          "base_uri": "https://localhost:8080/"
        },
        "outputId": "8e24f7b9-7a66-4563-a999-757b24c01b53"
      },
      "id": "pVJ1YhFvOJTa",
      "execution_count": null,
      "outputs": [
        {
          "output_type": "execute_result",
          "data": {
            "text/plain": [
              "KNeighborsRegressor(n_neighbors=29)"
            ]
          },
          "metadata": {},
          "execution_count": 79
        }
      ]
    },
    {
      "cell_type": "code",
      "source": [
        "from sklearn.metrics import mean_squared_error\n",
        "from math import sqrt\n",
        "train_preds = knn_model.predict(X_train)\n",
        "mse = mean_squared_error(y_train, train_preds)\n",
        "rmse = sqrt(mse)\n",
        "rmse"
      ],
      "metadata": {
        "id": "TDyr3l7IOPD7",
        "colab": {
          "base_uri": "https://localhost:8080/"
        },
        "outputId": "7fc12f52-6dc5-47d5-cc7f-f74467601e79"
      },
      "id": "TDyr3l7IOPD7",
      "execution_count": null,
      "outputs": [
        {
          "output_type": "execute_result",
          "data": {
            "text/plain": [
              "0.05780889741316056"
            ]
          },
          "metadata": {},
          "execution_count": 80
        }
      ]
    },
    {
      "cell_type": "code",
      "source": [
        "test_preds = knn_model.predict(X_test)\n",
        "mse = mean_squared_error(y_test, test_preds)\n",
        "rmse = sqrt(mse)\n",
        "rmse"
      ],
      "metadata": {
        "id": "zrduT7odOhLI",
        "colab": {
          "base_uri": "https://localhost:8080/"
        },
        "outputId": "84014263-0a0d-40a4-bc44-ae1fbe05c02a"
      },
      "id": "zrduT7odOhLI",
      "execution_count": null,
      "outputs": [
        {
          "output_type": "execute_result",
          "data": {
            "text/plain": [
              "0.04810053137875551"
            ]
          },
          "metadata": {},
          "execution_count": 81
        }
      ]
    },
    {
      "cell_type": "code",
      "execution_count": null,
      "id": "5a8b220a",
      "metadata": {
        "id": "5a8b220a"
      },
      "outputs": [],
      "source": [
        "### MEDIAN HH INCOME DV ###\n",
        "# Add change in median hh income 2019-2021 as y\n",
        "\n",
        "X = ny_2019_v2.drop(['HMVCYCREDC_change_19_21', 'INCCYMEDHH_change_19_21'], axis=1)\n",
        "y = ny_2019_v2['INCCYMEDHH_change_19_21']\n",
        "\n",
        "# Split data into 70% training, 30% testing\n",
        "\n",
        "X_train, X_test, y_train, y_test = train_test_split(X, y, test_size=0.3)"
      ]
    },
    {
      "cell_type": "code",
      "execution_count": null,
      "id": "912244ec",
      "metadata": {
        "id": "912244ec"
      },
      "outputs": [],
      "source": [
        "# Scale data\n",
        "\n",
        "scaler = StandardScaler()\n",
        "scaler.fit(X_train)\n",
        "X_train = pd.DataFrame(scaler.transform(X_train), columns = X_train.columns)\n",
        "X_test = pd.DataFrame(scaler.transform(X_test), columns = X_test.columns)"
      ]
    },
    {
      "cell_type": "code",
      "execution_count": null,
      "id": "5907d3af",
      "metadata": {
        "id": "5907d3af",
        "colab": {
          "base_uri": "https://localhost:8080/",
          "height": 668
        },
        "outputId": "d925f7c9-72cc-4075-a54f-bafd228d03fd"
      },
      "outputs": [
        {
          "output_type": "execute_result",
          "data": {
            "text/plain": [
              "<class 'statsmodels.iolib.summary.Summary'>\n",
              "\"\"\"\n",
              "                                   OLS Regression Results                                   \n",
              "============================================================================================\n",
              "Dep. Variable:     INCCYMEDHH_change_19_21   R-squared (uncentered):                   0.203\n",
              "Model:                                 OLS   Adj. R-squared (uncentered):              0.198\n",
              "Method:                      Least Squares   F-statistic:                              38.20\n",
              "Date:                     Sun, 08 May 2022   Prob (F-statistic):                    1.11e-73\n",
              "Time:                             14:38:08   Log-Likelihood:                          1443.9\n",
              "No. Observations:                     1657   AIC:                                     -2866.\n",
              "Df Residuals:                         1646   BIC:                                     -2806.\n",
              "Df Model:                               11                                                  \n",
              "Covariance Type:                 nonrobust                                                  \n",
              "=======================================================================================\n",
              "                          coef    std err          t      P>|t|      [0.025      0.975]\n",
              "---------------------------------------------------------------------------------------\n",
              "POPCY_2019           2.619e-07   1.97e-07      1.333      0.183   -1.24e-07    6.47e-07\n",
              "AGECYMED_2019          -0.0012      0.001     -2.125      0.034      -0.002   -9.63e-05\n",
              "MARCYMARR_PCT_2019     -0.0245      0.050     -0.488      0.626      -0.123       0.074\n",
              "HHDCYAVESZ_2019         0.0240      0.010      2.391      0.017       0.004       0.044\n",
              "RACCYBLACK_PCT_2019     0.0060      0.041      0.147      0.883      -0.074       0.086\n",
              "HISCYHISP_PCT_2019      0.0446      0.040      1.107      0.269      -0.034       0.124\n",
              "RACCYWHITE_PCT_2019     0.0286      0.032      0.896      0.371      -0.034       0.091\n",
              "RACCYASIAN_PCT_2019     0.0163      0.058      0.283      0.777      -0.097       0.129\n",
              "LBFCYARM_PCT_2019       0.1230      0.131      0.939      0.348      -0.134       0.380\n",
              "EDUCYBACH_PCT_2019      0.1445      0.078      1.852      0.064      -0.009       0.298\n",
              "EDUCYGRAD_PCT_2019      0.0264      0.067      0.395      0.693      -0.105       0.157\n",
              "==============================================================================\n",
              "Omnibus:                      661.174   Durbin-Watson:                   1.900\n",
              "Prob(Omnibus):                  0.000   Jarque-Bera (JB):            21135.971\n",
              "Skew:                          -1.224   Prob(JB):                         0.00\n",
              "Kurtosis:                      20.325   Cond. No.                     1.13e+06\n",
              "==============================================================================\n",
              "\n",
              "Warnings:\n",
              "[1] Standard Errors assume that the covariance matrix of the errors is correctly specified.\n",
              "[2] The condition number is large, 1.13e+06. This might indicate that there are\n",
              "strong multicollinearity or other numerical problems.\n",
              "\"\"\""
            ],
            "text/html": [
              "<table class=\"simpletable\">\n",
              "<caption>OLS Regression Results</caption>\n",
              "<tr>\n",
              "  <th>Dep. Variable:</th>    <td>INCCYMEDHH_change_19_21</td> <th>  R-squared (uncentered):</th>      <td>   0.203</td>\n",
              "</tr>\n",
              "<tr>\n",
              "  <th>Model:</th>                      <td>OLS</td>           <th>  Adj. R-squared (uncentered):</th> <td>   0.198</td>\n",
              "</tr>\n",
              "<tr>\n",
              "  <th>Method:</th>                <td>Least Squares</td>      <th>  F-statistic:       </th>          <td>   38.20</td>\n",
              "</tr>\n",
              "<tr>\n",
              "  <th>Date:</th>                <td>Sun, 08 May 2022</td>     <th>  Prob (F-statistic):</th>          <td>1.11e-73</td>\n",
              "</tr>\n",
              "<tr>\n",
              "  <th>Time:</th>                    <td>14:38:08</td>         <th>  Log-Likelihood:    </th>          <td>  1443.9</td>\n",
              "</tr>\n",
              "<tr>\n",
              "  <th>No. Observations:</th>         <td>  1657</td>          <th>  AIC:               </th>          <td>  -2866.</td>\n",
              "</tr>\n",
              "<tr>\n",
              "  <th>Df Residuals:</th>             <td>  1646</td>          <th>  BIC:               </th>          <td>  -2806.</td>\n",
              "</tr>\n",
              "<tr>\n",
              "  <th>Df Model:</th>                 <td>    11</td>          <th>                     </th>              <td> </td>   \n",
              "</tr>\n",
              "<tr>\n",
              "  <th>Covariance Type:</th>         <td>nonrobust</td>        <th>                     </th>              <td> </td>   \n",
              "</tr>\n",
              "</table>\n",
              "<table class=\"simpletable\">\n",
              "<tr>\n",
              "           <td></td>              <th>coef</th>     <th>std err</th>      <th>t</th>      <th>P>|t|</th>  <th>[0.025</th>    <th>0.975]</th>  \n",
              "</tr>\n",
              "<tr>\n",
              "  <th>POPCY_2019</th>          <td> 2.619e-07</td> <td> 1.97e-07</td> <td>    1.333</td> <td> 0.183</td> <td>-1.24e-07</td> <td> 6.47e-07</td>\n",
              "</tr>\n",
              "<tr>\n",
              "  <th>AGECYMED_2019</th>       <td>   -0.0012</td> <td>    0.001</td> <td>   -2.125</td> <td> 0.034</td> <td>   -0.002</td> <td>-9.63e-05</td>\n",
              "</tr>\n",
              "<tr>\n",
              "  <th>MARCYMARR_PCT_2019</th>  <td>   -0.0245</td> <td>    0.050</td> <td>   -0.488</td> <td> 0.626</td> <td>   -0.123</td> <td>    0.074</td>\n",
              "</tr>\n",
              "<tr>\n",
              "  <th>HHDCYAVESZ_2019</th>     <td>    0.0240</td> <td>    0.010</td> <td>    2.391</td> <td> 0.017</td> <td>    0.004</td> <td>    0.044</td>\n",
              "</tr>\n",
              "<tr>\n",
              "  <th>RACCYBLACK_PCT_2019</th> <td>    0.0060</td> <td>    0.041</td> <td>    0.147</td> <td> 0.883</td> <td>   -0.074</td> <td>    0.086</td>\n",
              "</tr>\n",
              "<tr>\n",
              "  <th>HISCYHISP_PCT_2019</th>  <td>    0.0446</td> <td>    0.040</td> <td>    1.107</td> <td> 0.269</td> <td>   -0.034</td> <td>    0.124</td>\n",
              "</tr>\n",
              "<tr>\n",
              "  <th>RACCYWHITE_PCT_2019</th> <td>    0.0286</td> <td>    0.032</td> <td>    0.896</td> <td> 0.371</td> <td>   -0.034</td> <td>    0.091</td>\n",
              "</tr>\n",
              "<tr>\n",
              "  <th>RACCYASIAN_PCT_2019</th> <td>    0.0163</td> <td>    0.058</td> <td>    0.283</td> <td> 0.777</td> <td>   -0.097</td> <td>    0.129</td>\n",
              "</tr>\n",
              "<tr>\n",
              "  <th>LBFCYARM_PCT_2019</th>   <td>    0.1230</td> <td>    0.131</td> <td>    0.939</td> <td> 0.348</td> <td>   -0.134</td> <td>    0.380</td>\n",
              "</tr>\n",
              "<tr>\n",
              "  <th>EDUCYBACH_PCT_2019</th>  <td>    0.1445</td> <td>    0.078</td> <td>    1.852</td> <td> 0.064</td> <td>   -0.009</td> <td>    0.298</td>\n",
              "</tr>\n",
              "<tr>\n",
              "  <th>EDUCYGRAD_PCT_2019</th>  <td>    0.0264</td> <td>    0.067</td> <td>    0.395</td> <td> 0.693</td> <td>   -0.105</td> <td>    0.157</td>\n",
              "</tr>\n",
              "</table>\n",
              "<table class=\"simpletable\">\n",
              "<tr>\n",
              "  <th>Omnibus:</th>       <td>661.174</td> <th>  Durbin-Watson:     </th> <td>   1.900</td> \n",
              "</tr>\n",
              "<tr>\n",
              "  <th>Prob(Omnibus):</th> <td> 0.000</td>  <th>  Jarque-Bera (JB):  </th> <td>21135.971</td>\n",
              "</tr>\n",
              "<tr>\n",
              "  <th>Skew:</th>          <td>-1.224</td>  <th>  Prob(JB):          </th> <td>    0.00</td> \n",
              "</tr>\n",
              "<tr>\n",
              "  <th>Kurtosis:</th>      <td>20.325</td>  <th>  Cond. No.          </th> <td>1.13e+06</td> \n",
              "</tr>\n",
              "</table><br/><br/>Warnings:<br/>[1] Standard Errors assume that the covariance matrix of the errors is correctly specified.<br/>[2] The condition number is large, 1.13e+06. This might indicate that there are<br/>strong multicollinearity or other numerical problems."
            ]
          },
          "metadata": {},
          "execution_count": 84
        }
      ],
      "source": [
        "### MEDIAN HH INCOME DV ###\n",
        "# OLS method on scaled data\n",
        "# Results are to predict change in median HH income from 2019-2021\n",
        "\n",
        "import statsmodels.api as sm\n",
        "ks = sm.OLS(y, X)\n",
        "ks_res = ks.fit()\n",
        "ks_res.summary()"
      ]
    },
    {
      "cell_type": "code",
      "execution_count": null,
      "id": "f7e43194",
      "metadata": {
        "id": "f7e43194",
        "colab": {
          "base_uri": "https://localhost:8080/",
          "height": 457
        },
        "outputId": "0bb4650c-b746-4231-9208-67def7935e4f"
      },
      "outputs": [
        {
          "output_type": "stream",
          "name": "stdout",
          "text": [
            "Feature: 0, Score: -0.00000\n",
            "Feature: 1, Score: 0.00000\n",
            "Feature: 2, Score: -0.00000\n",
            "Feature: 3, Score: 96.94180\n",
            "Feature: 4, Score: -0.00000\n",
            "Feature: 5, Score: 79.75507\n",
            "Feature: 6, Score: 42.32959\n",
            "Feature: 7, Score: 0.00000\n",
            "Feature: 8, Score: 0.00000\n",
            "Feature: 9, Score: 0.00000\n",
            "Feature: 10, Score: -0.00000\n"
          ]
        },
        {
          "output_type": "display_data",
          "data": {
            "text/plain": [
              "<Figure size 432x288 with 1 Axes>"
            ],
            "image/png": "[encoded data removed]"
          },
          "metadata": {
            "needs_background": "light"
          }
        }
      ],
      "source": [
        "### MEDIAN HH INCOME DV ###\n",
        "# define dataset\n",
        "X, y = make_regression(n_samples=1000, n_features=11, n_informative=3, random_state=1)\n",
        "# define the model\n",
        "model = LinearRegression()\n",
        "# fit the model\n",
        "model.fit(X, y)\n",
        "# get importance\n",
        "importance = model.coef_\n",
        "# summarize feature importance\n",
        "for i,v in enumerate(importance):\n",
        "\tprint('Feature: %0d, Score: %.5f' % (i,v))\n",
        "# plot feature importance\n",
        "pyplot.bar([x for x in range(len(importance))], importance)\n",
        "pyplot.show()"
      ]
    },
    {
      "cell_type": "code",
      "execution_count": null,
      "id": "f38914eb",
      "metadata": {
        "id": "f38914eb",
        "colab": {
          "base_uri": "https://localhost:8080/"
        },
        "outputId": "a5214599-74b7-4a34-d6ba-456ad74ba266"
      },
      "outputs": [
        {
          "output_type": "execute_result",
          "data": {
            "text/plain": [
              "0       1.97\n",
              "1       1.60\n",
              "2       2.31\n",
              "3       1.56\n",
              "4       1.89\n",
              "        ... \n",
              "1807    2.71\n",
              "1808    2.16\n",
              "1809    2.17\n",
              "1810    2.24\n",
              "1811    2.12\n",
              "Name: HHDCYAVESZ_2019, Length: 1657, dtype: float64"
            ]
          },
          "metadata": {},
          "execution_count": 86
        }
      ],
      "source": [
        "ny_2019_v2.iloc[:, 3]"
      ]
    },
    {
      "cell_type": "code",
      "execution_count": null,
      "id": "7276d2d9",
      "metadata": {
        "id": "7276d2d9",
        "colab": {
          "base_uri": "https://localhost:8080/"
        },
        "outputId": "44efce49-cb6a-4c1e-b90f-c85a8d9a320b"
      },
      "outputs": [
        {
          "output_type": "execute_result",
          "data": {
            "text/plain": [
              "0       0.032258\n",
              "1       0.189283\n",
              "2       0.209273\n",
              "3       0.101157\n",
              "4       0.193488\n",
              "          ...   \n",
              "1807    0.015263\n",
              "1808    0.043481\n",
              "1809    0.037231\n",
              "1810    0.037461\n",
              "1811    0.026592\n",
              "Name: HISCYHISP_PCT_2019, Length: 1657, dtype: float64"
            ]
          },
          "metadata": {},
          "execution_count": 87
        }
      ],
      "source": [
        "ny_2019_v2.iloc[:, 5]"
      ]
    },
    {
      "cell_type": "code",
      "execution_count": null,
      "id": "13deb95f",
      "metadata": {
        "id": "13deb95f",
        "colab": {
          "base_uri": "https://localhost:8080/"
        },
        "outputId": "6621b4d4-6a82-441c-8a7a-b65d091da115"
      },
      "outputs": [
        {
          "output_type": "execute_result",
          "data": {
            "text/plain": [
              "0       0.947581\n",
              "1       0.620946\n",
              "2       0.357376\n",
              "3       0.717728\n",
              "4       0.687442\n",
              "          ...   \n",
              "1807    0.983516\n",
              "1808    0.793200\n",
              "1809    0.843281\n",
              "1810    0.869677\n",
              "1811    0.873469\n",
              "Name: RACCYWHITE_PCT_2019, Length: 1657, dtype: float64"
            ]
          },
          "metadata": {},
          "execution_count": 88
        }
      ],
      "source": [
        "ny_2019_v2.iloc[:, 6]"
      ]
    },
    {
      "cell_type": "code",
      "execution_count": null,
      "id": "da6537b7",
      "metadata": {
        "id": "da6537b7"
      },
      "outputs": [],
      "source": [
        "# Cook's D - same problem as above\n",
        "# X = sm.add_constant(X)\n",
        "# model = sm.OLS(y, X).fit() "
      ]
    },
    {
      "cell_type": "code",
      "execution_count": null,
      "id": "e1617cba",
      "metadata": {
        "id": "e1617cba"
      },
      "outputs": [],
      "source": [
        "# # Suppress scientific notation\n",
        "# np.set_printoptions(suppress=True)\n",
        "\n",
        "# # Create instance of influence\n",
        "# influence = model.get_influence()\n",
        "\n",
        "# # Obtain Cook's distance for each observation\n",
        "# cooks = influence.cooks_distance\n",
        "\n",
        "# # Display Cook's distances\n",
        "# print(cooks)"
      ]
    },
    {
      "cell_type": "code",
      "execution_count": null,
      "id": "545904ed",
      "metadata": {
        "id": "545904ed"
      },
      "outputs": [],
      "source": [
        "y_train=y_train.values.reshape(-1,1)"
      ]
    },
    {
      "cell_type": "code",
      "execution_count": null,
      "id": "45218706",
      "metadata": {
        "id": "45218706",
        "colab": {
          "base_uri": "https://localhost:8080/"
        },
        "outputId": "90c1f652-dd2a-4eee-841b-93fca2f9d910"
      },
      "outputs": [
        {
          "output_type": "stream",
          "name": "stderr",
          "text": [
            "/usr/local/lib/python3.7/dist-packages/ipykernel_launcher.py:8: DeprecationWarning: The default dtype for empty Series will be 'object' instead of 'float64' in a future version. Specify a dtype explicitly to silence this warning.\n",
            "  \n",
            "/usr/local/lib/python3.7/dist-packages/statsmodels/tsa/tsatools.py:117: FutureWarning: In a future version of pandas all arguments of concat except for the argument 'objs' will be keyword-only\n",
            "  x = pd.concat(x[::order], 1)\n"
          ]
        },
        {
          "output_type": "execute_result",
          "data": {
            "text/plain": [
              "['HHDCYAVESZ_2019', 'EDUCYBACH_PCT_2019', 'AGECYMED_2019']"
            ]
          },
          "metadata": {},
          "execution_count": 92
        }
      ],
      "source": [
        "stepwise_selection(X_train,y_train)"
      ]
    },
    {
      "cell_type": "code",
      "source": [
        "rmse_val = [] # To store rmse values for different k\n",
        "for K in range(40):\n",
        "    K = K+1\n",
        "    model = neighbors.KNeighborsRegressor(n_neighbors = K)\n",
        "\n",
        "    model.fit(X_train, y_train)\n",
        "    pred=model.predict(X_test)\n",
        "    error = sqrt(mean_squared_error(y_test,pred))\n",
        "    rmse_val.append(error)\n",
        "    print('RMSE value for k= ' , K , 'is:', error)"
      ],
      "metadata": {
        "id": "ZzthNK_ceMt_",
        "colab": {
          "base_uri": "https://localhost:8080/"
        },
        "outputId": "49fca4e2-e813-4e3b-ae06-4ec31d1a1829"
      },
      "id": "ZzthNK_ceMt_",
      "execution_count": null,
      "outputs": [
        {
          "output_type": "stream",
          "name": "stdout",
          "text": [
            "RMSE value for k=  1 is: 0.1326734491501611\n",
            "RMSE value for k=  2 is: 0.12004066381908376\n",
            "RMSE value for k=  3 is: 0.1168763290010286\n",
            "RMSE value for k=  4 is: 0.11591044161807665\n",
            "RMSE value for k=  5 is: 0.11437516595418629\n",
            "RMSE value for k=  6 is: 0.11330911095379417\n",
            "RMSE value for k=  7 is: 0.11393255445264497\n",
            "RMSE value for k=  8 is: 0.11356115417069301\n",
            "RMSE value for k=  9 is: 0.11331750789351563\n",
            "RMSE value for k=  10 is: 0.11391143864324894\n",
            "RMSE value for k=  11 is: 0.11428490215209544\n",
            "RMSE value for k=  12 is: 0.11373931200832516\n",
            "RMSE value for k=  13 is: 0.11383701169434036\n",
            "RMSE value for k=  14 is: 0.11367006028142192\n",
            "RMSE value for k=  15 is: 0.11383450892588354\n",
            "RMSE value for k=  16 is: 0.11375800990383447\n",
            "RMSE value for k=  17 is: 0.11385959290601919\n",
            "RMSE value for k=  18 is: 0.11384549941944609\n",
            "RMSE value for k=  19 is: 0.11389704442901911\n",
            "RMSE value for k=  20 is: 0.1141269229815062\n",
            "RMSE value for k=  21 is: 0.11404597188492828\n",
            "RMSE value for k=  22 is: 0.11404247133746663\n",
            "RMSE value for k=  23 is: 0.11403524268198628\n",
            "RMSE value for k=  24 is: 0.11422886290551314\n",
            "RMSE value for k=  25 is: 0.11392330091686953\n",
            "RMSE value for k=  26 is: 0.11390980989082054\n",
            "RMSE value for k=  27 is: 0.11377744090641323\n",
            "RMSE value for k=  28 is: 0.11393276546605702\n",
            "RMSE value for k=  29 is: 0.113870206264569\n",
            "RMSE value for k=  30 is: 0.11377506478686762\n",
            "RMSE value for k=  31 is: 0.11383417148265396\n",
            "RMSE value for k=  32 is: 0.11362486256431273\n",
            "RMSE value for k=  33 is: 0.11360033165752251\n",
            "RMSE value for k=  34 is: 0.11343858146684789\n",
            "RMSE value for k=  35 is: 0.1132583380604305\n",
            "RMSE value for k=  36 is: 0.1135424489873674\n",
            "RMSE value for k=  37 is: 0.11355103622043662\n",
            "RMSE value for k=  38 is: 0.1134027982925176\n",
            "RMSE value for k=  39 is: 0.11343018583516586\n",
            "RMSE value for k=  40 is: 0.11340767392539555\n"
          ]
        }
      ]
    },
    {
      "cell_type": "code",
      "source": [
        "# Plotting the rmse values against k values\n",
        "curve = pd.DataFrame(rmse_val) # elbow curve \n",
        "curve.plot()"
      ],
      "metadata": {
        "id": "bdJYyZhqeNUM",
        "colab": {
          "base_uri": "https://localhost:8080/",
          "height": 282
        },
        "outputId": "b3f102d3-8440-486e-f010-fde6ddc42160"
      },
      "id": "bdJYyZhqeNUM",
      "execution_count": null,
      "outputs": [
        {
          "output_type": "execute_result",
          "data": {
            "text/plain": [
              "<matplotlib.axes._subplots.AxesSubplot at 0x7fa04f8c4f50>"
            ]
          },
          "metadata": {},
          "execution_count": 94
        },
        {
          "output_type": "display_data",
          "data": {
            "text/plain": [
              "<Figure size 432x288 with 1 Axes>"
            ],
            "image/png": "[encoded data removed]"
          },
          "metadata": {
            "needs_background": "light"
          }
        }
      ]
    },
    {
      "cell_type": "code",
      "source": [
        "knn_model = KNeighborsRegressor(n_neighbors=28)"
      ],
      "metadata": {
        "id": "QmxdLdWM1zU6"
      },
      "id": "QmxdLdWM1zU6",
      "execution_count": null,
      "outputs": []
    },
    {
      "cell_type": "code",
      "source": [
        "knn_model.fit(X_train, y_train)"
      ],
      "metadata": {
        "id": "RGLrkJtR1_HH",
        "colab": {
          "base_uri": "https://localhost:8080/"
        },
        "outputId": "031d3982-4f46-43e1-b425-76fb8843c4e0"
      },
      "id": "RGLrkJtR1_HH",
      "execution_count": null,
      "outputs": [
        {
          "output_type": "execute_result",
          "data": {
            "text/plain": [
              "KNeighborsRegressor(n_neighbors=28)"
            ]
          },
          "metadata": {},
          "execution_count": 96
        }
      ]
    },
    {
      "cell_type": "code",
      "source": [
        "train_preds = knn_model.predict(X_train)\n",
        "mse = mean_squared_error(y_train, train_preds)\n",
        "rmse = sqrt(mse)\n",
        "rmse"
      ],
      "metadata": {
        "id": "HarvN1yR10Uw",
        "colab": {
          "base_uri": "https://localhost:8080/"
        },
        "outputId": "c3aa8316-bfdb-4e53-eaf3-9749ab37f20d"
      },
      "id": "HarvN1yR10Uw",
      "execution_count": null,
      "outputs": [
        {
          "output_type": "execute_result",
          "data": {
            "text/plain": [
              "0.09231744822950903"
            ]
          },
          "metadata": {},
          "execution_count": 97
        }
      ]
    },
    {
      "cell_type": "code",
      "source": [
        "test_preds = knn_model.predict(X_test)\n",
        "mse = mean_squared_error(y_test, test_preds)\n",
        "rmse = sqrt(mse)\n",
        "rmse"
      ],
      "metadata": {
        "id": "1WVeRUZv14eR",
        "colab": {
          "base_uri": "https://localhost:8080/"
        },
        "outputId": "138cf55e-4cdc-4ffa-9b9e-24e4634cb8ca"
      },
      "id": "1WVeRUZv14eR",
      "execution_count": null,
      "outputs": [
        {
          "output_type": "execute_result",
          "data": {
            "text/plain": [
              "0.11393276546605702"
            ]
          },
          "metadata": {},
          "execution_count": 98
        }
      ]
    }
  ],
  "metadata": {
    "kernelspec": {
      "display_name": "Python 3 (ipykernel)",
      "language": "python",
      "name": "python3"
    },
    "language_info": {
      "codemirror_mode": {
        "name": "ipython",
        "version": 3
      },
      "file_extension": ".py",
      "mimetype": "text/x-python",
      "name": "python",
      "nbconvert_exporter": "python",
      "pygments_lexer": "ipython3",
      "version": "3.9.7"
    },
    "colab": {
      "name": "J RWJF zip code.ipynb",
      "provenance": [],
      "collapsed_sections": [],
      "include_colab_link": true
    }
  },
  "nbformat": 4,
  "nbformat_minor": 5
}